{
 "cells": [
  {
   "cell_type": "code",
   "execution_count": 0,
   "metadata": {
    "application/vnd.databricks.v1+cell": {
     "cellMetadata": {
      "byteLimit": 2048000,
      "rowLimit": 10000
     },
     "inputWidgets": {},
     "nuid": "525815d3-3a5d-4e8f-8592-91220c6fa4dc",
     "showTitle": false,
     "title": ""
    }
   },
   "outputs": [
    {
     "output_type": "display_data",
     "data": {
      "text/html": [
       "\n",
       "            <div>\n",
       "                <p><b>SparkSession - hive</b></p>\n",
       "                \n",
       "        <div>\n",
       "            <p><b>SparkContext</b></p>\n",
       "\n",
       "            <p><a href=\"/?o=3904762757991411#setting/sparkui/0507-053235-bfrznod1/driver-9047172296688890208\">Spark UI</a></p>\n",
       "\n",
       "            <dl>\n",
       "              <dt>Version</dt>\n",
       "                <dd><code>v3.3.2</code></dd>\n",
       "              <dt>Master</dt>\n",
       "                <dd><code>local[8]</code></dd>\n",
       "              <dt>AppName</dt>\n",
       "                <dd><code>Databricks Shell</code></dd>\n",
       "            </dl>\n",
       "        </div>\n",
       "        \n",
       "            </div>\n",
       "        "
      ]
     },
     "metadata": {
      "application/vnd.databricks.v1+output": {
       "addedWidgets": {},
       "arguments": {},
       "data": "\n            <div>\n                <p><b>SparkSession - hive</b></p>\n                \n        <div>\n            <p><b>SparkContext</b></p>\n\n            <p><a href=\"/?o=3904762757991411#setting/sparkui/0507-053235-bfrznod1/driver-9047172296688890208\">Spark UI</a></p>\n\n            <dl>\n              <dt>Version</dt>\n                <dd><code>v3.3.2</code></dd>\n              <dt>Master</dt>\n                <dd><code>local[8]</code></dd>\n              <dt>AppName</dt>\n                <dd><code>Databricks Shell</code></dd>\n            </dl>\n        </div>\n        \n            </div>\n        ",
       "datasetInfos": [],
       "metadata": {},
       "removedWidgets": [],
       "textData": null,
       "type": "htmlSandbox"
      }
     },
     "output_type": "display_data"
    }
   ],
   "source": [
    "spark"
   ]
  },
  {
   "cell_type": "code",
   "execution_count": 0,
   "metadata": {
    "application/vnd.databricks.v1+cell": {
     "cellMetadata": {
      "byteLimit": 2048000,
      "rowLimit": 10000
     },
     "inputWidgets": {},
     "nuid": "94e26bb4-8781-4c70-886f-00ebf7176e9a",
     "showTitle": false,
     "title": ""
    }
   },
   "outputs": [],
   "source": [
    "#Importing Libraries\n",
    "\n",
    "from pyspark.sql import SparkSession\n",
    "from pyspark.sql.types import StructField, StructType, IntegerType, StringType, DecimalType, BooleanType, DateType\n",
    "from pyspark.sql.functions import col, when, sum, avg, row_number\n",
    "from pyspark.sql.window import Window\n"
   ]
  },
  {
   "cell_type": "code",
   "execution_count": 0,
   "metadata": {
    "application/vnd.databricks.v1+cell": {
     "cellMetadata": {
      "byteLimit": 2048000,
      "rowLimit": 10000
     },
     "inputWidgets": {},
     "nuid": "cdf9416e-cb98-45be-af58-da1bcef9dcd9",
     "showTitle": false,
     "title": ""
    }
   },
   "outputs": [],
   "source": [
    "#creating SparkSession\n",
    "\n",
    "spark = SparkSession.builder.appName('Ipl_Analysis').getOrCreate()\n"
   ]
  },
  {
   "cell_type": "code",
   "execution_count": 0,
   "metadata": {
    "application/vnd.databricks.v1+cell": {
     "cellMetadata": {
      "byteLimit": 2048000,
      "rowLimit": 10000
     },
     "inputWidgets": {},
     "nuid": "5dab7c71-99ae-4cba-88f7-6a08ee46b5c2",
     "showTitle": false,
     "title": ""
    }
   },
   "outputs": [
    {
     "output_type": "display_data",
     "data": {
      "text/html": [
       "<style scoped>\n",
       "  .ansiout {\n",
       "    display: block;\n",
       "    unicode-bidi: embed;\n",
       "    white-space: pre-wrap;\n",
       "    word-wrap: break-word;\n",
       "    word-break: break-all;\n",
       "    font-family: \"Menlo\", \"Monaco\", \"Consolas\", \"Ubuntu Mono\", \"Source Code Pro\", monospace;\n",
       "    font-size: 13px;\n",
       "    color: #555;\n",
       "    margin-left: 4px;\n",
       "    line-height: 19px;\n",
       "  }\n",
       "</style>"
      ]
     },
     "metadata": {
      "application/vnd.databricks.v1+output": {
       "arguments": {},
       "data": "",
       "errorSummary": "Cancelled",
       "errorTraceType": "html",
       "metadata": {},
       "type": "ipynbError"
      }
     },
     "output_type": "display_data"
    }
   ],
   "source": [
    "#importing Dataset Ball by ball\n",
    "ball_by_ball_schema = StructType([\n",
    "  StructField('MatcH_id', IntegerType(), True),\n",
    "  StructField(\"over_id\", IntegerType(), True),\n",
    "  StructField(\"ball_id\", IntegerType(), True),\n",
    "  StructField(\"innings_no\", IntegerType(), True),\n",
    "  StructField(\"team_batting\", StringType(), True),\n",
    "  StructField(\"team_bowling\", StringType(), True),\n",
    "  StructField(\"striker_batting_position\", IntegerType(), True),\n",
    "  StructField(\"extra_type\", StringType(), True),\n",
    "  StructField(\"runs_scored\", IntegerType(), True),\n",
    "  StructField(\"extra_runs\", IntegerType(), True),\n",
    "  StructField(\"wides\", IntegerType(), True),\n",
    "  StructField(\"legbyes\", IntegerType(), True),\n",
    "  StructField(\"byes\", IntegerType(), True),\n",
    "  StructField(\"noballs\", IntegerType(), True),\n",
    "  StructField(\"penalty\", IntegerType(), True),\n",
    "  StructField(\"bowler_extras\", IntegerType(), True),\n",
    "  StructField(\"out_type\", StringType(), True),\n",
    "  StructField(\"caught\", BooleanType()),\n",
    "  StructField(\"bowled\", BooleanType()),\n",
    "  StructField(\"run_out\", BooleanType()),\n",
    "  StructField(\"lbw\", BooleanType()),\n",
    "  StructField(\"retired_hurt\", BooleanType()),\n",
    "  StructField(\"stumped\", BooleanType(), True),\n",
    "  StructField(\"caught_and_bowled\", BooleanType(), True),\n",
    "  StructField(\"hit_wicket\", BooleanType(), True),\n",
    "  StructField(\"obstructingfeild\", BooleanType(), True),\n",
    "  StructField(\"bowler_wicket\", BooleanType(), True),\n",
    "  StructField(\"match_date\", DateType(), True),\n",
    "  StructField(\"season\", IntegerType(), True),\n",
    "  StructField(\"striker\", IntegerType(), True),\n",
    "  StructField(\"non_striker\", IntegerType(), True),\n",
    "  StructField(\"bowler\", IntegerType(), True),\n",
    "  StructField(\"player_out\", IntegerType(), True),\n",
    "  StructField(\"fielders\", IntegerType(), True),\n",
    "  StructField(\"striker_match_sk\", IntegerType(), True),\n",
    "  StructField(\"strikersk\", StringType(), True),\n",
    "  StructField(\"nonstriker_match_sk\", IntegerType(), True),\n",
    "  StructField(\"nonstriker_sk\", IntegerType(), True),\n",
    "  StructField(\"fielder_match_sk\", IntegerType(), True),\n",
    "  StructField(\"fielder_sk\", IntegerType(), True),\n",
    "  StructField(\"bowler_match_sk\", IntegerType(), True),\n",
    "  StructField(\"bowler_sk\", IntegerType(), True),\n",
    "  StructField(\"playerout_match_sk\", IntegerType(), True),\n",
    "  StructField(\"battingteam_sk\", IntegerType(), True),\n",
    "  StructField(\"bowlingteam_sk\", IntegerType(), True),\n",
    "  StructField(\"keeper_catch\", BooleanType(), True),\n",
    "  StructField(\"player_out_sk\", IntegerType(), True),\n",
    "  StructField(\"matchdatesk\", DateType(), True),\n",
    "])\n",
    "\n",
    "\n",
    "ball_by_ball_df = spark.read.schema(ball_by_ball_schema).format('csv').option('header','true').load('s3://ipl-data-analysis-project/Ball_By_Ball.csv')\n"
   ]
  },
  {
   "cell_type": "code",
   "execution_count": 0,
   "metadata": {
    "application/vnd.databricks.v1+cell": {
     "cellMetadata": {
      "byteLimit": 2048000,
      "rowLimit": 10000
     },
     "inputWidgets": {},
     "nuid": "215e7f82-8f42-44ed-980c-3311266b5ea6",
     "showTitle": false,
     "title": ""
    }
   },
   "outputs": [
    {
     "output_type": "display_data",
     "data": {
      "text/html": [
       "<style scoped>\n",
       "  .ansiout {\n",
       "    display: block;\n",
       "    unicode-bidi: embed;\n",
       "    white-space: pre-wrap;\n",
       "    word-wrap: break-word;\n",
       "    word-break: break-all;\n",
       "    font-family: \"Menlo\", \"Monaco\", \"Consolas\", \"Ubuntu Mono\", \"Source Code Pro\", monospace;\n",
       "    font-size: 13px;\n",
       "    color: #555;\n",
       "    margin-left: 4px;\n",
       "    line-height: 19px;\n",
       "  }\n",
       "</style>"
      ]
     },
     "metadata": {
      "application/vnd.databricks.v1+output": {
       "arguments": {},
       "data": "",
       "errorSummary": "Command skipped",
       "errorTraceType": "html",
       "metadata": {},
       "type": "ipynbError"
      }
     },
     "output_type": "display_data"
    }
   ],
   "source": [
    "#importing DataSet matches\n",
    "\n",
    "match_schema = StructType([\n",
    "    StructField(\"match_sk\", IntegerType(), True),\n",
    "    StructField(\"match_id\", IntegerType(), True),\n",
    "    StructField(\"team1\", StringType(), True),\n",
    "    StructField(\"team2\", StringType(), True),\n",
    "    StructField(\"match_date\", DateType(), True),\n",
    "    StructField(\"season_year\", IntegerType(), True),\n",
    "    StructField(\"venue_name\", StringType(), True),\n",
    "    StructField(\"city_name\", StringType(), True),\n",
    "    StructField(\"country_name\", StringType(), True),\n",
    "    StructField(\"toss_winner\", StringType(), True),\n",
    "    StructField(\"match_winner\", StringType(), True),\n",
    "    StructField(\"toss_name\", StringType(), True),\n",
    "    StructField(\"win_type\", StringType(), True),\n",
    "    StructField(\"outcome_type\", StringType(), True),\n",
    "    StructField(\"manofmach\", StringType(), True),\n",
    "    StructField(\"win_margin\", IntegerType(), True),\n",
    "    StructField(\"country_id\", IntegerType(), True)\n",
    "])\n",
    "match_df = spark.read.schema(match_schema).format(\"csv\").option(\"header\",\"true\").load(\"/FileStore/tables/Match.csv\")\n"
   ]
  },
  {
   "cell_type": "code",
   "execution_count": 0,
   "metadata": {
    "application/vnd.databricks.v1+cell": {
     "cellMetadata": {
      "byteLimit": 2048000,
      "rowLimit": 10000
     },
     "inputWidgets": {},
     "nuid": "261d5f9e-2f09-4699-949e-2434926412f7",
     "showTitle": false,
     "title": ""
    }
   },
   "outputs": [
    {
     "output_type": "display_data",
     "data": {
      "text/html": [
       "<style scoped>\n",
       "  .ansiout {\n",
       "    display: block;\n",
       "    unicode-bidi: embed;\n",
       "    white-space: pre-wrap;\n",
       "    word-wrap: break-word;\n",
       "    word-break: break-all;\n",
       "    font-family: \"Menlo\", \"Monaco\", \"Consolas\", \"Ubuntu Mono\", \"Source Code Pro\", monospace;\n",
       "    font-size: 13px;\n",
       "    color: #555;\n",
       "    margin-left: 4px;\n",
       "    line-height: 19px;\n",
       "  }\n",
       "</style>"
      ]
     },
     "metadata": {
      "application/vnd.databricks.v1+output": {
       "arguments": {},
       "data": "",
       "errorSummary": "Command skipped",
       "errorTraceType": "html",
       "metadata": {},
       "type": "ipynbError"
      }
     },
     "output_type": "display_data"
    }
   ],
   "source": [
    "#importing Dataset Players\n",
    "\n",
    "Players_schema = StructType([\n",
    "  StructField(\"player_sk\", IntegerType(), True),\n",
    "  StructField(\"player_id\", IntegerType(), True),\n",
    "  StructField(\"player_name\", StringType(), True),\n",
    "  StructField(\"dob\", DateType(), True),\n",
    "  StructField(\"batting_hand\", StringType(), True),\n",
    "  StructField(\"bowling_skill\", StringType(), True),\n",
    "  StructField(\"country_name\", StringType(), True),\n",
    "])\n",
    "\n",
    "Players_df = spark.read.schema(Players_schema).format('csv').option('header','True').load(\"s3://ipl-data-analysis-project/Player.csv\")"
   ]
  },
  {
   "cell_type": "code",
   "execution_count": 0,
   "metadata": {
    "application/vnd.databricks.v1+cell": {
     "cellMetadata": {
      "byteLimit": 2048000,
      "rowLimit": 10000
     },
     "inputWidgets": {},
     "nuid": "53944ddd-67e4-486b-9ea0-24038ce29b32",
     "showTitle": false,
     "title": ""
    }
   },
   "outputs": [
    {
     "output_type": "display_data",
     "data": {
      "text/html": [
       "<style scoped>\n",
       "  .ansiout {\n",
       "    display: block;\n",
       "    unicode-bidi: embed;\n",
       "    white-space: pre-wrap;\n",
       "    word-wrap: break-word;\n",
       "    word-break: break-all;\n",
       "    font-family: \"Menlo\", \"Monaco\", \"Consolas\", \"Ubuntu Mono\", \"Source Code Pro\", monospace;\n",
       "    font-size: 13px;\n",
       "    color: #555;\n",
       "    margin-left: 4px;\n",
       "    line-height: 19px;\n",
       "  }\n",
       "</style>"
      ]
     },
     "metadata": {
      "application/vnd.databricks.v1+output": {
       "arguments": {},
       "data": "",
       "errorSummary": "Command skipped",
       "errorTraceType": "html",
       "metadata": {},
       "type": "ipynbError"
      }
     },
     "output_type": "display_data"
    }
   ],
   "source": [
    "#importing dataset Teams\n",
    "\n",
    "Teams_schema = StructType([\n",
    "    StructField('team_sk', IntegerType(), True),\n",
    "    StructField('team_id', IntegerType(), True),\n",
    "    StructField('team_name', StringType(), True)\n",
    "])\n",
    "\n",
    "Teams_df = spark.read.schema(Teams_schema).format('csv').option('Header','True').load('s3://ipl-data-analysis-project/Team.csv')"
   ]
  },
  {
   "cell_type": "code",
   "execution_count": 0,
   "metadata": {
    "application/vnd.databricks.v1+cell": {
     "cellMetadata": {
      "byteLimit": 2048000,
      "rowLimit": 10000
     },
     "inputWidgets": {},
     "nuid": "2c80e5cc-0c14-4588-a3d8-4ae10e13fee3",
     "showTitle": false,
     "title": ""
    }
   },
   "outputs": [
    {
     "output_type": "display_data",
     "data": {
      "text/html": [
       "<style scoped>\n",
       "  .ansiout {\n",
       "    display: block;\n",
       "    unicode-bidi: embed;\n",
       "    white-space: pre-wrap;\n",
       "    word-wrap: break-word;\n",
       "    word-break: break-all;\n",
       "    font-family: \"Menlo\", \"Monaco\", \"Consolas\", \"Ubuntu Mono\", \"Source Code Pro\", monospace;\n",
       "    font-size: 13px;\n",
       "    color: #555;\n",
       "    margin-left: 4px;\n",
       "    line-height: 19px;\n",
       "  }\n",
       "</style>"
      ]
     },
     "metadata": {
      "application/vnd.databricks.v1+output": {
       "arguments": {},
       "data": "",
       "errorSummary": "Command skipped",
       "errorTraceType": "html",
       "metadata": {},
       "type": "ipynbError"
      }
     },
     "output_type": "display_data"
    }
   ],
   "source": [
    "#importing Dataset player_match\n",
    "\n",
    "Player_match_schema = StructType([\n",
    "  StructField(\"player_match_sk\", IntegerType(), True),\n",
    "  StructField(\"playermatch_key\", DecimalType(10, 0), True),\n",
    "  StructField(\"match_id\", IntegerType(), True),\n",
    "  StructField(\"player_id\", IntegerType(), True),\n",
    "  StructField(\"player_name\", StringType(), True),\n",
    "  StructField(\"dob\", DateType(), True),\n",
    "  StructField(\"batting_hand\", StringType(), True),\n",
    "  StructField(\"bowling_skill\", StringType(), True),\n",
    "  StructField(\"country_name\", StringType(), True),\n",
    "  StructField(\"role_desc\", StringType(), True),\n",
    "  StructField(\"player_team\", StringType(), True),\n",
    "  StructField(\"opposit_team\", StringType(), True),\n",
    "  StructField(\"season_year\", IntegerType(), True),\n",
    "  StructField(\"is_manofthematch\", BooleanType(), True),\n",
    "  StructField(\"age_as_on_match\", IntegerType(), True),\n",
    "  StructField(\"isplayers_team_won\", BooleanType(), True),\n",
    "  StructField(\"batting_status\", StringType(), True),\n",
    "  StructField(\"bowling_status\", StringType(), True),\n",
    "  StructField(\"player_captain\", StringType(), True),\n",
    "  StructField(\"opposit_captain\", StringType(), True),\n",
    "  StructField(\"player_keeper\", StringType(), True),\n",
    "  StructField(\"opposit_keeper\", StringType(), True),\n",
    "])\n",
    "\n",
    "Player_match_df = spark.read.schema(Player_match_schema).format('csv').option('Header','True').load('s3://ipl-data-analysis-project/Player_match.csv')"
   ]
  },
  {
   "cell_type": "code",
   "execution_count": 0,
   "metadata": {
    "application/vnd.databricks.v1+cell": {
     "cellMetadata": {
      "byteLimit": 2048000,
      "rowLimit": 10000
     },
     "inputWidgets": {},
     "nuid": "23155814-af1f-4519-99fc-a0591cf66b22",
     "showTitle": false,
     "title": ""
    }
   },
   "outputs": [
    {
     "output_type": "display_data",
     "data": {
      "text/html": [
       "<style scoped>\n",
       "  .ansiout {\n",
       "    display: block;\n",
       "    unicode-bidi: embed;\n",
       "    white-space: pre-wrap;\n",
       "    word-wrap: break-word;\n",
       "    word-break: break-all;\n",
       "    font-family: \"Menlo\", \"Monaco\", \"Consolas\", \"Ubuntu Mono\", \"Source Code Pro\", monospace;\n",
       "    font-size: 13px;\n",
       "    color: #555;\n",
       "    margin-left: 4px;\n",
       "    line-height: 19px;\n",
       "  }\n",
       "</style>"
      ]
     },
     "metadata": {
      "application/vnd.databricks.v1+output": {
       "arguments": {},
       "data": "",
       "errorSummary": "Command skipped",
       "errorTraceType": "html",
       "metadata": {},
       "type": "ipynbError"
      }
     },
     "output_type": "display_data"
    }
   ],
   "source": [
    "#filter to include only valid deliveries (excluding extras like wide and no ball for specific analysis)\n",
    "\n",
    "ball_by_ball_df = ball_by_ball_df.filter((col('wides') == 0) & (col('noballs') == 0))\n",
    "\n",
    "# Aggregation: Calculate the total and average runs scored in each match and inning\n",
    "\n",
    "Total_and_average_runs = ball_by_ball_df.groupBy(\"match_id\", \"innings_no\").agg(\n",
    "    sum('runs_scored').alias('Total_runs'),\n",
    "    avg('runs_scored').alias('Average_runs'))"
   ]
  },
  {
   "cell_type": "code",
   "execution_count": 0,
   "metadata": {
    "application/vnd.databricks.v1+cell": {
     "cellMetadata": {
      "byteLimit": 2048000,
      "rowLimit": 10000
     },
     "inputWidgets": {},
     "nuid": "ba56b762-cab7-4c1a-b226-3e7705629f19",
     "showTitle": false,
     "title": ""
    }
   },
   "outputs": [
    {
     "output_type": "display_data",
     "data": {
      "text/html": [
       "<style scoped>\n",
       "  .ansiout {\n",
       "    display: block;\n",
       "    unicode-bidi: embed;\n",
       "    white-space: pre-wrap;\n",
       "    word-wrap: break-word;\n",
       "    word-break: break-all;\n",
       "    font-family: \"Menlo\", \"Monaco\", \"Consolas\", \"Ubuntu Mono\", \"Source Code Pro\", monospace;\n",
       "    font-size: 13px;\n",
       "    color: #555;\n",
       "    margin-left: 4px;\n",
       "    line-height: 19px;\n",
       "  }\n",
       "</style>"
      ]
     },
     "metadata": {
      "application/vnd.databricks.v1+output": {
       "arguments": {},
       "data": "",
       "errorSummary": "Command skipped",
       "errorTraceType": "html",
       "metadata": {},
       "type": "ipynbError"
      }
     },
     "output_type": "display_data"
    }
   ],
   "source": [
    "\n",
    "# Window Function: Calculate running total of runs in each match for each over\n",
    "\n",
    "window_spec = Window.partitionBy('match_id','innings_no').orderBy('over_id')\n",
    "\n",
    "ball_by_ball_df = ball_by_ball_df.withColumn('running_total_runs', sum('runs_scored').over(window_spec))\n"
   ]
  },
  {
   "cell_type": "code",
   "execution_count": 0,
   "metadata": {
    "application/vnd.databricks.v1+cell": {
     "cellMetadata": {
      "byteLimit": 2048000,
      "rowLimit": 10000
     },
     "inputWidgets": {},
     "nuid": "21dc8503-cca1-44b4-b209-be1de45f73fc",
     "showTitle": false,
     "title": ""
    }
   },
   "outputs": [
    {
     "output_type": "display_data",
     "data": {
      "text/html": [
       "<style scoped>\n",
       "  .ansiout {\n",
       "    display: block;\n",
       "    unicode-bidi: embed;\n",
       "    white-space: pre-wrap;\n",
       "    word-wrap: break-word;\n",
       "    word-break: break-all;\n",
       "    font-family: \"Menlo\", \"Monaco\", \"Consolas\", \"Ubuntu Mono\", \"Source Code Pro\", monospace;\n",
       "    font-size: 13px;\n",
       "    color: #555;\n",
       "    margin-left: 4px;\n",
       "    line-height: 19px;\n",
       "  }\n",
       "</style>"
      ]
     },
     "metadata": {
      "application/vnd.databricks.v1+output": {
       "arguments": {},
       "data": "",
       "errorSummary": "Command skipped",
       "errorTraceType": "html",
       "metadata": {},
       "type": "ipynbError"
      }
     },
     "output_type": "display_data"
    }
   ],
   "source": [
    " # Conditional Column: Flag for high impact balls (either a wicket or more than 6 runs including extras)\n",
    "\n",
    " ball_by_ball_df = ball_by_ball_df.withColumn('High_Impact', when((col('runs_scored') + col('extra_runs') > 6) | (col('bowler_wicket') == True), True).otherwise(False))"
   ]
  },
  {
   "cell_type": "code",
   "execution_count": 0,
   "metadata": {
    "application/vnd.databricks.v1+cell": {
     "cellMetadata": {
      "byteLimit": 2048000,
      "rowLimit": 10000
     },
     "inputWidgets": {},
     "nuid": "e1e84a50-bb1c-42bf-b596-5363e094a1d5",
     "showTitle": true,
     "title": ""
    }
   },
   "outputs": [
    {
     "output_type": "display_data",
     "data": {
      "text/html": [
       "<style scoped>\n",
       "  .ansiout {\n",
       "    display: block;\n",
       "    unicode-bidi: embed;\n",
       "    white-space: pre-wrap;\n",
       "    word-wrap: break-word;\n",
       "    word-break: break-all;\n",
       "    font-family: \"Menlo\", \"Monaco\", \"Consolas\", \"Ubuntu Mono\", \"Source Code Pro\", monospace;\n",
       "    font-size: 13px;\n",
       "    color: #555;\n",
       "    margin-left: 4px;\n",
       "    line-height: 19px;\n",
       "  }\n",
       "</style>"
      ]
     },
     "metadata": {
      "application/vnd.databricks.v1+output": {
       "arguments": {},
       "data": "",
       "errorSummary": "Command skipped",
       "errorTraceType": "html",
       "metadata": {},
       "type": "ipynbError"
      }
     },
     "output_type": "display_data"
    }
   ],
   "source": [
    "from pyspark.sql.functions import dayofmonth, year, month, when\n",
    "\n",
    "# Extracting year, month, and day from the match date for more detailed time-based analysis\n",
    "match_df = match_df.withColumn(\"year\", year(\"match_date\"))\n",
    "match_df = match_df.withColumn('month', month(\"match_date\"))\n",
    "match_df = match_df.withColumn('Day', dayofmonth(\"match_date\"))\n",
    "\n",
    "# High margin win: categorizing win margins into 'high', 'medium', and 'low'\n",
    "\n",
    "match_df = match_df.withColumn(\"Win_margin_category\", when((col(\"Win_Margin\") < 50) & ((col(\"Win_Type\") == 'run') | (col(\"Win_Type\") == 'runs')),'Low') \\\n",
    "                               .when((col(\"Win_margin\") >= 50) & (col(\"Win_margin\") <= 100),'Medium').when((col(\"win_margin\") >= 1) & (col(\"win_margin\") <= 3) & (col(\"Win_type\") == 'wickets'),'Low') \\\n",
    "                               .when((col(\"Win_margin\") > 3) & (col(\"Win_margin\") < 7) & (col(\"Win_Type\") == 'wickets'),\"Medium\") \\\n",
    "                               .when(col(\"win_margin\") > 100, 'High') \\\n",
    "                               .when((col(\"Win_margin\") >= 7) & (col(\"Win_margin\") <= 10) & (col(\"Win_Type\") == 'wickets'),\"High\") \\\n",
    "                               .otherwise('NA'))\n",
    " \n",
    "\n",
    "\n",
    "# Analyze the impact of the toss: who wins the toss and the match\n",
    "\n",
    "match_df = match_df.withColumn(\"Toss_match_winner\", when(col(\"toss_winner\") == col(\"match_winner\"), \"Yes\").otherwise(\"No\"))\n"
   ]
  },
  {
   "cell_type": "code",
   "execution_count": 0,
   "metadata": {
    "application/vnd.databricks.v1+cell": {
     "cellMetadata": {
      "byteLimit": 2048000,
      "rowLimit": 10000
     },
     "inputWidgets": {},
     "nuid": "d838348d-4705-4cff-a68f-a90556298534",
     "showTitle": false,
     "title": ""
    }
   },
   "outputs": [
    {
     "output_type": "display_data",
     "data": {
      "text/html": [
       "<style scoped>\n",
       "  .ansiout {\n",
       "    display: block;\n",
       "    unicode-bidi: embed;\n",
       "    white-space: pre-wrap;\n",
       "    word-wrap: break-word;\n",
       "    word-break: break-all;\n",
       "    font-family: \"Menlo\", \"Monaco\", \"Consolas\", \"Ubuntu Mono\", \"Source Code Pro\", monospace;\n",
       "    font-size: 13px;\n",
       "    color: #555;\n",
       "    margin-left: 4px;\n",
       "    line-height: 19px;\n",
       "  }\n",
       "</style>"
      ]
     },
     "metadata": {
      "application/vnd.databricks.v1+output": {
       "arguments": {},
       "data": "",
       "errorSummary": "Command skipped",
       "errorTraceType": "html",
       "metadata": {},
       "type": "ipynbError"
      }
     },
     "output_type": "display_data"
    }
   ],
   "source": [
    "from pyspark.sql.functions import regexp_replace, lower\n",
    "\n",
    "# Normalize and clean player names\n",
    "Players_df = Players_df.withColumn(\"player_name\", lower(regexp_replace(\"player_name\",\"[^a-zA-Z0-9 ]\", \"\")))\n",
    "\n",
    "## Handle missing values in 'batting_hand' and 'bowling_skill' with a default 'unknown'\n",
    "Players_df = Players_df.na.fill({\"batting_hand\":\"unknown\", \"bowling_skill\":\"unknown\"})\n",
    "\n",
    "\n",
    "# Categorizing players based on batting hand\n",
    "Players_df = Players_df.withColumn(\"Batting_style\", when(col(\"batting_hand\").contains(\"Left\"),'Left-Handed').otherwise(\"Right-Handed\"))\n",
    "\n",
    "\n"
   ]
  },
  {
   "cell_type": "code",
   "execution_count": 0,
   "metadata": {
    "application/vnd.databricks.v1+cell": {
     "cellMetadata": {
      "byteLimit": 2048000,
      "rowLimit": 10000
     },
     "inputWidgets": {},
     "nuid": "23df75a5-2121-41bb-ba0f-ba3f3ef94e6b",
     "showTitle": false,
     "title": ""
    }
   },
   "outputs": [
    {
     "output_type": "display_data",
     "data": {
      "text/html": [
       "<style scoped>\n",
       "  .ansiout {\n",
       "    display: block;\n",
       "    unicode-bidi: embed;\n",
       "    white-space: pre-wrap;\n",
       "    word-wrap: break-word;\n",
       "    word-break: break-all;\n",
       "    font-family: \"Menlo\", \"Monaco\", \"Consolas\", \"Ubuntu Mono\", \"Source Code Pro\", monospace;\n",
       "    font-size: 13px;\n",
       "    color: #555;\n",
       "    margin-left: 4px;\n",
       "    line-height: 19px;\n",
       "  }\n",
       "</style>"
      ]
     },
     "metadata": {
      "application/vnd.databricks.v1+output": {
       "arguments": {},
       "data": "",
       "errorSummary": "Command skipped",
       "errorTraceType": "html",
       "metadata": {},
       "type": "ipynbError"
      }
     },
     "output_type": "display_data"
    }
   ],
   "source": [
    "from pyspark.sql.functions import col, when, expr, current_date\n",
    "\n",
    "# Add a 'veteran_status' column based on player age\n",
    "Player_match_df = Player_match_df.withColumn(\"Veterran_Status\", when(col(\"Age_as_on_match\") >= 35,\"Veteran\").otherwise(\"Non-Veteran\"))\n",
    "\n",
    "## Dynamic column to calculate years since debut\n",
    "\n",
    "Player_match_df = Player_match_df.withColumn(\"Years_since_debut\", (2017 - col(\"season_year\")))\n"
   ]
  },
  {
   "cell_type": "code",
   "execution_count": 0,
   "metadata": {
    "application/vnd.databricks.v1+cell": {
     "cellMetadata": {
      "byteLimit": 2048000,
      "rowLimit": 10000
     },
     "inputWidgets": {},
     "nuid": "2a3f56fc-159b-4ef1-9549-86106eee6096",
     "showTitle": false,
     "title": ""
    }
   },
   "outputs": [],
   "source": [
    "#creating tempviews from dfs:\n",
    "\n",
    "ball_by_ball_df.createOrReplaceTempView(\"ball_by_ball\")\n",
    "match_df.createOrReplaceTempView(\"matches\")\n",
    "Players_df.createOrReplaceTempView(\"player\")\n",
    "Player_match_df.createOrReplaceTempView(\"player_match\")\n",
    "Teams_df.createOrReplaceTempView(\"team\")"
   ]
  },
  {
   "cell_type": "code",
   "execution_count": 0,
   "metadata": {
    "application/vnd.databricks.v1+cell": {
     "cellMetadata": {
      "byteLimit": 2048000,
      "rowLimit": 10000
     },
     "inputWidgets": {},
     "nuid": "fffe1598-ec6b-4615-9789-ee78e4f5f4a0",
     "showTitle": false,
     "title": ""
    }
   },
   "outputs": [
    {
     "output_type": "display_data",
     "data": {
      "text/html": [
       "<style scoped>\n",
       "  .ansiout {\n",
       "    display: block;\n",
       "    unicode-bidi: embed;\n",
       "    white-space: pre-wrap;\n",
       "    word-wrap: break-word;\n",
       "    word-break: break-all;\n",
       "    font-family: \"Menlo\", \"Monaco\", \"Consolas\", \"Ubuntu Mono\", \"Source Code Pro\", monospace;\n",
       "    font-size: 13px;\n",
       "    color: #555;\n",
       "    margin-left: 4px;\n",
       "    line-height: 19px;\n",
       "  }\n",
       "</style>"
      ]
     },
     "metadata": {
      "application/vnd.databricks.v1+output": {
       "arguments": {},
       "data": "",
       "errorSummary": "Command skipped",
       "errorTraceType": "html",
       "metadata": {},
       "type": "ipynbError"
      }
     },
     "output_type": "display_data"
    }
   ],
   "source": [
    "display(Player_match_df.limit(20))"
   ]
  },
  {
   "cell_type": "code",
   "execution_count": 0,
   "metadata": {
    "application/vnd.databricks.v1+cell": {
     "cellMetadata": {
      "byteLimit": 2048000,
      "implicitDf": true,
      "rowLimit": 10000
     },
     "inputWidgets": {},
     "nuid": "b247d933-3ebe-4f38-a4a7-be87a517cbb8",
     "showTitle": false,
     "title": ""
    },
    "jupyter": {
     "outputs_hidden": true
    }
   },
   "outputs": [
    {
     "output_type": "stream",
     "name": "stdout",
     "output_type": "stream",
     "text": [
      "+-----------+------------+------------------+\n|season_year| player_name|Highest_total_Runs|\n+-----------+------------+------------------+\n|       2008|    SE Marsh|               614|\n|       2009|   ML Hayden|               571|\n|       2010|SR Tendulkar|               615|\n|       2011|    CH Gayle|               598|\n|       2012|    CH Gayle|               720|\n|       2013|  MEK Hussey|               732|\n|       2014|  RV Uthappa|               659|\n|       2015|   DA Warner|               554|\n|       2016|     V Kohli|               962|\n|       2017|   DA Warner|               634|\n+-----------+------------+------------------+\n\n"
     ]
    }
   ],
   "source": [
    "\n",
    "\n",
    "Top_scoring_batsmen_per_season = spark.sql(\"\"\"\n",
    "select t.season_year,t.player_name, t.Total_runs as Highest_total_Runs from\n",
    "(select pm.player_name, m.season_year, sum(b.runs_scored) as Total_runs,dense_rank() over(partition by m.season_year order by sum(b.runs_scored)  desc) as rnk from ball_by_ball b\n",
    "join matches m on b.match_id = m.match_id\n",
    "join player_match pm on m.match_id = pm.match_id and b.striker = pm.player_id\n",
    "group by pm.player_name, m.season_year\n",
    "order by m.season_year, Total_runs desc) t\n",
    "where rnk = 1\"\"\")\n",
    "\n",
    "Top_scoring_batsmen_per_season.show(10)\n"
   ]
  },
  {
   "cell_type": "code",
   "execution_count": 0,
   "metadata": {
    "application/vnd.databricks.v1+cell": {
     "cellMetadata": {
      "byteLimit": 2048000,
      "rowLimit": 10000
     },
     "inputWidgets": {},
     "nuid": "fa28cd64-0e67-445a-a5a1-6c229720d54c",
     "showTitle": false,
     "title": ""
    }
   },
   "outputs": [
    {
     "output_type": "display_data",
     "data": {
      "text/html": [
       "<style scoped>\n",
       "  .table-result-container {\n",
       "    max-height: 300px;\n",
       "    overflow: auto;\n",
       "  }\n",
       "  table, th, td {\n",
       "    border: 1px solid black;\n",
       "    border-collapse: collapse;\n",
       "  }\n",
       "  th, td {\n",
       "    padding: 5px;\n",
       "  }\n",
       "  th {\n",
       "    text-align: left;\n",
       "  }\n",
       "</style><div class='table-result-container'><table class='table-result'><thead style='background-color: white'><tr><th>season_year</th><th>player_name</th><th>Highest_total_Runs</th></tr></thead><tbody><tr><td>2008</td><td>SE Marsh</td><td>614</td></tr><tr><td>2009</td><td>ML Hayden</td><td>571</td></tr><tr><td>2010</td><td>SR Tendulkar</td><td>615</td></tr><tr><td>2011</td><td>CH Gayle</td><td>598</td></tr><tr><td>2012</td><td>CH Gayle</td><td>720</td></tr><tr><td>2013</td><td>MEK Hussey</td><td>732</td></tr><tr><td>2014</td><td>RV Uthappa</td><td>659</td></tr><tr><td>2015</td><td>DA Warner</td><td>554</td></tr><tr><td>2016</td><td>V Kohli</td><td>962</td></tr><tr><td>2017</td><td>DA Warner</td><td>634</td></tr></tbody></table></div>"
      ]
     },
     "metadata": {
      "application/vnd.databricks.v1+output": {
       "addedWidgets": {},
       "aggData": [],
       "aggError": "",
       "aggOverflow": false,
       "aggSchema": [],
       "aggSeriesLimitReached": false,
       "aggType": "",
       "arguments": {},
       "columnCustomDisplayInfos": {},
       "data": [
        [
         2008,
         "SE Marsh",
         614
        ],
        [
         2009,
         "ML Hayden",
         571
        ],
        [
         2010,
         "SR Tendulkar",
         615
        ],
        [
         2011,
         "CH Gayle",
         598
        ],
        [
         2012,
         "CH Gayle",
         720
        ],
        [
         2013,
         "MEK Hussey",
         732
        ],
        [
         2014,
         "RV Uthappa",
         659
        ],
        [
         2015,
         "DA Warner",
         554
        ],
        [
         2016,
         "V Kohli",
         962
        ],
        [
         2017,
         "DA Warner",
         634
        ]
       ],
       "datasetInfos": [],
       "dbfsResultPath": null,
       "isJsonSchema": true,
       "metadata": {},
       "overflow": false,
       "plotOptions": {
        "customPlotOptions": {},
        "displayType": "table",
        "pivotAggregation": null,
        "pivotColumns": null,
        "xColumns": null,
        "yColumns": null
       },
       "removedWidgets": [],
       "schema": [
        {
         "metadata": "{}",
         "name": "season_year",
         "type": "\"integer\""
        },
        {
         "metadata": "{}",
         "name": "player_name",
         "type": "\"string\""
        },
        {
         "metadata": "{}",
         "name": "Highest_total_Runs",
         "type": "\"long\""
        }
       ],
       "type": "table"
      }
     },
     "output_type": "display_data"
    },
    {
     "output_type": "display_data",
     "data": {
      "text/plain": [
       "Databricks visualization. Run in Databricks to view."
      ]
     },
     "metadata": {
      "application/vnd.databricks.v1.subcommand+json": {
       "baseErrorDetails": null,
       "bindings": {},
       "collapsed": false,
       "command": "display(Top_scoring_batsmen_per_season)",
       "commandTitle": "Visualization 1",
       "commandType": "auto",
       "commandVersion": 0,
       "commentThread": [],
       "commentsVisible": false,
       "contentSha256Hex": null,
       "customPlotOptions": {
        "redashChart": [
         {
          "key": "type",
          "value": "DETAILS"
         },
         {
          "key": "options",
          "value": {
           "columns": [
            {
             "name": "season_year",
             "title": "season_year",
             "type": "integer"
            },
            {
             "name": "player_name",
             "title": "player_name",
             "type": "string"
            },
            {
             "name": "Highest_total_Runs",
             "title": "Highest_total_Runs",
             "type": "integer"
            }
           ],
           "version": 1
          }
         }
        ]
       },
       "datasetPreviewNameToCmdIdMap": {},
       "diffDeletes": [],
       "diffInserts": [],
       "displayType": "redashChart",
       "error": null,
       "errorDetails": null,
       "errorSummary": null,
       "errorTraceType": null,
       "finishTime": 0,
       "globalVars": {},
       "guid": "",
       "height": "auto",
       "hideCommandCode": false,
       "hideCommandResult": false,
       "iPythonMetadata": null,
       "inputWidgets": {},
       "isLockedInExamMode": false,
       "latestUser": "a user",
       "latestUserId": null,
       "listResultMetadata": null,
       "metadata": {},
       "nuid": "d8170cc9-ef15-40af-959c-6a869f377482",
       "origId": 0,
       "parentHierarchy": [],
       "pivotAggregation": null,
       "pivotColumns": null,
       "position": 15.5,
       "resultDbfsErrorMessage": null,
       "resultDbfsStatus": "INLINED_IN_TREE",
       "results": null,
       "showCommandTitle": false,
       "startTime": 0,
       "state": "input",
       "streamStates": {},
       "subcommandOptions": {},
       "submitTime": 0,
       "subtype": "tableResultSubCmd.visualization",
       "tableResultIndex": 0,
       "useConsistentColors": false,
       "version": "CommandV1",
       "width": "auto",
       "workflows": [],
       "xColumns": null,
       "yColumns": null
      }
     },
     "output_type": "display_data"
    }
   ],
   "source": [
    "display(Top_scoring_batsmen_per_season)"
   ]
  },
  {
   "cell_type": "code",
   "execution_count": 0,
   "metadata": {
    "application/vnd.databricks.v1+cell": {
     "cellMetadata": {
      "byteLimit": 2048000,
      "implicitDf": true,
      "rowLimit": 10000
     },
     "inputWidgets": {},
     "nuid": "43192ae9-a1b6-4959-8093-95c72b23be23",
     "showTitle": false,
     "title": ""
    },
    "jupyter": {
     "outputs_hidden": true
    }
   },
   "outputs": [
    {
     "output_type": "display_data",
     "data": {
      "text/html": [
       "<style scoped>\n",
       "  .table-result-container {\n",
       "    max-height: 300px;\n",
       "    overflow: auto;\n",
       "  }\n",
       "  table, th, td {\n",
       "    border: 1px solid black;\n",
       "    border-collapse: collapse;\n",
       "  }\n",
       "  th, td {\n",
       "    padding: 5px;\n",
       "  }\n",
       "  th {\n",
       "    text-align: left;\n",
       "  }\n",
       "</style><div class='table-result-container'><table class='table-result'><thead style='background-color: white'><tr><th>player_name</th><th>Avg_runs_per_ball</th><th>Total_wickets</th></tr></thead><tbody><tr><td>SM Harwood</td><td>0.16666666666666666</td><td>0</td></tr><tr><td>AJ Tye</td><td>0.3333333333333333</td><td>2</td></tr><tr><td>Ankit Soni</td><td>0.5</td><td>1</td></tr><tr><td>Avesh Khan</td><td>0.5</td><td>1</td></tr><tr><td>GR Napier</td><td>0.5</td><td>0</td></tr><tr><td>AJ Finch</td><td>0.5</td><td>0</td></tr><tr><td>A Zampa</td><td>0.5</td><td>0</td></tr><tr><td>Mohammad Nabi</td><td>0.5833333333333334</td><td>1</td></tr><tr><td>NB Singh</td><td>0.5833333333333334</td><td>1</td></tr><tr><td>Rashid Khan</td><td>0.6666666666666666</td><td>2</td></tr><tr><td>SB Bangar</td><td>0.6666666666666666</td><td>1</td></tr><tr><td>A Uniyal</td><td>0.6666666666666666</td><td>1</td></tr><tr><td>FH Edwards</td><td>0.6923076923076923</td><td>4</td></tr><tr><td>A Kumble</td><td>0.7444444444444445</td><td>2</td></tr><tr><td>AG Murtaza</td><td>0.75</td><td>2</td></tr><tr><td>SMSM Senanayake</td><td>0.7619047619047619</td><td>3</td></tr><tr><td>KP Pietersen</td><td>0.7777777777777778</td><td>1</td></tr><tr><td>J Syed Mohammad</td><td>0.7777777777777778</td><td>1</td></tr><tr><td>R Dhawan</td><td>0.8055555555555556</td><td>1</td></tr><tr><td>Mustafizur Rahman</td><td>0.8055555555555556</td><td>1</td></tr><tr><td>D du Preez</td><td>0.8333333333333334</td><td>2</td></tr><tr><td>JR Hopes</td><td>0.8333333333333334</td><td>1</td></tr><tr><td>RJ Peterson</td><td>0.8333333333333334</td><td>0</td></tr><tr><td>TL Suman</td><td>0.8333333333333334</td><td>0</td></tr><tr><td>A Mishra</td><td>0.8461538461538461</td><td>6</td></tr><tr><td>M Muralitharan</td><td>0.8977272727272727</td><td>3</td></tr><tr><td>SP Narine</td><td>0.9067796610169492</td><td>12</td></tr><tr><td>T Thushara</td><td>0.9074074074074074</td><td>2</td></tr><tr><td>C de Grandhomme</td><td>0.9166666666666666</td><td>0</td></tr><tr><td>B Kumar</td><td>0.9314345991561181</td><td>39</td></tr><tr><td>GD McGrath</td><td>0.9324324324324325</td><td>9</td></tr><tr><td>R Ashwin</td><td>0.9457831325301205</td><td>24</td></tr><tr><td>Sohail Tanvir</td><td>0.946969696969697</td><td>6</td></tr><tr><td>A Chandila</td><td>0.9513888888888888</td><td>10</td></tr><tr><td>SL Malinga</td><td>0.9523809523809523</td><td>32</td></tr><tr><td>DW Steyn</td><td>0.9563953488372093</td><td>30</td></tr><tr><td>DP Nannes</td><td>0.9642857142857143</td><td>17</td></tr><tr><td>A Singh</td><td>0.9666666666666667</td><td>12</td></tr><tr><td>Washington Sundar</td><td>0.9666666666666667</td><td>2</td></tr><tr><td>A Symonds</td><td>0.9696969696969697</td><td>4</td></tr><tr><td>M Ntini</td><td>0.9722222222222222</td><td>4</td></tr><tr><td>KW Richardson</td><td>0.9733333333333334</td><td>9</td></tr><tr><td>R Rampaul</td><td>0.9807692307692307</td><td>9</td></tr><tr><td>DL Vettori</td><td>0.9848484848484849</td><td>0</td></tr><tr><td>AC Thomas</td><td>0.9885057471264368</td><td>8</td></tr><tr><td>BW Hilfenhaus</td><td>0.9956140350877193</td><td>11</td></tr><tr><td>KK Cooper</td><td>1.0</td><td>2</td></tr><tr><td>Umar Gul</td><td>1.0</td><td>2</td></tr><tr><td>KA Pollard</td><td>1.0</td><td>1</td></tr><tr><td>JE Taylor</td><td>1.0</td><td>0</td></tr><tr><td>NL McCullum</td><td>1.0</td><td>0</td></tr><tr><td>TP Sudhindra</td><td>1.0</td><td>0</td></tr><tr><td>R Tewatia</td><td>1.0</td><td>0</td></tr><tr><td>RJ Harris</td><td>1.005050505050505</td><td>14</td></tr><tr><td>Ankit Sharma</td><td>1.0072463768115942</td><td>6</td></tr><tr><td>CK Langeveldt</td><td>1.0128205128205128</td><td>6</td></tr><tr><td>Bipul Sharma</td><td>1.0151515151515151</td><td>4</td></tr><tr><td>SM Pollock</td><td>1.02020202020202</td><td>9</td></tr><tr><td>WPUJC Vaas</td><td>1.0208333333333333</td><td>17</td></tr><tr><td>SE Bond</td><td>1.0238095238095237</td><td>4</td></tr><tr><td>TS Mills</td><td>1.0277777777777777</td><td>2</td></tr><tr><td>MA Starc</td><td>1.0296296296296297</td><td>9</td></tr><tr><td>M Kartik</td><td>1.036231884057971</td><td>4</td></tr><tr><td>JJ Bumrah</td><td>1.0378787878787878</td><td>7</td></tr><tr><td>Iqbal Abdulla</td><td>1.0394736842105263</td><td>11</td></tr><tr><td>PP Chawla</td><td>1.0422535211267605</td><td>4</td></tr><tr><td>AA Chavan</td><td>1.0454545454545454</td><td>3</td></tr><tr><td>P Kumar</td><td>1.049966239027684</td><td>42</td></tr><tr><td>Jaskaran Singh</td><td>1.0555555555555556</td><td>1</td></tr><tr><td>KAJ Roach</td><td>1.0555555555555556</td><td>0</td></tr><tr><td>WD Parnell</td><td>1.0585585585585586</td><td>9</td></tr><tr><td>Harbhajan Singh</td><td>1.0586854460093897</td><td>15</td></tr><tr><td>YK Pathan</td><td>1.065359477124183</td><td>12</td></tr><tr><td>M Morkel</td><td>1.0684754521963824</td><td>30</td></tr><tr><td>CH Gayle</td><td>1.0729166666666667</td><td>3</td></tr><tr><td>Z Khan</td><td>1.0795454545454546</td><td>55</td></tr><tr><td>Sandeep Sharma</td><td>1.081989247311828</td><td>37</td></tr><tr><td>L Balaji</td><td>1.082051282051282</td><td>13</td></tr><tr><td>RE van der Merwe</td><td>1.0833333333333333</td><td>4</td></tr><tr><td>D Wiese</td><td>1.0833333333333333</td><td>3</td></tr><tr><td>AL Menaria</td><td>1.0833333333333333</td><td>1</td></tr><tr><td>Shoaib Ahmed</td><td>1.0833333333333333</td><td>1</td></tr><tr><td>NJ Rimmington</td><td>1.0833333333333333</td><td>0</td></tr><tr><td>B Lee</td><td>1.0854700854700854</td><td>12</td></tr><tr><td>AD Russell</td><td>1.0864197530864197</td><td>9</td></tr><tr><td>AM Salvi</td><td>1.0925925925925926</td><td>1</td></tr><tr><td>RP Singh</td><td>1.0957207207207207</td><td>32</td></tr><tr><td>SB Wagh</td><td>1.0972222222222223</td><td>3</td></tr><tr><td>IC Pandey</td><td>1.0975609756097562</td><td>11</td></tr><tr><td>DJ Muthuswami</td><td>1.1</td><td>3</td></tr><tr><td>S Nadeem</td><td>1.1021505376344085</td><td>6</td></tr><tr><td>DE Bollinger</td><td>1.1028368794326242</td><td>9</td></tr><tr><td>NM Coulter-Nile</td><td>1.1031746031746033</td><td>11</td></tr><tr><td>MN Samuels</td><td>1.106060606060606</td><td>2</td></tr><tr><td>JH Kallis</td><td>1.1091954022988506</td><td>9</td></tr><tr><td>Imran Tahir</td><td>1.1111111111111112</td><td>1</td></tr><tr><td>IK Pathan</td><td>1.1145124716553287</td><td>31</td></tr><tr><td>KMDN Kulasekara</td><td>1.1166666666666667</td><td>3</td></tr><tr><td>S Tyagi</td><td>1.1180555555555556</td><td>4</td></tr><tr><td>VS Malik</td><td>1.125</td><td>3</td></tr><tr><td>AR Patel</td><td>1.125</td><td>1</td></tr><tr><td>JW Hastings</td><td>1.125</td><td>0</td></tr><tr><td>DS Kulkarni</td><td>1.1258503401360545</td><td>34</td></tr><tr><td>MM Patel</td><td>1.1260647359454856</td><td>29</td></tr><tr><td>SW Tait</td><td>1.1262626262626263</td><td>5</td></tr><tr><td>SR Watson</td><td>1.1273666092943202</td><td>25</td></tr><tr><td>Azhar Mahmood</td><td>1.1274509803921569</td><td>4</td></tr><tr><td>BA Bhatt</td><td>1.1282051282051282</td><td>4</td></tr><tr><td>I Sharma</td><td>1.1289537712895377</td><td>32</td></tr><tr><td>S Sreesanth</td><td>1.1296296296296295</td><td>23</td></tr><tr><td>R Sharma</td><td>1.1296296296296295</td><td>1</td></tr><tr><td>AB Dinda</td><td>1.1391076115485563</td><td>34</td></tr><tr><td>JP Duminy</td><td>1.143939393939394</td><td>3</td></tr><tr><td>PP Ojha</td><td>1.1474358974358974</td><td>6</td></tr><tr><td>YA Abdulla</td><td>1.1527777777777777</td><td>5</td></tr><tr><td>JD Unadkat</td><td>1.154320987654321</td><td>11</td></tr><tr><td>Anureet Singh</td><td>1.1666666666666667</td><td>6</td></tr><tr><td>GS Sandhu</td><td>1.1666666666666667</td><td>0</td></tr><tr><td>DAJ Bracewell</td><td>1.1666666666666667</td><td>0</td></tr><tr><td>SM Boland</td><td>1.1666666666666667</td><td>0</td></tr><tr><td>Anand Rajan</td><td>1.1666666666666667</td><td>0</td></tr><tr><td>M Vijay</td><td>1.1666666666666667</td><td>0</td></tr><tr><td>JD Ryder</td><td>1.1666666666666667</td><td>0</td></tr><tr><td>KS Williamson</td><td>1.1666666666666667</td><td>0</td></tr><tr><td>CR Brathwaite</td><td>1.1666666666666667</td><td>0</td></tr><tr><td>R Vinay Kumar</td><td>1.1718213058419245</td><td>27</td></tr><tr><td>BAW Mendis</td><td>1.1730769230769231</td><td>2</td></tr><tr><td>CH Morris</td><td>1.1785714285714286</td><td>13</td></tr><tr><td>TA Boult</td><td>1.1785714285714286</td><td>3</td></tr><tr><td>MG Johnson</td><td>1.1794871794871795</td><td>27</td></tr><tr><td>A Nehra</td><td>1.184959349593496</td><td>43</td></tr><tr><td>Shoaib Akhtar</td><td>1.1904761904761905</td><td>5</td></tr><tr><td>J Yadav</td><td>1.1904761904761905</td><td>0</td></tr><tr><td>JP Faulkner</td><td>1.1911262798634812</td><td>17</td></tr><tr><td>KH Pandya</td><td>1.1944444444444444</td><td>2</td></tr><tr><td>NLTC Perera</td><td>1.1984126984126984</td><td>4</td></tr><tr><td>TG Southee</td><td>1.2023809523809523</td><td>11</td></tr><tr><td>KV Sharma</td><td>1.2058823529411764</td><td>3</td></tr><tr><td>S Kaul</td><td>1.2066666666666668</td><td>6</td></tr><tr><td>MC Henriques</td><td>1.2083333333333333</td><td>6</td></tr><tr><td>J Botha</td><td>1.2083333333333333</td><td>4</td></tr><tr><td>DP Vijaykumar</td><td>1.2083333333333333</td><td>3</td></tr><tr><td>MJ McClenaghan</td><td>1.2109375</td><td>16</td></tr><tr><td>P Awana</td><td>1.2121212121212122</td><td>9</td></tr><tr><td>AN Ahmed</td><td>1.212962962962963</td><td>3</td></tr><tr><td>DT Christian</td><td>1.2166666666666666</td><td>4</td></tr><tr><td>S Badree</td><td>1.2222222222222223</td><td>7</td></tr><tr><td>SK Warne</td><td>1.2222222222222223</td><td>1</td></tr><tr><td>DNT Zoysa</td><td>1.2222222222222223</td><td>0</td></tr><tr><td>UT Yadav</td><td>1.2253968253968255</td><td>24</td></tr><tr><td>Shakib Al Hasan</td><td>1.2268518518518519</td><td>8</td></tr><tr><td>PV Tambe</td><td>1.2291666666666667</td><td>3</td></tr><tr><td>RR Powar</td><td>1.2301587301587302</td><td>5</td></tr><tr><td>S Aravind</td><td>1.2305555555555556</td><td>15</td></tr><tr><td>AD Mathews</td><td>1.2307692307692308</td><td>5</td></tr><tr><td>SB Styris</td><td>1.2333333333333334</td><td>0</td></tr><tr><td>BA Stokes</td><td>1.2361111111111112</td><td>4</td></tr><tr><td>AD Mascarenhas</td><td>1.2391304347826086</td><td>10</td></tr><tr><td>CRD Fernando</td><td>1.2407407407407407</td><td>4</td></tr><tr><td>A Choudhary</td><td>1.25</td><td>3</td></tr><tr><td>MM Sharma</td><td>1.2634408602150538</td><td>24</td></tr><tr><td>Pankaj Singh</td><td>1.2666666666666666</td><td>6</td></tr><tr><td>VY Mahesh</td><td>1.2666666666666666</td><td>1</td></tr><tr><td>DJ Hooda</td><td>1.2666666666666666</td><td>0</td></tr><tr><td>JJ van der Wath</td><td>1.2666666666666666</td><td>0</td></tr><tr><td>STR Binny</td><td>1.2698412698412698</td><td>7</td></tr><tr><td>K Rabada</td><td>1.2727272727272727</td><td>4</td></tr><tr><td>VR Aaron</td><td>1.2857142857142858</td><td>6</td></tr><tr><td>LH Ferguson</td><td>1.2916666666666667</td><td>1</td></tr><tr><td>JA Morkel</td><td>1.3033854166666667</td><td>29</td></tr><tr><td>RG Sharma</td><td>1.3055555555555556</td><td>2</td></tr><tr><td>M de Lange</td><td>1.3095238095238095</td><td>2</td></tr><tr><td>RA Jadeja</td><td>1.3148148148148149</td><td>1</td></tr><tr><td>R McLaren</td><td>1.3174603174603174</td><td>3</td></tr><tr><td>HV Patel</td><td>1.32</td><td>7</td></tr><tr><td>Kamran Khan</td><td>1.3333333333333333</td><td>6</td></tr><tr><td>AS Rajpoot</td><td>1.3333333333333333</td><td>2</td></tr><tr><td>GB Hogg</td><td>1.3333333333333333</td><td>2</td></tr><tr><td>Parvez Rasool</td><td>1.3333333333333333</td><td>1</td></tr><tr><td>KP Appanna</td><td>1.3333333333333333</td><td>0</td></tr><tr><td>T Natarajan</td><td>1.3333333333333333</td><td>0</td></tr><tr><td>Tejas Baroka</td><td>1.3333333333333333</td><td>0</td></tr><tr><td>SA Yadav</td><td>1.3333333333333333</td><td>0</td></tr><tr><td>B Stanlake</td><td>1.3333333333333333</td><td>0</td></tr><tr><td>AC Voges</td><td>1.3333333333333333</td><td>0</td></tr><tr><td>A Flintoff</td><td>1.3333333333333333</td><td>0</td></tr><tr><td>SJ Srivastava</td><td>1.3431372549019607</td><td>4</td></tr><tr><td>MF Maharoof</td><td>1.35</td><td>7</td></tr><tr><td>Mohammed Shami</td><td>1.3527131782945736</td><td>6</td></tr><tr><td>DJ Bravo</td><td>1.368421052631579</td><td>7</td></tr><tr><td>JO Holder</td><td>1.369047619047619</td><td>5</td></tr><tr><td>YS Chahal</td><td>1.375</td><td>6</td></tr><tr><td>GH Vihari</td><td>1.375</td><td>1</td></tr><tr><td>PJ Cummins</td><td>1.380952380952381</td><td>4</td></tr><tr><td>SK Raina</td><td>1.380952380952381</td><td>1</td></tr><tr><td>MS Gony</td><td>1.3813131313131313</td><td>15</td></tr><tr><td>AB Agarkar</td><td>1.3833333333333333</td><td>3</td></tr><tr><td>DJG Sammy</td><td>1.3888888888888888</td><td>0</td></tr><tr><td>V Pratap Singh</td><td>1.4027777777777777</td><td>2</td></tr><tr><td>PJ Sangwan</td><td>1.4068441064638784</td><td>11</td></tr><tr><td>DL Chahar</td><td>1.4074074074074074</td><td>1</td></tr><tr><td>P Suyal</td><td>1.4259259259259258</td><td>1</td></tr><tr><td>BB Sran</td><td>1.4318181818181819</td><td>5</td></tr><tr><td>TM Dilshan</td><td>1.4333333333333333</td><td>0</td></tr><tr><td>SN Thakur</td><td>1.4444444444444444</td><td>3</td></tr><tr><td>S Dhawan</td><td>1.4444444444444444</td><td>1</td></tr><tr><td>SB Jakati</td><td>1.4545454545454546</td><td>1</td></tr><tr><td>VRV Singh</td><td>1.4583333333333333</td><td>0</td></tr><tr><td>Basil Thampi</td><td>1.4895833333333333</td><td>2</td></tr><tr><td>Harmeet Singh</td><td>1.5</td><td>4</td></tr><tr><td>R Shukla</td><td>1.5</td><td>3</td></tr><tr><td>A Mithun</td><td>1.5</td><td>1</td></tr><tr><td>K Upadhyay</td><td>1.5</td><td>0</td></tr><tr><td>Kuldeep Yadav</td><td>1.5</td><td>0</td></tr><tr><td>S Narwal</td><td>1.5185185185185186</td><td>3</td></tr><tr><td>AF Milne</td><td>1.5238095238095237</td><td>0</td></tr><tr><td>BCJ Cutting</td><td>1.5333333333333334</td><td>0</td></tr><tr><td>P Negi</td><td>1.5555555555555556</td><td>2</td></tr><tr><td>Joginder Sharma</td><td>1.5555555555555556</td><td>0</td></tr><tr><td>CJ Anderson</td><td>1.5692307692307692</td><td>2</td></tr><tr><td>CJ Jordan</td><td>1.5833333333333333</td><td>2</td></tr><tr><td>Gurkeerat Singh</td><td>1.5833333333333333</td><td>0</td></tr><tr><td>SK Trivedi</td><td>1.5897435897435896</td><td>3</td></tr><tr><td>MR Marsh</td><td>1.619047619047619</td><td>3</td></tr><tr><td>JDP Oram</td><td>1.625</td><td>4</td></tr><tr><td>AA Jhunjhunwala</td><td>1.625</td><td>0</td></tr><tr><td>DR Smith</td><td>1.6428571428571428</td><td>4</td></tr><tr><td>Mohammad Asif</td><td>1.6547619047619047</td><td>2</td></tr><tr><td>BE Hendricks</td><td>1.6666666666666667</td><td>1</td></tr><tr><td>S Ladda</td><td>1.6666666666666667</td><td>1</td></tr><tr><td>DJ Hussey</td><td>1.6666666666666667</td><td>0</td></tr><tr><td>ST Jayasuriya</td><td>1.6666666666666667</td><td>0</td></tr><tr><td>S Kaushik</td><td>1.6666666666666667</td><td>0</td></tr><tr><td>HH Pandya</td><td>1.6666666666666667</td><td>0</td></tr><tr><td>AM Nayar</td><td>1.6666666666666667</td><td>0</td></tr><tr><td>KJ Abbott</td><td>1.6666666666666667</td><td>0</td></tr><tr><td>Y Nagar</td><td>1.6666666666666667</td><td>0</td></tr><tr><td>KC Cariappa</td><td>1.7222222222222223</td><td>0</td></tr><tr><td>CR Woakes</td><td>1.7272727272727273</td><td>1</td></tr><tr><td>AB McDonald</td><td>1.7666666666666666</td><td>2</td></tr><tr><td>ND Doshi</td><td>1.7777777777777777</td><td>1</td></tr><tr><td>J Theron</td><td>1.8</td><td>2</td></tr><tr><td>Mohammed Siraj</td><td>1.8166666666666667</td><td>3</td></tr><tr><td>Shahid Afridi</td><td>1.8333333333333333</td><td>0</td></tr><tr><td>M Ashwin</td><td>1.8333333333333333</td><td>0</td></tr><tr><td>SS Agarwal</td><td>1.8333333333333333</td><td>0</td></tr><tr><td>RA Shaikh</td><td>1.8333333333333333</td><td>0</td></tr><tr><td>B Geeves</td><td>1.875</td><td>1</td></tr><tr><td>AP Dole</td><td>1.9</td><td>2</td></tr><tr><td>Y Venugopal Rao</td><td>1.9</td><td>1</td></tr><tr><td>MP Stoinis</td><td>1.9</td><td>0</td></tr><tr><td>J Suchith</td><td>1.9333333333333333</td><td>1</td></tr><tr><td>P Parameswaran</td><td>2.0</td><td>2</td></tr><tr><td>A Nel</td><td>2.0</td><td>1</td></tr><tr><td>LR Shukla</td><td>2.0</td><td>0</td></tr><tr><td>MJ Henry</td><td>2.0</td><td>0</td></tr><tr><td>P Amarnath</td><td>2.0</td><td>0</td></tr><tr><td>RR Bose</td><td>2.0</td><td>0</td></tr><tr><td>K Santokie</td><td>2.0</td><td>0</td></tr><tr><td>Sunny Gupta</td><td>2.0</td><td>0</td></tr><tr><td>B Akhil</td><td>2.0</td><td>0</td></tr><tr><td>JEC Franklin</td><td>2.0</td><td>0</td></tr><tr><td>LJ Wright</td><td>2.0</td><td>0</td></tr><tr><td>S Randiv</td><td>2.0</td><td>0</td></tr><tr><td>Mashrafe Mortaza</td><td>2.0833333333333335</td><td>0</td></tr><tr><td>BJ Hodge</td><td>2.0833333333333335</td><td>0</td></tr><tr><td>SA Abbott</td><td>2.111111111111111</td><td>0</td></tr><tr><td>L Ablish</td><td>2.1666666666666665</td><td>1</td></tr><tr><td>CJ McKay</td><td>2.1666666666666665</td><td>0</td></tr><tr><td>Karanveer Singh</td><td>2.1666666666666665</td><td>0</td></tr><tr><td>MB Parmar</td><td>2.1666666666666665</td><td>0</td></tr><tr><td>RW Price</td><td>2.3333333333333335</td><td>0</td></tr><tr><td>RG More</td><td>2.5</td><td>0</td></tr><tr><td>SS Sarkar</td><td>2.5</td><td>0</td></tr><tr><td>GJ Maxwell</td><td>2.7222222222222223</td><td>0</td></tr><tr><td>AA Noffke</td><td>2.8333333333333335</td><td>0</td></tr><tr><td>R Bhatia</td><td>3.0</td><td>0</td></tr><tr><td>MG Neser</td><td>3.0</td><td>0</td></tr><tr><td>V Sehwag</td><td>3.5</td><td>0</td></tr></tbody></table></div>"
      ]
     },
     "metadata": {
      "application/vnd.databricks.v1+output": {
       "addedWidgets": {},
       "aggData": [],
       "aggError": "",
       "aggOverflow": false,
       "aggSchema": [],
       "aggSeriesLimitReached": false,
       "aggType": "",
       "arguments": {},
       "columnCustomDisplayInfos": {},
       "data": [
        [
         "SM Harwood",
         0.16666666666666666,
         0
        ],
        [
         "AJ Tye",
         0.3333333333333333,
         2
        ],
        [
         "Ankit Soni",
         0.5,
         1
        ],
        [
         "Avesh Khan",
         0.5,
         1
        ],
        [
         "GR Napier",
         0.5,
         0
        ],
        [
         "AJ Finch",
         0.5,
         0
        ],
        [
         "A Zampa",
         0.5,
         0
        ],
        [
         "Mohammad Nabi",
         0.5833333333333334,
         1
        ],
        [
         "NB Singh",
         0.5833333333333334,
         1
        ],
        [
         "Rashid Khan",
         0.6666666666666666,
         2
        ],
        [
         "SB Bangar",
         0.6666666666666666,
         1
        ],
        [
         "A Uniyal",
         0.6666666666666666,
         1
        ],
        [
         "FH Edwards",
         0.6923076923076923,
         4
        ],
        [
         "A Kumble",
         0.7444444444444445,
         2
        ],
        [
         "AG Murtaza",
         0.75,
         2
        ],
        [
         "SMSM Senanayake",
         0.7619047619047619,
         3
        ],
        [
         "KP Pietersen",
         0.7777777777777778,
         1
        ],
        [
         "J Syed Mohammad",
         0.7777777777777778,
         1
        ],
        [
         "R Dhawan",
         0.8055555555555556,
         1
        ],
        [
         "Mustafizur Rahman",
         0.8055555555555556,
         1
        ],
        [
         "D du Preez",
         0.8333333333333334,
         2
        ],
        [
         "JR Hopes",
         0.8333333333333334,
         1
        ],
        [
         "RJ Peterson",
         0.8333333333333334,
         0
        ],
        [
         "TL Suman",
         0.8333333333333334,
         0
        ],
        [
         "A Mishra",
         0.8461538461538461,
         6
        ],
        [
         "M Muralitharan",
         0.8977272727272727,
         3
        ],
        [
         "SP Narine",
         0.9067796610169492,
         12
        ],
        [
         "T Thushara",
         0.9074074074074074,
         2
        ],
        [
         "C de Grandhomme",
         0.9166666666666666,
         0
        ],
        [
         "B Kumar",
         0.9314345991561181,
         39
        ],
        [
         "GD McGrath",
         0.9324324324324325,
         9
        ],
        [
         "R Ashwin",
         0.9457831325301205,
         24
        ],
        [
         "Sohail Tanvir",
         0.946969696969697,
         6
        ],
        [
         "A Chandila",
         0.9513888888888888,
         10
        ],
        [
         "SL Malinga",
         0.9523809523809523,
         32
        ],
        [
         "DW Steyn",
         0.9563953488372093,
         30
        ],
        [
         "DP Nannes",
         0.9642857142857143,
         17
        ],
        [
         "A Singh",
         0.9666666666666667,
         12
        ],
        [
         "Washington Sundar",
         0.9666666666666667,
         2
        ],
        [
         "A Symonds",
         0.9696969696969697,
         4
        ],
        [
         "M Ntini",
         0.9722222222222222,
         4
        ],
        [
         "KW Richardson",
         0.9733333333333334,
         9
        ],
        [
         "R Rampaul",
         0.9807692307692307,
         9
        ],
        [
         "DL Vettori",
         0.9848484848484849,
         0
        ],
        [
         "AC Thomas",
         0.9885057471264368,
         8
        ],
        [
         "BW Hilfenhaus",
         0.9956140350877193,
         11
        ],
        [
         "KK Cooper",
         1.0,
         2
        ],
        [
         "Umar Gul",
         1.0,
         2
        ],
        [
         "KA Pollard",
         1.0,
         1
        ],
        [
         "JE Taylor",
         1.0,
         0
        ],
        [
         "NL McCullum",
         1.0,
         0
        ],
        [
         "TP Sudhindra",
         1.0,
         0
        ],
        [
         "R Tewatia",
         1.0,
         0
        ],
        [
         "RJ Harris",
         1.005050505050505,
         14
        ],
        [
         "Ankit Sharma",
         1.0072463768115942,
         6
        ],
        [
         "CK Langeveldt",
         1.0128205128205128,
         6
        ],
        [
         "Bipul Sharma",
         1.0151515151515151,
         4
        ],
        [
         "SM Pollock",
         1.02020202020202,
         9
        ],
        [
         "WPUJC Vaas",
         1.0208333333333333,
         17
        ],
        [
         "SE Bond",
         1.0238095238095237,
         4
        ],
        [
         "TS Mills",
         1.0277777777777777,
         2
        ],
        [
         "MA Starc",
         1.0296296296296297,
         9
        ],
        [
         "M Kartik",
         1.036231884057971,
         4
        ],
        [
         "JJ Bumrah",
         1.0378787878787878,
         7
        ],
        [
         "Iqbal Abdulla",
         1.0394736842105263,
         11
        ],
        [
         "PP Chawla",
         1.0422535211267605,
         4
        ],
        [
         "AA Chavan",
         1.0454545454545454,
         3
        ],
        [
         "P Kumar",
         1.049966239027684,
         42
        ],
        [
         "Jaskaran Singh",
         1.0555555555555556,
         1
        ],
        [
         "KAJ Roach",
         1.0555555555555556,
         0
        ],
        [
         "WD Parnell",
         1.0585585585585586,
         9
        ],
        [
         "Harbhajan Singh",
         1.0586854460093897,
         15
        ],
        [
         "YK Pathan",
         1.065359477124183,
         12
        ],
        [
         "M Morkel",
         1.0684754521963824,
         30
        ],
        [
         "CH Gayle",
         1.0729166666666667,
         3
        ],
        [
         "Z Khan",
         1.0795454545454546,
         55
        ],
        [
         "Sandeep Sharma",
         1.081989247311828,
         37
        ],
        [
         "L Balaji",
         1.082051282051282,
         13
        ],
        [
         "RE van der Merwe",
         1.0833333333333333,
         4
        ],
        [
         "D Wiese",
         1.0833333333333333,
         3
        ],
        [
         "AL Menaria",
         1.0833333333333333,
         1
        ],
        [
         "Shoaib Ahmed",
         1.0833333333333333,
         1
        ],
        [
         "NJ Rimmington",
         1.0833333333333333,
         0
        ],
        [
         "B Lee",
         1.0854700854700854,
         12
        ],
        [
         "AD Russell",
         1.0864197530864197,
         9
        ],
        [
         "AM Salvi",
         1.0925925925925926,
         1
        ],
        [
         "RP Singh",
         1.0957207207207207,
         32
        ],
        [
         "SB Wagh",
         1.0972222222222223,
         3
        ],
        [
         "IC Pandey",
         1.0975609756097562,
         11
        ],
        [
         "DJ Muthuswami",
         1.1,
         3
        ],
        [
         "S Nadeem",
         1.1021505376344085,
         6
        ],
        [
         "DE Bollinger",
         1.1028368794326242,
         9
        ],
        [
         "NM Coulter-Nile",
         1.1031746031746033,
         11
        ],
        [
         "MN Samuels",
         1.106060606060606,
         2
        ],
        [
         "JH Kallis",
         1.1091954022988506,
         9
        ],
        [
         "Imran Tahir",
         1.1111111111111112,
         1
        ],
        [
         "IK Pathan",
         1.1145124716553287,
         31
        ],
        [
         "KMDN Kulasekara",
         1.1166666666666667,
         3
        ],
        [
         "S Tyagi",
         1.1180555555555556,
         4
        ],
        [
         "VS Malik",
         1.125,
         3
        ],
        [
         "AR Patel",
         1.125,
         1
        ],
        [
         "JW Hastings",
         1.125,
         0
        ],
        [
         "DS Kulkarni",
         1.1258503401360545,
         34
        ],
        [
         "MM Patel",
         1.1260647359454856,
         29
        ],
        [
         "SW Tait",
         1.1262626262626263,
         5
        ],
        [
         "SR Watson",
         1.1273666092943202,
         25
        ],
        [
         "Azhar Mahmood",
         1.1274509803921569,
         4
        ],
        [
         "BA Bhatt",
         1.1282051282051282,
         4
        ],
        [
         "I Sharma",
         1.1289537712895377,
         32
        ],
        [
         "S Sreesanth",
         1.1296296296296295,
         23
        ],
        [
         "R Sharma",
         1.1296296296296295,
         1
        ],
        [
         "AB Dinda",
         1.1391076115485563,
         34
        ],
        [
         "JP Duminy",
         1.143939393939394,
         3
        ],
        [
         "PP Ojha",
         1.1474358974358974,
         6
        ],
        [
         "YA Abdulla",
         1.1527777777777777,
         5
        ],
        [
         "JD Unadkat",
         1.154320987654321,
         11
        ],
        [
         "Anureet Singh",
         1.1666666666666667,
         6
        ],
        [
         "GS Sandhu",
         1.1666666666666667,
         0
        ],
        [
         "DAJ Bracewell",
         1.1666666666666667,
         0
        ],
        [
         "SM Boland",
         1.1666666666666667,
         0
        ],
        [
         "Anand Rajan",
         1.1666666666666667,
         0
        ],
        [
         "M Vijay",
         1.1666666666666667,
         0
        ],
        [
         "JD Ryder",
         1.1666666666666667,
         0
        ],
        [
         "KS Williamson",
         1.1666666666666667,
         0
        ],
        [
         "CR Brathwaite",
         1.1666666666666667,
         0
        ],
        [
         "R Vinay Kumar",
         1.1718213058419245,
         27
        ],
        [
         "BAW Mendis",
         1.1730769230769231,
         2
        ],
        [
         "CH Morris",
         1.1785714285714286,
         13
        ],
        [
         "TA Boult",
         1.1785714285714286,
         3
        ],
        [
         "MG Johnson",
         1.1794871794871795,
         27
        ],
        [
         "A Nehra",
         1.184959349593496,
         43
        ],
        [
         "Shoaib Akhtar",
         1.1904761904761905,
         5
        ],
        [
         "J Yadav",
         1.1904761904761905,
         0
        ],
        [
         "JP Faulkner",
         1.1911262798634812,
         17
        ],
        [
         "KH Pandya",
         1.1944444444444444,
         2
        ],
        [
         "NLTC Perera",
         1.1984126984126984,
         4
        ],
        [
         "TG Southee",
         1.2023809523809523,
         11
        ],
        [
         "KV Sharma",
         1.2058823529411764,
         3
        ],
        [
         "S Kaul",
         1.2066666666666668,
         6
        ],
        [
         "MC Henriques",
         1.2083333333333333,
         6
        ],
        [
         "J Botha",
         1.2083333333333333,
         4
        ],
        [
         "DP Vijaykumar",
         1.2083333333333333,
         3
        ],
        [
         "MJ McClenaghan",
         1.2109375,
         16
        ],
        [
         "P Awana",
         1.2121212121212122,
         9
        ],
        [
         "AN Ahmed",
         1.212962962962963,
         3
        ],
        [
         "DT Christian",
         1.2166666666666666,
         4
        ],
        [
         "S Badree",
         1.2222222222222223,
         7
        ],
        [
         "SK Warne",
         1.2222222222222223,
         1
        ],
        [
         "DNT Zoysa",
         1.2222222222222223,
         0
        ],
        [
         "UT Yadav",
         1.2253968253968255,
         24
        ],
        [
         "Shakib Al Hasan",
         1.2268518518518519,
         8
        ],
        [
         "PV Tambe",
         1.2291666666666667,
         3
        ],
        [
         "RR Powar",
         1.2301587301587302,
         5
        ],
        [
         "S Aravind",
         1.2305555555555556,
         15
        ],
        [
         "AD Mathews",
         1.2307692307692308,
         5
        ],
        [
         "SB Styris",
         1.2333333333333334,
         0
        ],
        [
         "BA Stokes",
         1.2361111111111112,
         4
        ],
        [
         "AD Mascarenhas",
         1.2391304347826086,
         10
        ],
        [
         "CRD Fernando",
         1.2407407407407407,
         4
        ],
        [
         "A Choudhary",
         1.25,
         3
        ],
        [
         "MM Sharma",
         1.2634408602150538,
         24
        ],
        [
         "Pankaj Singh",
         1.2666666666666666,
         6
        ],
        [
         "VY Mahesh",
         1.2666666666666666,
         1
        ],
        [
         "DJ Hooda",
         1.2666666666666666,
         0
        ],
        [
         "JJ van der Wath",
         1.2666666666666666,
         0
        ],
        [
         "STR Binny",
         1.2698412698412698,
         7
        ],
        [
         "K Rabada",
         1.2727272727272727,
         4
        ],
        [
         "VR Aaron",
         1.2857142857142858,
         6
        ],
        [
         "LH Ferguson",
         1.2916666666666667,
         1
        ],
        [
         "JA Morkel",
         1.3033854166666667,
         29
        ],
        [
         "RG Sharma",
         1.3055555555555556,
         2
        ],
        [
         "M de Lange",
         1.3095238095238095,
         2
        ],
        [
         "RA Jadeja",
         1.3148148148148149,
         1
        ],
        [
         "R McLaren",
         1.3174603174603174,
         3
        ],
        [
         "HV Patel",
         1.32,
         7
        ],
        [
         "Kamran Khan",
         1.3333333333333333,
         6
        ],
        [
         "AS Rajpoot",
         1.3333333333333333,
         2
        ],
        [
         "GB Hogg",
         1.3333333333333333,
         2
        ],
        [
         "Parvez Rasool",
         1.3333333333333333,
         1
        ],
        [
         "KP Appanna",
         1.3333333333333333,
         0
        ],
        [
         "T Natarajan",
         1.3333333333333333,
         0
        ],
        [
         "Tejas Baroka",
         1.3333333333333333,
         0
        ],
        [
         "SA Yadav",
         1.3333333333333333,
         0
        ],
        [
         "B Stanlake",
         1.3333333333333333,
         0
        ],
        [
         "AC Voges",
         1.3333333333333333,
         0
        ],
        [
         "A Flintoff",
         1.3333333333333333,
         0
        ],
        [
         "SJ Srivastava",
         1.3431372549019607,
         4
        ],
        [
         "MF Maharoof",
         1.35,
         7
        ],
        [
         "Mohammed Shami",
         1.3527131782945736,
         6
        ],
        [
         "DJ Bravo",
         1.368421052631579,
         7
        ],
        [
         "JO Holder",
         1.369047619047619,
         5
        ],
        [
         "YS Chahal",
         1.375,
         6
        ],
        [
         "GH Vihari",
         1.375,
         1
        ],
        [
         "PJ Cummins",
         1.380952380952381,
         4
        ],
        [
         "SK Raina",
         1.380952380952381,
         1
        ],
        [
         "MS Gony",
         1.3813131313131313,
         15
        ],
        [
         "AB Agarkar",
         1.3833333333333333,
         3
        ],
        [
         "DJG Sammy",
         1.3888888888888888,
         0
        ],
        [
         "V Pratap Singh",
         1.4027777777777777,
         2
        ],
        [
         "PJ Sangwan",
         1.4068441064638784,
         11
        ],
        [
         "DL Chahar",
         1.4074074074074074,
         1
        ],
        [
         "P Suyal",
         1.4259259259259258,
         1
        ],
        [
         "BB Sran",
         1.4318181818181819,
         5
        ],
        [
         "TM Dilshan",
         1.4333333333333333,
         0
        ],
        [
         "SN Thakur",
         1.4444444444444444,
         3
        ],
        [
         "S Dhawan",
         1.4444444444444444,
         1
        ],
        [
         "SB Jakati",
         1.4545454545454546,
         1
        ],
        [
         "VRV Singh",
         1.4583333333333333,
         0
        ],
        [
         "Basil Thampi",
         1.4895833333333333,
         2
        ],
        [
         "Harmeet Singh",
         1.5,
         4
        ],
        [
         "R Shukla",
         1.5,
         3
        ],
        [
         "A Mithun",
         1.5,
         1
        ],
        [
         "K Upadhyay",
         1.5,
         0
        ],
        [
         "Kuldeep Yadav",
         1.5,
         0
        ],
        [
         "S Narwal",
         1.5185185185185186,
         3
        ],
        [
         "AF Milne",
         1.5238095238095237,
         0
        ],
        [
         "BCJ Cutting",
         1.5333333333333334,
         0
        ],
        [
         "P Negi",
         1.5555555555555556,
         2
        ],
        [
         "Joginder Sharma",
         1.5555555555555556,
         0
        ],
        [
         "CJ Anderson",
         1.5692307692307692,
         2
        ],
        [
         "CJ Jordan",
         1.5833333333333333,
         2
        ],
        [
         "Gurkeerat Singh",
         1.5833333333333333,
         0
        ],
        [
         "SK Trivedi",
         1.5897435897435896,
         3
        ],
        [
         "MR Marsh",
         1.619047619047619,
         3
        ],
        [
         "JDP Oram",
         1.625,
         4
        ],
        [
         "AA Jhunjhunwala",
         1.625,
         0
        ],
        [
         "DR Smith",
         1.6428571428571428,
         4
        ],
        [
         "Mohammad Asif",
         1.6547619047619047,
         2
        ],
        [
         "BE Hendricks",
         1.6666666666666667,
         1
        ],
        [
         "S Ladda",
         1.6666666666666667,
         1
        ],
        [
         "DJ Hussey",
         1.6666666666666667,
         0
        ],
        [
         "ST Jayasuriya",
         1.6666666666666667,
         0
        ],
        [
         "S Kaushik",
         1.6666666666666667,
         0
        ],
        [
         "HH Pandya",
         1.6666666666666667,
         0
        ],
        [
         "AM Nayar",
         1.6666666666666667,
         0
        ],
        [
         "KJ Abbott",
         1.6666666666666667,
         0
        ],
        [
         "Y Nagar",
         1.6666666666666667,
         0
        ],
        [
         "KC Cariappa",
         1.7222222222222223,
         0
        ],
        [
         "CR Woakes",
         1.7272727272727273,
         1
        ],
        [
         "AB McDonald",
         1.7666666666666666,
         2
        ],
        [
         "ND Doshi",
         1.7777777777777777,
         1
        ],
        [
         "J Theron",
         1.8,
         2
        ],
        [
         "Mohammed Siraj",
         1.8166666666666667,
         3
        ],
        [
         "Shahid Afridi",
         1.8333333333333333,
         0
        ],
        [
         "M Ashwin",
         1.8333333333333333,
         0
        ],
        [
         "SS Agarwal",
         1.8333333333333333,
         0
        ],
        [
         "RA Shaikh",
         1.8333333333333333,
         0
        ],
        [
         "B Geeves",
         1.875,
         1
        ],
        [
         "AP Dole",
         1.9,
         2
        ],
        [
         "Y Venugopal Rao",
         1.9,
         1
        ],
        [
         "MP Stoinis",
         1.9,
         0
        ],
        [
         "J Suchith",
         1.9333333333333333,
         1
        ],
        [
         "P Parameswaran",
         2.0,
         2
        ],
        [
         "A Nel",
         2.0,
         1
        ],
        [
         "LR Shukla",
         2.0,
         0
        ],
        [
         "MJ Henry",
         2.0,
         0
        ],
        [
         "P Amarnath",
         2.0,
         0
        ],
        [
         "RR Bose",
         2.0,
         0
        ],
        [
         "K Santokie",
         2.0,
         0
        ],
        [
         "Sunny Gupta",
         2.0,
         0
        ],
        [
         "B Akhil",
         2.0,
         0
        ],
        [
         "JEC Franklin",
         2.0,
         0
        ],
        [
         "LJ Wright",
         2.0,
         0
        ],
        [
         "S Randiv",
         2.0,
         0
        ],
        [
         "Mashrafe Mortaza",
         2.0833333333333335,
         0
        ],
        [
         "BJ Hodge",
         2.0833333333333335,
         0
        ],
        [
         "SA Abbott",
         2.111111111111111,
         0
        ],
        [
         "L Ablish",
         2.1666666666666665,
         1
        ],
        [
         "CJ McKay",
         2.1666666666666665,
         0
        ],
        [
         "Karanveer Singh",
         2.1666666666666665,
         0
        ],
        [
         "MB Parmar",
         2.1666666666666665,
         0
        ],
        [
         "RW Price",
         2.3333333333333335,
         0
        ],
        [
         "RG More",
         2.5,
         0
        ],
        [
         "SS Sarkar",
         2.5,
         0
        ],
        [
         "GJ Maxwell",
         2.7222222222222223,
         0
        ],
        [
         "AA Noffke",
         2.8333333333333335,
         0
        ],
        [
         "R Bhatia",
         3.0,
         0
        ],
        [
         "MG Neser",
         3.0,
         0
        ],
        [
         "V Sehwag",
         3.5,
         0
        ]
       ],
       "datasetInfos": [],
       "dbfsResultPath": null,
       "isJsonSchema": true,
       "metadata": {},
       "overflow": false,
       "plotOptions": {
        "customPlotOptions": {},
        "displayType": "table",
        "pivotAggregation": null,
        "pivotColumns": null,
        "xColumns": null,
        "yColumns": null
       },
       "removedWidgets": [],
       "schema": [
        {
         "metadata": "{}",
         "name": "player_name",
         "type": "\"string\""
        },
        {
         "metadata": "{}",
         "name": "Avg_runs_per_ball",
         "type": "\"double\""
        },
        {
         "metadata": "{}",
         "name": "Total_wickets",
         "type": "\"long\""
        }
       ],
       "type": "table"
      }
     },
     "output_type": "display_data"
    }
   ],
   "source": [
    "economical_bowlers_powerplay = spark.sql(\"\"\"\n",
    "select pm.player_name, AVG(b.runs_scored) as Avg_runs_per_ball, count(b.player_out) as Total_wickets\n",
    "from ball_by_ball b \n",
    "join player_match pm on b.match_id = pm.match_id and b.bowler = pm.player_id\n",
    "where b.over_id < 6\n",
    "group by pm.player_name\n",
    "order by Avg_runs_per_ball, Total_wickets desc\"\"\")\n",
    "\n",
    "\n",
    "\n",
    "\n"
   ]
  },
  {
   "cell_type": "code",
   "execution_count": 0,
   "metadata": {
    "application/vnd.databricks.v1+cell": {
     "cellMetadata": {
      "byteLimit": 2048000,
      "rowLimit": 10000
     },
     "inputWidgets": {},
     "nuid": "a223e9f7-c114-4cfe-ab1b-df0a247489e3",
     "showTitle": false,
     "title": ""
    }
   },
   "outputs": [
    {
     "output_type": "display_data",
     "data": {
      "text/html": [
       "<style scoped>\n",
       "  .table-result-container {\n",
       "    max-height: 300px;\n",
       "    overflow: auto;\n",
       "  }\n",
       "  table, th, td {\n",
       "    border: 1px solid black;\n",
       "    border-collapse: collapse;\n",
       "  }\n",
       "  th, td {\n",
       "    padding: 5px;\n",
       "  }\n",
       "  th {\n",
       "    text-align: left;\n",
       "  }\n",
       "</style><div class='table-result-container'><table class='table-result'><thead style='background-color: white'><tr><th>player_name</th><th>Avg_runs_per_ball</th><th>Total_wickets</th></tr></thead><tbody><tr><td>SM Harwood</td><td>0.16666666666666666</td><td>0</td></tr><tr><td>AJ Tye</td><td>0.3333333333333333</td><td>2</td></tr><tr><td>Ankit Soni</td><td>0.5</td><td>1</td></tr><tr><td>Avesh Khan</td><td>0.5</td><td>1</td></tr><tr><td>GR Napier</td><td>0.5</td><td>0</td></tr><tr><td>AJ Finch</td><td>0.5</td><td>0</td></tr><tr><td>A Zampa</td><td>0.5</td><td>0</td></tr><tr><td>Mohammad Nabi</td><td>0.5833333333333334</td><td>1</td></tr><tr><td>NB Singh</td><td>0.5833333333333334</td><td>1</td></tr><tr><td>Rashid Khan</td><td>0.6666666666666666</td><td>2</td></tr></tbody></table></div>"
      ]
     },
     "metadata": {
      "application/vnd.databricks.v1+output": {
       "addedWidgets": {},
       "aggData": [],
       "aggError": "",
       "aggOverflow": false,
       "aggSchema": [],
       "aggSeriesLimitReached": false,
       "aggType": "",
       "arguments": {},
       "columnCustomDisplayInfos": {},
       "data": [
        [
         "SM Harwood",
         0.16666666666666666,
         0
        ],
        [
         "AJ Tye",
         0.3333333333333333,
         2
        ],
        [
         "Ankit Soni",
         0.5,
         1
        ],
        [
         "Avesh Khan",
         0.5,
         1
        ],
        [
         "GR Napier",
         0.5,
         0
        ],
        [
         "AJ Finch",
         0.5,
         0
        ],
        [
         "A Zampa",
         0.5,
         0
        ],
        [
         "Mohammad Nabi",
         0.5833333333333334,
         1
        ],
        [
         "NB Singh",
         0.5833333333333334,
         1
        ],
        [
         "Rashid Khan",
         0.6666666666666666,
         2
        ]
       ],
       "datasetInfos": [],
       "dbfsResultPath": null,
       "isJsonSchema": true,
       "metadata": {},
       "overflow": false,
       "plotOptions": {
        "customPlotOptions": {},
        "displayType": "table",
        "pivotAggregation": null,
        "pivotColumns": null,
        "xColumns": null,
        "yColumns": null
       },
       "removedWidgets": [],
       "schema": [
        {
         "metadata": "{}",
         "name": "player_name",
         "type": "\"string\""
        },
        {
         "metadata": "{}",
         "name": "Avg_runs_per_ball",
         "type": "\"double\""
        },
        {
         "metadata": "{}",
         "name": "Total_wickets",
         "type": "\"long\""
        }
       ],
       "type": "table"
      }
     },
     "output_type": "display_data"
    },
    {
     "output_type": "display_data",
     "data": {
      "text/plain": [
       "Databricks visualization. Run in Databricks to view."
      ]
     },
     "metadata": {
      "application/vnd.databricks.v1.subcommand+json": {
       "baseErrorDetails": null,
       "bindings": {},
       "collapsed": false,
       "command": "%python\n__backend_agg_display_orig = display\n__backend_agg_dfs = []\ndef __backend_agg_display_new(df):\n    __backend_agg_df_modules = [\"pandas.core.frame\", \"databricks.koalas.frame\", \"pyspark.sql.dataframe\", \"pyspark.pandas.frame\", \"pyspark.sql.connect.dataframe\"]\n    if (type(df).__module__ in __backend_agg_df_modules and type(df).__name__ == 'DataFrame') or isinstance(df, list):\n        __backend_agg_dfs.append(df)\n\ndisplay = __backend_agg_display_new\n\ndef __backend_agg_user_code_fn():\n    import base64\n    exec(base64.standard_b64decode(\"ZGlzcGxheShlY29ub21pY2FsX2Jvd2xlcnNfcG93ZXJwbGF5LmxpbWl0KDEwKSk=\").decode())\n\ntry:\n    # run user code\n    __backend_agg_user_code_fn()\n\n    #reset display function\n    display = __backend_agg_display_orig\n\n    if len(__backend_agg_dfs) > 0:\n        # create a temp view\n        if type(__backend_agg_dfs[0]).__module__ == \"databricks.koalas.frame\":\n            # koalas dataframe\n            __backend_agg_dfs[0].to_spark().createOrReplaceTempView(\"DatabricksView446f076\")\n        elif type(__backend_agg_dfs[0]).__module__ == \"pandas.core.frame\" or isinstance(__backend_agg_dfs[0], list):\n            # pandas dataframe\n            spark.createDataFrame(__backend_agg_dfs[0]).createOrReplaceTempView(\"DatabricksView446f076\")\n        else:\n            __backend_agg_dfs[0].createOrReplaceTempView(\"DatabricksView446f076\")\n        #run backend agg\n        display(spark.sql(\"\"\"WITH q AS (select * from DatabricksView446f076) SELECT `player_name`,AVG(`Avg_runs_per_ball`) `column_20f9f81f19`,SUM(`Total_wickets`) `column_20f9f81f22` FROM q GROUP BY `player_name`\"\"\"))\n    else:\n        displayHTML(\"dataframe no longer exists. If you're using dataframe.display(), use display(dataframe) instead.\")\n\n\nfinally:\n    spark.sql(\"drop view if exists DatabricksView446f076\")\n    display = __backend_agg_display_orig\n    del __backend_agg_display_new\n    del __backend_agg_display_orig\n    del __backend_agg_dfs\n    del __backend_agg_user_code_fn\n\n",
       "commandTitle": "Visualization 1",
       "commandType": "auto",
       "commandVersion": 0,
       "commentThread": [],
       "commentsVisible": false,
       "contentSha256Hex": null,
       "customPlotOptions": {
        "redashChart": [
         {
          "key": "type",
          "value": "CHART"
         },
         {
          "key": "options",
          "value": {
           "alignYAxesAtZero": false,
           "coefficient": 1,
           "columnConfigurationMap": {
            "x": {
             "column": "player_name",
             "id": "column_20f9f81f17"
            },
            "y": [
             {
              "column": "Avg_runs_per_ball",
              "id": "column_20f9f81f19",
              "transform": "AVG"
             },
             {
              "column": "Total_wickets",
              "id": "column_20f9f81f22",
              "transform": "SUM"
             }
            ]
           },
           "dateTimeFormat": "DD/MM/YYYY HH:mm",
           "direction": {
            "type": "counterclockwise"
           },
           "error_y": {
            "type": "data",
            "visible": true
           },
           "globalSeriesType": "column",
           "hideYAxes": false,
           "isAggregationOn": true,
           "legend": {
            "traceorder": "normal"
           },
           "missingValuesAsZero": true,
           "numBins": 10,
           "numberFormat": "0,0.[00000]",
           "percentFormat": "0[.]00%",
           "series": {
            "error_y": {
             "type": "data",
             "visible": true
            },
            "stacking": null
           },
           "seriesOptions": {
            "Avg_runs_per_ball": {
             "type": "column",
             "yAxis": 0
            },
            "Total_wickets": {
             "type": "column",
             "yAxis": 0
            },
            "column_20f9f81f19": {
             "name": "Avg_Run_per_over",
             "type": "column",
             "yAxis": 0
            },
            "column_20f9f81f22": {
             "color": "#3BD973",
             "name": "Total_wickets",
             "type": "column",
             "yAxis": 1
            },
            "column_20f9f81f4": {
             "name": "Total_wickets",
             "type": "column",
             "yAxis": 0
            },
            "player_name": {
             "type": "column",
             "yAxis": 0
            }
           },
           "showDataLabels": false,
           "sizemode": "diameter",
           "sortX": true,
           "sortY": true,
           "swappedAxes": false,
           "textFormat": "",
           "useAggregationsUi": true,
           "valuesOptions": {},
           "version": 2,
           "xAxis": {
            "labels": {
             "enabled": true
            },
            "title": {
             "text": "Player_Name"
            },
            "type": "-"
           },
           "yAxis": [
            {
             "rangeMax": 3,
             "type": "linear"
            },
            {
             "opposite": true,
             "type": "-"
            }
           ]
          }
         }
        ]
       },
       "datasetPreviewNameToCmdIdMap": {},
       "diffDeletes": [],
       "diffInserts": [],
       "displayType": "redashChart",
       "error": null,
       "errorDetails": null,
       "errorSummary": null,
       "errorTraceType": null,
       "finishTime": 0,
       "globalVars": {},
       "guid": "",
       "height": "auto",
       "hideCommandCode": false,
       "hideCommandResult": false,
       "iPythonMetadata": null,
       "inputWidgets": {},
       "isLockedInExamMode": false,
       "latestUser": "a user",
       "latestUserId": null,
       "listResultMetadata": null,
       "metadata": {},
       "nuid": "2434aad2-38e2-44f5-905b-d479de132985",
       "origId": 0,
       "parentHierarchy": [],
       "pivotAggregation": null,
       "pivotColumns": null,
       "position": 16.5,
       "resultDbfsErrorMessage": null,
       "resultDbfsStatus": "INLINED_IN_TREE",
       "results": null,
       "showCommandTitle": false,
       "startTime": 0,
       "state": "input",
       "streamStates": {},
       "subcommandOptions": {
        "queryPlan": {
         "groups": [
          {
           "column": "player_name",
           "type": "column"
          }
         ],
         "selects": [
          {
           "column": "player_name",
           "type": "column"
          },
          {
           "alias": "column_20f9f81f19",
           "args": [
            {
             "column": "Avg_runs_per_ball",
             "type": "column"
            }
           ],
           "function": "AVG",
           "type": "function"
          },
          {
           "alias": "column_20f9f81f22",
           "args": [
            {
             "column": "Total_wickets",
             "type": "column"
            }
           ],
           "function": "SUM",
           "type": "function"
          }
         ]
        }
       },
       "submitTime": 0,
       "subtype": "tableResultSubCmd.visualization",
       "tableResultIndex": 0,
       "useConsistentColors": false,
       "version": "CommandV1",
       "width": "auto",
       "workflows": [],
       "xColumns": null,
       "yColumns": null
      }
     },
     "output_type": "display_data"
    }
   ],
   "source": [
    "display(economical_bowlers_powerplay.limit(10))"
   ]
  },
  {
   "cell_type": "code",
   "execution_count": 0,
   "metadata": {
    "application/vnd.databricks.v1+cell": {
     "cellMetadata": {
      "byteLimit": 2048000,
      "implicitDf": true,
      "rowLimit": 10000
     },
     "inputWidgets": {},
     "nuid": "384cb065-5d36-4e74-b435-a1faf8456138",
     "showTitle": false,
     "title": ""
    }
   },
   "outputs": [],
   "source": [
    "\n",
    "toss_impact_individual_matches = spark.sql(\"\"\"\n",
    "SELECT m.match_id, m.toss_winner, m.toss_name, m.match_winner,\n",
    "       CASE WHEN m.toss_winner = m.match_winner THEN 'Won' ELSE 'Lost' END AS match_outcome\n",
    "FROM match m\n",
    "WHERE m.toss_name IS NOT NULL and m.match_winner not in ('NULL','tied','abandoned')\n",
    "ORDER BY m.match_id\n",
    "\"\"\")\n"
   ]
  },
  {
   "cell_type": "code",
   "execution_count": 0,
   "metadata": {
    "application/vnd.databricks.v1+cell": {
     "cellMetadata": {
      "byteLimit": 2048000,
      "rowLimit": 10000
     },
     "inputWidgets": {},
     "nuid": "4c3184cb-ceee-451c-a811-40799f39fa58",
     "showTitle": false,
     "title": ""
    }
   },
   "outputs": [
    {
     "output_type": "display_data",
     "data": {
      "text/html": [
       "<style scoped>\n",
       "  .table-result-container {\n",
       "    max-height: 300px;\n",
       "    overflow: auto;\n",
       "  }\n",
       "  table, th, td {\n",
       "    border: 1px solid black;\n",
       "    border-collapse: collapse;\n",
       "  }\n",
       "  th, td {\n",
       "    padding: 5px;\n",
       "  }\n",
       "  th {\n",
       "    text-align: left;\n",
       "  }\n",
       "</style><div class='table-result-container'><table class='table-result'><thead style='background-color: white'><tr><th>match_id</th><th>toss_winner</th><th>toss_name</th><th>match_winner</th><th>match_outcome</th></tr></thead><tbody><tr><td>335987</td><td>Royal Challengers Bangalore</td><td>field</td><td>Kolkata Knight Riders</td><td>Lost</td></tr><tr><td>335988</td><td>Chennai Super Kings</td><td>bat</td><td>Chennai Super Kings</td><td>Won</td></tr><tr><td>335989</td><td>Rajasthan Royals</td><td>bat</td><td>Delhi Daredevils</td><td>Lost</td></tr><tr><td>335990</td><td>Mumbai Indians</td><td>bat</td><td>Royal Challengers Bangalore</td><td>Lost</td></tr><tr><td>335991</td><td>Deccan Chargers</td><td>bat</td><td>Kolkata Knight Riders</td><td>Lost</td></tr><tr><td>335992</td><td>Kings XI Punjab</td><td>bat</td><td>Rajasthan Royals</td><td>Lost</td></tr><tr><td>335993</td><td>Deccan Chargers</td><td>bat</td><td>Delhi Daredevils</td><td>Lost</td></tr><tr><td>335994</td><td>Mumbai Indians</td><td>field</td><td>Chennai Super Kings</td><td>Lost</td></tr><tr><td>335995</td><td>Rajasthan Royals</td><td>field</td><td>Rajasthan Royals</td><td>Won</td></tr><tr><td>335996</td><td>Mumbai Indians</td><td>field</td><td>Kings XI Punjab</td><td>Lost</td></tr><tr><td>335997</td><td>Rajasthan Royals</td><td>field</td><td>Rajasthan Royals</td><td>Won</td></tr><tr><td>335998</td><td>Kolkata Knight Riders</td><td>bat</td><td>Chennai Super Kings</td><td>Lost</td></tr><tr><td>335999</td><td>Deccan Chargers</td><td>field</td><td>Deccan Chargers</td><td>Won</td></tr><tr><td>336000</td><td>Delhi Daredevils</td><td>bat</td><td>Kings XI Punjab</td><td>Lost</td></tr><tr><td>336001</td><td>Chennai Super Kings</td><td>bat</td><td>Chennai Super Kings</td><td>Won</td></tr><tr><td>336002</td><td>Kolkata Knight Riders</td><td>bat</td><td>Mumbai Indians</td><td>Lost</td></tr><tr><td>336003</td><td>Royal Challengers Bangalore</td><td>field</td><td>Delhi Daredevils</td><td>Lost</td></tr><tr><td>336004</td><td>Kings XI Punjab</td><td>field</td><td>Kings XI Punjab</td><td>Won</td></tr><tr><td>336005</td><td>Rajasthan Royals</td><td>bat</td><td>Rajasthan Royals</td><td>Won</td></tr><tr><td>336006</td><td>Chennai Super Kings</td><td>bat</td><td>Delhi Daredevils</td><td>Lost</td></tr><tr><td>336007</td><td>Deccan Chargers</td><td>bat</td><td>Royal Challengers Bangalore</td><td>Lost</td></tr><tr><td>336008</td><td>Kings XI Punjab</td><td>bat</td><td>Kings XI Punjab</td><td>Won</td></tr><tr><td>336009</td><td>Delhi Daredevils</td><td>field</td><td>Mumbai Indians</td><td>Lost</td></tr><tr><td>336010</td><td>Chennai Super Kings</td><td>bat</td><td>Rajasthan Royals</td><td>Lost</td></tr><tr><td>336011</td><td>Kings XI Punjab</td><td>field</td><td>Kings XI Punjab</td><td>Won</td></tr><tr><td>336012</td><td>Deccan Chargers</td><td>field</td><td>Deccan Chargers</td><td>Won</td></tr><tr><td>336013</td><td>Mumbai Indians</td><td>field</td><td>Mumbai Indians</td><td>Won</td></tr><tr><td>336014</td><td>Chennai Super Kings</td><td>field</td><td>Chennai Super Kings</td><td>Won</td></tr><tr><td>336015</td><td>Kolkata Knight Riders</td><td>bat</td><td>Kolkata Knight Riders</td><td>Won</td></tr><tr><td>336016</td><td>Rajasthan Royals</td><td>field</td><td>Rajasthan Royals</td><td>Won</td></tr><tr><td>336017</td><td>Mumbai Indians</td><td>field</td><td>Mumbai Indians</td><td>Won</td></tr><tr><td>336018</td><td>Kings XI Punjab</td><td>field</td><td>Chennai Super Kings</td><td>Lost</td></tr><tr><td>336019</td><td>Kolkata Knight Riders</td><td>bat</td><td>Kolkata Knight Riders</td><td>Won</td></tr><tr><td>336020</td><td>Rajasthan Royals</td><td>field</td><td>Rajasthan Royals</td><td>Won</td></tr><tr><td>336021</td><td>Royal Challengers Bangalore</td><td>bat</td><td>Kings XI Punjab</td><td>Lost</td></tr><tr><td>336022</td><td>Kolkata Knight Riders</td><td>bat</td><td>Kolkata Knight Riders</td><td>Won</td></tr><tr><td>336023</td><td>Mumbai Indians</td><td>field</td><td>Mumbai Indians</td><td>Won</td></tr><tr><td>336024</td><td>Rajasthan Royals</td><td>field</td><td>Kings XI Punjab</td><td>Lost</td></tr><tr><td>336025</td><td>Deccan Chargers</td><td>field</td><td>Delhi Daredevils</td><td>Lost</td></tr><tr><td>336026</td><td>Mumbai Indians</td><td>field</td><td>Mumbai Indians</td><td>Won</td></tr><tr><td>336027</td><td>Delhi Daredevils</td><td>bat</td><td>Kings XI Punjab</td><td>Lost</td></tr><tr><td>336028</td><td>Royal Challengers Bangalore</td><td>field</td><td>Rajasthan Royals</td><td>Lost</td></tr><tr><td>336029</td><td>Deccan Chargers</td><td>field</td><td>Mumbai Indians</td><td>Lost</td></tr><tr><td>336030</td><td>Kolkata Knight Riders</td><td>bat</td><td>Chennai Super Kings</td><td>Lost</td></tr><tr><td>336031</td><td>Delhi Daredevils</td><td>field</td><td>Delhi Daredevils</td><td>Won</td></tr><tr><td>336032</td><td>Rajasthan Royals</td><td>field</td><td>Rajasthan Royals</td><td>Won</td></tr><tr><td>336033</td><td>Mumbai Indians</td><td>field</td><td>Kings XI Punjab</td><td>Lost</td></tr><tr><td>336034</td><td>Royal Challengers Bangalore</td><td>bat</td><td>Royal Challengers Bangalore</td><td>Won</td></tr><tr><td>336036</td><td>Kings XI Punjab</td><td>field</td><td>Kings XI Punjab</td><td>Won</td></tr><tr><td>336037</td><td>Delhi Daredevils</td><td>field</td><td>Delhi Daredevils</td><td>Won</td></tr><tr><td>336038</td><td>Rajasthan Royals</td><td>bat</td><td>Rajasthan Royals</td><td>Won</td></tr><tr><td>336039</td><td>Deccan Chargers</td><td>field</td><td>Royal Challengers Bangalore</td><td>Lost</td></tr><tr><td>336040</td><td>Kings XI Punjab</td><td>bat</td><td>Kolkata Knight Riders</td><td>Lost</td></tr><tr><td>336041</td><td>Rajasthan Royals</td><td>field</td><td>Rajasthan Royals</td><td>Won</td></tr><tr><td>336042</td><td>Deccan Chargers</td><td>bat</td><td>Chennai Super Kings</td><td>Lost</td></tr><tr><td>336043</td><td>Delhi Daredevils</td><td>field</td><td>Rajasthan Royals</td><td>Lost</td></tr><tr><td>336044</td><td>Kings XI Punjab</td><td>bat</td><td>Chennai Super Kings</td><td>Lost</td></tr><tr><td>336045</td><td>Rajasthan Royals</td><td>field</td><td>Rajasthan Royals</td><td>Won</td></tr><tr><td>392186</td><td>Chennai Super Kings</td><td>field</td><td>Mumbai Indians</td><td>Lost</td></tr><tr><td>392187</td><td>Royal Challengers Bangalore</td><td>bat</td><td>Royal Challengers Bangalore</td><td>Won</td></tr><tr><td>392188</td><td>Delhi Daredevils</td><td>field</td><td>Delhi Daredevils</td><td>Won</td></tr><tr><td>392189</td><td>Kolkata Knight Riders</td><td>bat</td><td>Deccan Chargers</td><td>Lost</td></tr><tr><td>392190</td><td>Chennai Super Kings</td><td>bat</td><td>Chennai Super Kings</td><td>Won</td></tr><tr><td>392191</td><td>Kolkata Knight Riders</td><td>field</td><td>Kolkata Knight Riders</td><td>Won</td></tr><tr><td>392193</td><td>Deccan Chargers</td><td>bat</td><td>Deccan Chargers</td><td>Won</td></tr><tr><td>392194</td><td>Delhi Daredevils</td><td>bat</td><td>Delhi Daredevils</td><td>Won</td></tr><tr><td>392195</td><td>Kolkata Knight Riders</td><td>field</td><td>Rajasthan Royals</td><td>Lost</td></tr><tr><td>392196</td><td>Royal Challengers Bangalore</td><td>bat</td><td>Kings XI Punjab</td><td>Lost</td></tr><tr><td>392197</td><td>Deccan Chargers</td><td>bat</td><td>Deccan Chargers</td><td>Won</td></tr><tr><td>392199</td><td>Royal Challengers Bangalore</td><td>bat</td><td>Delhi Daredevils</td><td>Lost</td></tr><tr><td>392200</td><td>Kings XI Punjab</td><td>bat</td><td>Kings XI Punjab</td><td>Won</td></tr><tr><td>392201</td><td>Deccan Chargers</td><td>field</td><td>Deccan Chargers</td><td>Won</td></tr><tr><td>392202</td><td>Mumbai Indians</td><td>bat</td><td>Mumbai Indians</td><td>Won</td></tr><tr><td>392203</td><td>Delhi Daredevils</td><td>bat</td><td>Rajasthan Royals</td><td>Lost</td></tr><tr><td>392204</td><td>Kolkata Knight Riders</td><td>bat</td><td>Royal Challengers Bangalore</td><td>Lost</td></tr><tr><td>392205</td><td>Kings XI Punjab</td><td>bat</td><td>Kings XI Punjab</td><td>Won</td></tr><tr><td>392206</td><td>Delhi Daredevils</td><td>field</td><td>Delhi Daredevils</td><td>Won</td></tr><tr><td>392207</td><td>Rajasthan Royals</td><td>field</td><td>Chennai Super Kings</td><td>Lost</td></tr><tr><td>392208</td><td>Mumbai Indians</td><td>bat</td><td>Mumbai Indians</td><td>Won</td></tr><tr><td>392209</td><td>Royal Challengers Bangalore</td><td>bat</td><td>Royal Challengers Bangalore</td><td>Won</td></tr><tr><td>392210</td><td>Deccan Chargers</td><td>bat</td><td>Rajasthan Royals</td><td>Lost</td></tr><tr><td>392211</td><td>Delhi Daredevils</td><td>field</td><td>Chennai Super Kings</td><td>Lost</td></tr><tr><td>392212</td><td>Kolkata Knight Riders</td><td>bat</td><td>Kings XI Punjab</td><td>Lost</td></tr><tr><td>392213</td><td>Mumbai Indians</td><td>bat</td><td>Royal Challengers Bangalore</td><td>Lost</td></tr><tr><td>392214</td><td>Chennai Super Kings</td><td>bat</td><td>Chennai Super Kings</td><td>Won</td></tr><tr><td>392215</td><td>Kings XI Punjab</td><td>field</td><td>Rajasthan Royals</td><td>Lost</td></tr><tr><td>392216</td><td>Kolkata Knight Riders</td><td>bat</td><td>Delhi Daredevils</td><td>Lost</td></tr><tr><td>392217</td><td>Deccan Chargers</td><td>bat</td><td>Deccan Chargers</td><td>Won</td></tr><tr><td>392218</td><td>Rajasthan Royals</td><td>field</td><td>Rajasthan Royals</td><td>Won</td></tr><tr><td>392219</td><td>Chennai Super Kings</td><td>bat</td><td>Chennai Super Kings</td><td>Won</td></tr><tr><td>392220</td><td>Mumbai Indians</td><td>bat</td><td>Delhi Daredevils</td><td>Lost</td></tr><tr><td>392221</td><td>Kings XI Punjab</td><td>field</td><td>Kings XI Punjab</td><td>Won</td></tr><tr><td>392222</td><td>Rajasthan Royals</td><td>bat</td><td>Chennai Super Kings</td><td>Lost</td></tr><tr><td>392223</td><td>Mumbai Indians</td><td>bat</td><td>Mumbai Indians</td><td>Won</td></tr><tr><td>392224</td><td>Delhi Daredevils</td><td>field</td><td>Delhi Daredevils</td><td>Won</td></tr><tr><td>392225</td><td>Deccan Chargers</td><td>bat</td><td>Deccan Chargers</td><td>Won</td></tr><tr><td>392226</td><td>Royal Challengers Bangalore</td><td>field</td><td>Royal Challengers Bangalore</td><td>Won</td></tr><tr><td>392227</td><td>Kings XI Punjab</td><td>bat</td><td>Mumbai Indians</td><td>Lost</td></tr><tr><td>392228</td><td>Deccan Chargers</td><td>field</td><td>Delhi Daredevils</td><td>Lost</td></tr><tr><td>392229</td><td>Chennai Super Kings</td><td>bat</td><td>Royal Challengers Bangalore</td><td>Lost</td></tr><tr><td>392230</td><td>Rajasthan Royals</td><td>bat</td><td>Rajasthan Royals</td><td>Won</td></tr><tr><td>392231</td><td>Kings XI Punjab</td><td>field</td><td>Kings XI Punjab</td><td>Won</td></tr><tr><td>392232</td><td>Mumbai Indians</td><td>bat</td><td>Chennai Super Kings</td><td>Lost</td></tr><tr><td>392233</td><td>Deccan Chargers</td><td>field</td><td>Deccan Chargers</td><td>Won</td></tr><tr><td>392234</td><td>Deccan Chargers</td><td>field</td><td>Kings XI Punjab</td><td>Lost</td></tr><tr><td>392235</td><td>Delhi Daredevils</td><td>bat</td><td>Delhi Daredevils</td><td>Won</td></tr><tr><td>392236</td><td>Chennai Super Kings</td><td>bat</td><td>Kolkata Knight Riders</td><td>Lost</td></tr><tr><td>392237</td><td>Delhi Daredevils</td><td>bat</td><td>Royal Challengers Bangalore</td><td>Lost</td></tr><tr><td>392238</td><td>Kolkata Knight Riders</td><td>field</td><td>Kolkata Knight Riders</td><td>Won</td></tr><tr><td>392239</td><td>Chennai Super Kings</td><td>bat</td><td>Chennai Super Kings</td><td>Won</td></tr><tr><td>392240</td><td>Delhi Daredevils</td><td>field</td><td>Delhi Daredevils</td><td>Won</td></tr><tr><td>392241</td><td>Royal Challengers Bangalore</td><td>bat</td><td>Royal Challengers Bangalore</td><td>Won</td></tr><tr><td>392242</td><td>Deccan Chargers</td><td>field</td><td>Deccan Chargers</td><td>Won</td></tr><tr><td>392243</td><td>Royal Challengers Bangalore</td><td>field</td><td>Royal Challengers Bangalore</td><td>Won</td></tr><tr><td>392244</td><td>Royal Challengers Bangalore</td><td>field</td><td>Deccan Chargers</td><td>Lost</td></tr><tr><td>419111</td><td>Deccan Chargers</td><td>field</td><td>Kolkata Knight Riders</td><td>Lost</td></tr><tr><td>419112</td><td>Mumbai Indians</td><td>bat</td><td>Mumbai Indians</td><td>Won</td></tr><tr><td>419113</td><td>Delhi Daredevils</td><td>field</td><td>Delhi Daredevils</td><td>Won</td></tr><tr><td>419114</td><td>Kolkata Knight Riders</td><td>field</td><td>Kolkata Knight Riders</td><td>Won</td></tr><tr><td>419115</td><td>Deccan Chargers</td><td>bat</td><td>Deccan Chargers</td><td>Won</td></tr><tr><td>419116</td><td>Delhi Daredevils</td><td>field</td><td>Delhi Daredevils</td><td>Won</td></tr><tr><td>419117</td><td>Kings XI Punjab</td><td>bat</td><td>Royal Challengers Bangalore</td><td>Lost</td></tr><tr><td>419118</td><td>Chennai Super Kings</td><td>bat</td><td>Chennai Super Kings</td><td>Won</td></tr><tr><td>419119</td><td>Delhi Daredevils</td><td>field</td><td>Mumbai Indians</td><td>Lost</td></tr><tr><td>419120</td><td>Royal Challengers Bangalore</td><td>field</td><td>Royal Challengers Bangalore</td><td>Won</td></tr><tr><td>419121</td><td>Delhi Daredevils</td><td>bat</td><td>Chennai Super Kings</td><td>Lost</td></tr><tr><td>419122</td><td>Kings XI Punjab</td><td>field</td><td>Deccan Chargers</td><td>Lost</td></tr><tr><td>419123</td><td>Rajasthan Royals</td><td>bat</td><td>Rajasthan Royals</td><td>Won</td></tr><tr><td>419124</td><td>Mumbai Indians</td><td>bat</td><td>Royal Challengers Bangalore</td><td>Lost</td></tr><tr><td>419125</td><td>Deccan Chargers</td><td>bat</td><td>Deccan Chargers</td><td>Won</td></tr><tr><td>419126</td><td>Chennai Super Kings</td><td>field</td><td>Kings XI Punjab</td><td>Lost</td></tr><tr><td>419127</td><td>Kolkata Knight Riders</td><td>bat</td><td>Mumbai Indians</td><td>Lost</td></tr><tr><td>419128</td><td>Chennai Super Kings</td><td>field</td><td>Royal Challengers Bangalore</td><td>Lost</td></tr><tr><td>419129</td><td>Kings XI Punjab</td><td>field</td><td>Rajasthan Royals</td><td>Lost</td></tr><tr><td>419130</td><td>Mumbai Indians</td><td>field</td><td>Mumbai Indians</td><td>Won</td></tr><tr><td>419131</td><td>Deccan Chargers</td><td>bat</td><td>Rajasthan Royals</td><td>Lost</td></tr><tr><td>419132</td><td>Kolkata Knight Riders</td><td>bat</td><td>Kolkata Knight Riders</td><td>Won</td></tr><tr><td>419133</td><td>Royal Challengers Bangalore</td><td>field</td><td>Delhi Daredevils</td><td>Lost</td></tr><tr><td>419134</td><td>Rajasthan Royals</td><td>bat</td><td>Rajasthan Royals</td><td>Won</td></tr><tr><td>419135</td><td>Deccan Chargers</td><td>field</td><td>Mumbai Indians</td><td>Lost</td></tr><tr><td>419136</td><td>Delhi Daredevils</td><td>bat</td><td>Delhi Daredevils</td><td>Won</td></tr><tr><td>419137</td><td>Mumbai Indians</td><td>field</td><td>Mumbai Indians</td><td>Won</td></tr><tr><td>419138</td><td>Royal Challengers Bangalore</td><td>bat</td><td>Chennai Super Kings</td><td>Lost</td></tr><tr><td>419139</td><td>Delhi Daredevils</td><td>bat</td><td>Delhi Daredevils</td><td>Won</td></tr><tr><td>419140</td><td>Kolkata Knight Riders</td><td>bat</td><td>Kolkata Knight Riders</td><td>Won</td></tr><tr><td>419141</td><td>Kings XI Punjab</td><td>bat</td><td>Royal Challengers Bangalore</td><td>Lost</td></tr><tr><td>419142</td><td>Chennai Super Kings</td><td>bat</td><td>Chennai Super Kings</td><td>Won</td></tr><tr><td>419143</td><td>Mumbai Indians</td><td>bat</td><td>Mumbai Indians</td><td>Won</td></tr><tr><td>419144</td><td>Kolkata Knight Riders</td><td>bat</td><td>Kings XI Punjab</td><td>Lost</td></tr><tr><td>419145</td><td>Delhi Daredevils</td><td>bat</td><td>Delhi Daredevils</td><td>Won</td></tr><tr><td>419146</td><td>Rajasthan Royals</td><td>bat</td><td>Rajasthan Royals</td><td>Won</td></tr><tr><td>419147</td><td>Chennai Super Kings</td><td>bat</td><td>Chennai Super Kings</td><td>Won</td></tr><tr><td>419148</td><td>Kings XI Punjab</td><td>bat</td><td>Rajasthan Royals</td><td>Lost</td></tr><tr><td>419149</td><td>Kolkata Knight Riders</td><td>bat</td><td>Kolkata Knight Riders</td><td>Won</td></tr><tr><td>419150</td><td>Deccan Chargers</td><td>field</td><td>Deccan Chargers</td><td>Won</td></tr><tr><td>419151</td><td>Mumbai Indians</td><td>bat</td><td>Kings XI Punjab</td><td>Lost</td></tr><tr><td>419152</td><td>Chennai Super Kings</td><td>bat</td><td>Deccan Chargers</td><td>Lost</td></tr><tr><td>419153</td><td>Royal Challengers Bangalore</td><td>field</td><td>Royal Challengers Bangalore</td><td>Won</td></tr><tr><td>419154</td><td>Delhi Daredevils</td><td>bat</td><td>Kings XI Punjab</td><td>Lost</td></tr><tr><td>419155</td><td>Rajasthan Royals</td><td>field</td><td>Mumbai Indians</td><td>Lost</td></tr><tr><td>419156</td><td>Royal Challengers Bangalore</td><td>field</td><td>Deccan Chargers</td><td>Lost</td></tr><tr><td>419157</td><td>Mumbai Indians</td><td>bat</td><td>Mumbai Indians</td><td>Won</td></tr><tr><td>419158</td><td>Kolkata Knight Riders</td><td>bat</td><td>Chennai Super Kings</td><td>Lost</td></tr><tr><td>419159</td><td>Rajasthan Royals</td><td>bat</td><td>Royal Challengers Bangalore</td><td>Lost</td></tr><tr><td>419160</td><td>Chennai Super Kings</td><td>bat</td><td>Delhi Daredevils</td><td>Lost</td></tr><tr><td>419161</td><td>Deccan Chargers</td><td>field</td><td>Deccan Chargers</td><td>Won</td></tr><tr><td>419162</td><td>Royal Challengers Bangalore</td><td>field</td><td>Mumbai Indians</td><td>Lost</td></tr><tr><td>419163</td><td>Rajasthan Royals</td><td>bat</td><td>Kolkata Knight Riders</td><td>Lost</td></tr><tr><td>419164</td><td>Chennai Super Kings</td><td>field</td><td>Chennai Super Kings</td><td>Won</td></tr><tr><td>419165</td><td>Deccan Chargers</td><td>bat</td><td>Deccan Chargers</td><td>Won</td></tr><tr><td>419166</td><td>Mumbai Indians</td><td>bat</td><td>Kolkata Knight Riders</td><td>Lost</td></tr><tr><td>419167</td><td>Mumbai Indians</td><td>bat</td><td>Mumbai Indians</td><td>Won</td></tr><tr><td>419168</td><td>Chennai Super Kings</td><td>bat</td><td>Chennai Super Kings</td><td>Won</td></tr><tr><td>419169</td><td>Deccan Chargers</td><td>bat</td><td>Royal Challengers Bangalore</td><td>Lost</td></tr><tr><td>419170</td><td>Chennai Super Kings</td><td>bat</td><td>Chennai Super Kings</td><td>Won</td></tr><tr><td>501203</td><td>Chennai Super Kings</td><td>bat</td><td>Chennai Super Kings</td><td>Won</td></tr><tr><td>501204</td><td>Rajasthan Royals</td><td>field</td><td>Rajasthan Royals</td><td>Won</td></tr><tr><td>501205</td><td>Kochi Tuskers Kerala</td><td>bat</td><td>Royal Challengers Bangalore</td><td>Lost</td></tr><tr><td>501206</td><td>Delhi Daredevils</td><td>bat</td><td>Mumbai Indians</td><td>Lost</td></tr><tr><td>501207</td><td>Kings XI Punjab</td><td>bat</td><td>Pune Warriors</td><td>Lost</td></tr><tr><td>501208</td><td>Kolkata Knight Riders</td><td>bat</td><td>Kolkata Knight Riders</td><td>Won</td></tr><tr><td>501209</td><td>Delhi Daredevils</td><td>bat</td><td>Rajasthan Royals</td><td>Lost</td></tr><tr><td>501210</td><td>Mumbai Indians</td><td>field</td><td>Mumbai Indians</td><td>Won</td></tr><tr><td>501211</td><td>Kings XI Punjab</td><td>field</td><td>Kings XI Punjab</td><td>Won</td></tr><tr><td>501212</td><td>Kochi Tuskers Kerala</td><td>bat</td><td>Pune Warriors</td><td>Lost</td></tr><tr><td>501213</td><td>Royal Challengers Bangalore</td><td>field</td><td>Deccan Chargers</td><td>Lost</td></tr><tr><td>501214</td><td>Kolkata Knight Riders</td><td>field</td><td>Kolkata Knight Riders</td><td>Won</td></tr><tr><td>501215</td><td>Kochi Tuskers Kerala</td><td>field</td><td>Kochi Tuskers Kerala</td><td>Won</td></tr><tr><td>501216</td><td>Chennai Super Kings</td><td>bat</td><td>Chennai Super Kings</td><td>Won</td></tr><tr><td>501217</td><td>Kings XI Punjab</td><td>field</td><td>Kings XI Punjab</td><td>Won</td></tr><tr><td>501218</td><td>Delhi Daredevils</td><td>field</td><td>Delhi Daredevils</td><td>Won</td></tr><tr><td>501219</td><td>Kolkata Knight Riders</td><td>field</td><td>Kolkata Knight Riders</td><td>Won</td></tr><tr><td>501220</td><td>Kochi Tuskers Kerala</td><td>field</td><td>Kochi Tuskers Kerala</td><td>Won</td></tr><tr><td>501221</td><td>Deccan Chargers</td><td>bat</td><td>Deccan Chargers</td><td>Won</td></tr><tr><td>501223</td><td>Pune Warriors</td><td>bat</td><td>Mumbai Indians</td><td>Lost</td></tr><tr><td>501224</td><td>Kolkata Knight Riders</td><td>field</td><td>Kochi Tuskers Kerala</td><td>Lost</td></tr><tr><td>501225</td><td>Rajasthan Royals</td><td>field</td><td>Kings XI Punjab</td><td>Lost</td></tr><tr><td>501226</td><td>Chennai Super Kings</td><td>field</td><td>Mumbai Indians</td><td>Lost</td></tr><tr><td>501227</td><td>Royal Challengers Bangalore</td><td>field</td><td>Royal Challengers Bangalore</td><td>Won</td></tr><tr><td>501228</td><td>Kings XI Punjab</td><td>field</td><td>Delhi Daredevils</td><td>Lost</td></tr><tr><td>501229</td><td>Deccan Chargers</td><td>field</td><td>Mumbai Indians</td><td>Lost</td></tr><tr><td>501230</td><td>Rajasthan Royals</td><td>field</td><td>Rajasthan Royals</td><td>Won</td></tr><tr><td>501231</td><td>Pune Warriors</td><td>field</td><td>Chennai Super Kings</td><td>Lost</td></tr><tr><td>501232</td><td>Royal Challengers Bangalore</td><td>field</td><td>Royal Challengers Bangalore</td><td>Won</td></tr><tr><td>501233</td><td>Pune Warriors</td><td>bat</td><td>Chennai Super Kings</td><td>Lost</td></tr><tr><td>501234</td><td>Kochi Tuskers Kerala</td><td>field</td><td>Deccan Chargers</td><td>Lost</td></tr><tr><td>501235</td><td>Delhi Daredevils</td><td>field</td><td>Kolkata Knight Riders</td><td>Lost</td></tr><tr><td>501236</td><td>Rajasthan Royals</td><td>field</td><td>Rajasthan Royals</td><td>Won</td></tr><tr><td>501237</td><td>Pune Warriors</td><td>field</td><td>Royal Challengers Bangalore</td><td>Lost</td></tr><tr><td>501238</td><td>Delhi Daredevils</td><td>bat</td><td>Delhi Daredevils</td><td>Won</td></tr><tr><td>501239</td><td>Kolkata Knight Riders</td><td>field</td><td>Kolkata Knight Riders</td><td>Won</td></tr><tr><td>501240</td><td>Rajasthan Royals</td><td>field</td><td>Rajasthan Royals</td><td>Won</td></tr><tr><td>501241</td><td>Chennai Super Kings</td><td>bat</td><td>Chennai Super Kings</td><td>Won</td></tr><tr><td>501242</td><td>Kings XI Punjab</td><td>field</td><td>Mumbai Indians</td><td>Lost</td></tr><tr><td>501243</td><td>Kochi Tuskers Kerala</td><td>field</td><td>Kochi Tuskers Kerala</td><td>Won</td></tr><tr><td>501244</td><td>Deccan Chargers</td><td>field</td><td>Kolkata Knight Riders</td><td>Lost</td></tr><tr><td>501245</td><td>Rajasthan Royals</td><td>bat</td><td>Chennai Super Kings</td><td>Lost</td></tr><tr><td>501246</td><td>Pune Warriors</td><td>field</td><td>Mumbai Indians</td><td>Lost</td></tr><tr><td>501247</td><td>Kolkata Knight Riders</td><td>field</td><td>Kochi Tuskers Kerala</td><td>Lost</td></tr><tr><td>501248</td><td>Delhi Daredevils</td><td>field</td><td>Delhi Daredevils</td><td>Won</td></tr><tr><td>501249</td><td>Kings XI Punjab</td><td>field</td><td>Royal Challengers Bangalore</td><td>Lost</td></tr><tr><td>501250</td><td>Chennai Super Kings</td><td>bat</td><td>Kolkata Knight Riders</td><td>Lost</td></tr><tr><td>501251</td><td>Delhi Daredevils</td><td>field</td><td>Mumbai Indians</td><td>Lost</td></tr><tr><td>501252</td><td>Kochi Tuskers Kerala</td><td>bat</td><td>Royal Challengers Bangalore</td><td>Lost</td></tr><tr><td>501253</td><td>Kings XI Punjab</td><td>bat</td><td>Pune Warriors</td><td>Lost</td></tr><tr><td>501254</td><td>Rajasthan Royals</td><td>field</td><td>Chennai Super Kings</td><td>Lost</td></tr><tr><td>501255</td><td>Deccan Chargers</td><td>bat</td><td>Pune Warriors</td><td>Lost</td></tr><tr><td>501256</td><td>Mumbai Indians</td><td>field</td><td>Kings XI Punjab</td><td>Lost</td></tr><tr><td>501257</td><td>Royal Challengers Bangalore</td><td>field</td><td>Royal Challengers Bangalore</td><td>Won</td></tr><tr><td>501258</td><td>Chennai Super Kings</td><td>bat</td><td>Chennai Super Kings</td><td>Won</td></tr><tr><td>501259</td><td>Kings XI Punjab</td><td>field</td><td>Kings XI Punjab</td><td>Won</td></tr><tr><td>501260</td><td>Royal Challengers Bangalore</td><td>field</td><td>Royal Challengers Bangalore</td><td>Won</td></tr><tr><td>501261</td><td>Deccan Chargers</td><td>bat</td><td>Deccan Chargers</td><td>Won</td></tr><tr><td>501262</td><td>Delhi Daredevils</td><td>field</td><td>Kings XI Punjab</td><td>Lost</td></tr><tr><td>501263</td><td>Kochi Tuskers Kerala</td><td>field</td><td>Kochi Tuskers Kerala</td><td>Won</td></tr><tr><td>501264</td><td>Deccan Chargers</td><td>field</td><td>Deccan Chargers</td><td>Won</td></tr><tr><td>501265</td><td>Kings XI Punjab</td><td>bat</td><td>Kings XI Punjab</td><td>Won</td></tr><tr><td>501266</td><td>Chennai Super Kings</td><td>bat</td><td>Chennai Super Kings</td><td>Won</td></tr><tr><td>501267</td><td>Kolkata Knight Riders</td><td>field</td><td>Kolkata Knight Riders</td><td>Won</td></tr><tr><td>501268</td><td>Mumbai Indians</td><td>bat</td><td>Rajasthan Royals</td><td>Lost</td></tr><tr><td>501269</td><td>Kings XI Punjab</td><td>field</td><td>Deccan Chargers</td><td>Lost</td></tr><tr><td>501271</td><td>Royal Challengers Bangalore</td><td>field</td><td>Royal Challengers Bangalore</td><td>Won</td></tr><tr><td>501272</td><td>Mumbai Indians</td><td>field</td><td>Mumbai Indians</td><td>Won</td></tr><tr><td>501273</td><td>Chennai Super Kings</td><td>field</td><td>Chennai Super Kings</td><td>Won</td></tr><tr><td>501274</td><td>Mumbai Indians</td><td>field</td><td>Mumbai Indians</td><td>Won</td></tr><tr><td>501275</td><td>Mumbai Indians</td><td>field</td><td>Royal Challengers Bangalore</td><td>Lost</td></tr><tr><td>501276</td><td>Chennai Super Kings</td><td>bat</td><td>Chennai Super Kings</td><td>Won</td></tr><tr><td>548311</td><td>Mumbai Indians</td><td>field</td><td>Mumbai Indians</td><td>Won</td></tr><tr><td>548312</td><td>Delhi Daredevils</td><td>field</td><td>Delhi Daredevils</td><td>Won</td></tr><tr><td>548313</td><td>Mumbai Indians</td><td>field</td><td>Pune Warriors</td><td>Lost</td></tr><tr><td>548314</td><td>Kings XI Punjab</td><td>field</td><td>Rajasthan Royals</td><td>Lost</td></tr><tr><td>548315</td><td>Delhi Daredevils</td><td>field</td><td>Royal Challengers Bangalore</td><td>Lost</td></tr><tr><td>548316</td><td>Deccan Chargers</td><td>field</td><td>Chennai Super Kings</td><td>Lost</td></tr><tr><td>548317</td><td>Kolkata Knight Riders</td><td>field</td><td>Rajasthan Royals</td><td>Lost</td></tr><tr><td>548318</td><td>Pune Warriors</td><td>bat</td><td>Pune Warriors</td><td>Won</td></tr><tr><td>548319</td><td>Deccan Chargers</td><td>bat</td><td>Mumbai Indians</td><td>Lost</td></tr><tr><td>548320</td><td>Royal Challengers Bangalore</td><td>field</td><td>Kolkata Knight Riders</td><td>Lost</td></tr><tr><td>548321</td><td>Delhi Daredevils</td><td>field</td><td>Delhi Daredevils</td><td>Won</td></tr><tr><td>548322</td><td>Rajasthan Royals</td><td>field</td><td>Mumbai Indians</td><td>Lost</td></tr><tr><td>548323</td><td>Royal Challengers Bangalore</td><td>bat</td><td>Chennai Super Kings</td><td>Lost</td></tr><tr><td>548324</td><td>Kings XI Punjab</td><td>field</td><td>Kings XI Punjab</td><td>Won</td></tr><tr><td>548325</td><td>Rajasthan Royals</td><td>bat</td><td>Kolkata Knight Riders</td><td>Lost</td></tr><tr><td>548326</td><td>Deccan Chargers</td><td>bat</td><td>Delhi Daredevils</td><td>Lost</td></tr><tr><td>548327</td><td>Chennai Super Kings</td><td>bat</td><td>Pune Warriors</td><td>Lost</td></tr><tr><td>548328</td><td>Kolkata Knight Riders</td><td>field</td><td>Kings XI Punjab</td><td>Lost</td></tr><tr><td>548329</td><td>Rajasthan Royals</td><td>bat</td><td>Rajasthan Royals</td><td>Won</td></tr><tr><td>548330</td><td>Delhi Daredevils</td><td>field</td><td>Delhi Daredevils</td><td>Won</td></tr><tr><td>548331</td><td>Deccan Chargers</td><td>bat</td><td>Rajasthan Royals</td><td>Lost</td></tr><tr><td>548332</td><td>Pune Warriors</td><td>bat</td><td>Royal Challengers Bangalore</td><td>Lost</td></tr><tr><td>548333</td><td>Kings XI Punjab</td><td>bat</td><td>Kolkata Knight Riders</td><td>Lost</td></tr><tr><td>548334</td><td>Deccan Chargers</td><td>bat</td><td>Delhi Daredevils</td><td>Lost</td></tr><tr><td>548335</td><td>Pune Warriors</td><td>field</td><td>Chennai Super Kings</td><td>Lost</td></tr><tr><td>548336</td><td>Royal Challengers Bangalore</td><td>field</td><td>Royal Challengers Bangalore</td><td>Won</td></tr><tr><td>548337</td><td>Rajasthan Royals</td><td>bat</td><td>Chennai Super Kings</td><td>Lost</td></tr><tr><td>548338</td><td>Delhi Daredevils</td><td>field</td><td>Pune Warriors</td><td>Lost</td></tr><tr><td>548339</td><td>Mumbai Indians</td><td>bat</td><td>Kings XI Punjab</td><td>Lost</td></tr><tr><td>548340</td><td>Kolkata Knight Riders</td><td>field</td><td>Kolkata Knight Riders</td><td>Won</td></tr><tr><td>548341</td><td>Rajasthan Royals</td><td>field</td><td>Royal Challengers Bangalore</td><td>Lost</td></tr><tr><td>548342</td><td>Pune Warriors</td><td>bat</td><td>Delhi Daredevils</td><td>Lost</td></tr><tr><td>548344</td><td>Kings XI Punjab</td><td>bat</td><td>Mumbai Indians</td><td>Lost</td></tr><tr><td>548346</td><td>Deccan Chargers</td><td>bat</td><td>Deccan Chargers</td><td>Won</td></tr><tr><td>548347</td><td>Mumbai Indians</td><td>field</td><td>Delhi Daredevils</td><td>Lost</td></tr><tr><td>548348</td><td>Kings XI Punjab</td><td>bat</td><td>Kings XI Punjab</td><td>Won</td></tr><tr><td>548349</td><td>Kolkata Knight Riders</td><td>bat</td><td>Kolkata Knight Riders</td><td>Won</td></tr><tr><td>548350</td><td>Delhi Daredevils</td><td>bat</td><td>Delhi Daredevils</td><td>Won</td></tr><tr><td>548351</td><td>Mumbai Indians</td><td>field</td><td>Mumbai Indians</td><td>Won</td></tr><tr><td>548352</td><td>Chennai Super Kings</td><td>bat</td><td>Kolkata Knight Riders</td><td>Lost</td></tr><tr><td>548353</td><td>Deccan Chargers</td><td>bat</td><td>Deccan Chargers</td><td>Won</td></tr><tr><td>548354</td><td>Rajasthan Royals</td><td>bat</td><td>Delhi Daredevils</td><td>Lost</td></tr><tr><td>548355</td><td>Kings XI Punjab</td><td>field</td><td>Kings XI Punjab</td><td>Won</td></tr><tr><td>548356</td><td>Mumbai Indians</td><td>bat</td><td>Mumbai Indians</td><td>Won</td></tr><tr><td>548357</td><td>Chennai Super Kings</td><td>bat</td><td>Chennai Super Kings</td><td>Won</td></tr><tr><td>548358</td><td>Kolkata Knight Riders</td><td>bat</td><td>Kolkata Knight Riders</td><td>Won</td></tr><tr><td>548359</td><td>Rajasthan Royals</td><td>bat</td><td>Rajasthan Royals</td><td>Won</td></tr><tr><td>548360</td><td>Mumbai Indians</td><td>field</td><td>Mumbai Indians</td><td>Won</td></tr><tr><td>548361</td><td>Royal Challengers Bangalore</td><td>field</td><td>Royal Challengers Bangalore</td><td>Won</td></tr><tr><td>548362</td><td>Delhi Daredevils</td><td>bat</td><td>Kolkata Knight Riders</td><td>Lost</td></tr><tr><td>548363</td><td>Pune Warriors</td><td>bat</td><td>Rajasthan Royals</td><td>Lost</td></tr><tr><td>548364</td><td>Deccan Chargers</td><td>field</td><td>Kings XI Punjab</td><td>Lost</td></tr><tr><td>548365</td><td>Royal Challengers Bangalore</td><td>field</td><td>Royal Challengers Bangalore</td><td>Won</td></tr><tr><td>548366</td><td>Chennai Super Kings</td><td>field</td><td>Chennai Super Kings</td><td>Won</td></tr><tr><td>548367</td><td>Pune Warriors</td><td>field</td><td>Royal Challengers Bangalore</td><td>Lost</td></tr><tr><td>548368</td><td>Mumbai Indians</td><td>bat</td><td>Mumbai Indians</td><td>Won</td></tr><tr><td>548369</td><td>Chennai Super Kings</td><td>field</td><td>Chennai Super Kings</td><td>Won</td></tr><tr><td>548370</td><td>Rajasthan Royals</td><td>bat</td><td>Rajasthan Royals</td><td>Won</td></tr><tr><td>548371</td><td>Deccan Chargers</td><td>bat</td><td>Kings XI Punjab</td><td>Lost</td></tr><tr><td>548372</td><td>Mumbai Indians</td><td>field</td><td>Mumbai Indians</td><td>Won</td></tr><tr><td>548373</td><td>Chennai Super Kings</td><td>field</td><td>Chennai Super Kings</td><td>Won</td></tr><tr><td>548374</td><td>Kings XI Punjab</td><td>bat</td><td>Delhi Daredevils</td><td>Lost</td></tr><tr><td>548375</td><td>Mumbai Indians</td><td>field</td><td>Kolkata Knight Riders</td><td>Lost</td></tr><tr><td>548376</td><td>Kings XI Punjab</td><td>field</td><td>Kings XI Punjab</td><td>Won</td></tr><tr><td>548377</td><td>Delhi Daredevils</td><td>field</td><td>Royal Challengers Bangalore</td><td>Lost</td></tr><tr><td>548378</td><td>Rajasthan Royals</td><td>bat</td><td>Deccan Chargers</td><td>Lost</td></tr><tr><td>548379</td><td>Delhi Daredevils</td><td>field</td><td>Delhi Daredevils</td><td>Won</td></tr><tr><td>548380</td><td>Kolkata Knight Riders</td><td>bat</td><td>Kolkata Knight Riders</td><td>Won</td></tr><tr><td>548381</td><td>Royal Challengers Bangalore</td><td>field</td><td>Deccan Chargers</td><td>Lost</td></tr><tr><td>548382</td><td>Rajasthan Royals</td><td>bat</td><td>Mumbai Indians</td><td>Lost</td></tr><tr><td>548383</td><td>Kolkata Knight Riders</td><td>bat</td><td>Kolkata Knight Riders</td><td>Won</td></tr><tr><td>548384</td><td>Mumbai Indians</td><td>field</td><td>Chennai Super Kings</td><td>Lost</td></tr><tr><td>548385</td><td>Delhi Daredevils</td><td>field</td><td>Chennai Super Kings</td><td>Lost</td></tr><tr><td>548386</td><td>Chennai Super Kings</td><td>bat</td><td>Kolkata Knight Riders</td><td>Lost</td></tr><tr><td>598003</td><td>Kolkata Knight Riders</td><td>field</td><td>Kolkata Knight Riders</td><td>Won</td></tr><tr><td>598004</td><td>Mumbai Indians</td><td>field</td><td>Royal Challengers Bangalore</td><td>Lost</td></tr><tr><td>598005</td><td>Pune Warriors</td><td>field</td><td>Sunrisers Hyderabad</td><td>Lost</td></tr><tr><td>598006</td><td>Rajasthan Royals</td><td>bat</td><td>Rajasthan Royals</td><td>Won</td></tr><tr><td>598007</td><td>Mumbai Indians</td><td>bat</td><td>Mumbai Indians</td><td>Won</td></tr><tr><td>598008</td><td>Pune Warriors</td><td>bat</td><td>Kings XI Punjab</td><td>Lost</td></tr><tr><td>598009</td><td>Royal Challengers Bangalore</td><td>bat</td><td>Sunrisers Hyderabad</td><td>Lost</td></tr><tr><td>598010</td><td>Kolkata Knight Riders</td><td>field</td><td>Rajasthan Royals</td><td>Lost</td></tr><tr><td>598011</td><td>Mumbai Indians</td><td>bat</td><td>Mumbai Indians</td><td>Won</td></tr><tr><td>598012</td><td>Chennai Super Kings</td><td>field</td><td>Chennai Super Kings</td><td>Won</td></tr><tr><td>598013</td><td>Royal Challengers Bangalore</td><td>field</td><td>Royal Challengers Bangalore</td><td>Won</td></tr><tr><td>598014</td><td>Rajasthan Royals</td><td>bat</td><td>Pune Warriors</td><td>Lost</td></tr><tr><td>598015</td><td>Delhi Daredevils</td><td>bat</td><td>Sunrisers Hyderabad</td><td>Lost</td></tr><tr><td>598016</td><td>Mumbai Indians</td><td>bat</td><td>Mumbai Indians</td><td>Won</td></tr><tr><td>598017</td><td>Chennai Super Kings</td><td>field</td><td>Chennai Super Kings</td><td>Won</td></tr><tr><td>598018</td><td>Kolkata Knight Riders</td><td>bat</td><td>Kolkata Knight Riders</td><td>Won</td></tr><tr><td>598019</td><td>Rajasthan Royals</td><td>field</td><td>Rajasthan Royals</td><td>Won</td></tr><tr><td>598020</td><td>Pune Warriors</td><td>bat</td><td>Pune Warriors</td><td>Won</td></tr><tr><td>598021</td><td>Kolkata Knight Riders</td><td>field</td><td>Kings XI Punjab</td><td>Lost</td></tr><tr><td>598022</td><td>Royal Challengers Bangalore</td><td>field</td><td>Royal Challengers Bangalore</td><td>Won</td></tr><tr><td>598023</td><td>Pune Warriors</td><td>field</td><td>Sunrisers Hyderabad</td><td>Lost</td></tr><tr><td>598024</td><td>Rajasthan Royals</td><td>bat</td><td>Rajasthan Royals</td><td>Won</td></tr><tr><td>598025</td><td>Chennai Super Kings</td><td>bat</td><td>Chennai Super Kings</td><td>Won</td></tr><tr><td>598026</td><td>Kings XI Punjab</td><td>bat</td><td>Sunrisers Hyderabad</td><td>Lost</td></tr><tr><td>598027</td><td>Kolkata Knight Riders</td><td>bat</td><td>Chennai Super Kings</td><td>Lost</td></tr><tr><td>598028</td><td>Royal Challengers Bangalore</td><td>field</td><td>Royal Challengers Bangalore</td><td>Won</td></tr><tr><td>598029</td><td>Mumbai Indians</td><td>bat</td><td>Delhi Daredevils</td><td>Lost</td></tr><tr><td>598030</td><td>Kings XI Punjab</td><td>field</td><td>Kings XI Punjab</td><td>Won</td></tr><tr><td>598031</td><td>Rajasthan Royals</td><td>bat</td><td>Chennai Super Kings</td><td>Lost</td></tr><tr><td>598032</td><td>Pune Warriors</td><td>field</td><td>Royal Challengers Bangalore</td><td>Lost</td></tr><tr><td>598033</td><td>Delhi Daredevils</td><td>field</td><td>Kings XI Punjab</td><td>Lost</td></tr><tr><td>598034</td><td>Kolkata Knight Riders</td><td>bat</td><td>Mumbai Indians</td><td>Lost</td></tr><tr><td>598035</td><td>Sunrisers Hyderabad</td><td>bat</td><td>Chennai Super Kings</td><td>Lost</td></tr><tr><td>598036</td><td>Kings XI Punjab</td><td>bat</td><td>Kolkata Knight Riders</td><td>Lost</td></tr><tr><td>598037</td><td>Sunrisers Hyderabad</td><td>bat</td><td>Rajasthan Royals</td><td>Lost</td></tr><tr><td>598038</td><td>Mumbai Indians</td><td>bat</td><td>Mumbai Indians</td><td>Won</td></tr><tr><td>598039</td><td>Kolkata Knight Riders</td><td>field</td><td>Chennai Super Kings</td><td>Lost</td></tr><tr><td>598040</td><td>Pune Warriors</td><td>field</td><td>Delhi Daredevils</td><td>Lost</td></tr><tr><td>598041</td><td>Rajasthan Royals</td><td>field</td><td>Rajasthan Royals</td><td>Won</td></tr><tr><td>598042</td><td>Mumbai Indians</td><td>bat</td><td>Mumbai Indians</td><td>Won</td></tr><tr><td>598043</td><td>Chennai Super Kings</td><td>bat</td><td>Chennai Super Kings</td><td>Won</td></tr><tr><td>598044</td><td>Mumbai Indians</td><td>bat</td><td>Sunrisers Hyderabad</td><td>Lost</td></tr><tr><td>598045</td><td>Kolkata Knight Riders</td><td>bat</td><td>Delhi Daredevils</td><td>Lost</td></tr><tr><td>598046</td><td>Chennai Super Kings</td><td>bat</td><td>Chennai Super Kings</td><td>Won</td></tr><tr><td>598047</td><td>Royal Challengers Bangalore</td><td>bat</td><td>Royal Challengers Bangalore</td><td>Won</td></tr><tr><td>598048</td><td>Rajasthan Royals</td><td>bat</td><td>Kolkata Knight Riders</td><td>Lost</td></tr><tr><td>598049</td><td>Delhi Daredevils</td><td>bat</td><td>Sunrisers Hyderabad</td><td>Lost</td></tr><tr><td>598050</td><td>Kings XI Punjab</td><td>field</td><td>Kings XI Punjab</td><td>Won</td></tr><tr><td>598051</td><td>Mumbai Indians</td><td>bat</td><td>Mumbai Indians</td><td>Won</td></tr><tr><td>598052</td><td>Pune Warriors</td><td>bat</td><td>Rajasthan Royals</td><td>Lost</td></tr><tr><td>598053</td><td>Sunrisers Hyderabad</td><td>bat</td><td>Royal Challengers Bangalore</td><td>Lost</td></tr><tr><td>598054</td><td>Delhi Daredevils</td><td>bat</td><td>Rajasthan Royals</td><td>Lost</td></tr><tr><td>598055</td><td>Mumbai Indians</td><td>bat</td><td>Mumbai Indians</td><td>Won</td></tr><tr><td>598056</td><td>Sunrisers Hyderabad</td><td>field</td><td>Chennai Super Kings</td><td>Lost</td></tr><tr><td>598057</td><td>Rajasthan Royals</td><td>field</td><td>Rajasthan Royals</td><td>Won</td></tr><tr><td>598058</td><td>Kolkata Knight Riders</td><td>bat</td><td>Kolkata Knight Riders</td><td>Won</td></tr><tr><td>598059</td><td>Delhi Daredevils</td><td>field</td><td>Royal Challengers Bangalore</td><td>Lost</td></tr><tr><td>598060</td><td>Pune Warriors</td><td>bat</td><td>Mumbai Indians</td><td>Lost</td></tr><tr><td>598061</td><td>Kings XI Punjab</td><td>field</td><td>Sunrisers Hyderabad</td><td>Lost</td></tr><tr><td>598062</td><td>Kolkata Knight Riders</td><td>field</td><td>Kolkata Knight Riders</td><td>Won</td></tr><tr><td>598063</td><td>Rajasthan Royals</td><td>field</td><td>Rajasthan Royals</td><td>Won</td></tr><tr><td>598064</td><td>Kings XI Punjab</td><td>field</td><td>Kings XI Punjab</td><td>Won</td></tr><tr><td>598065</td><td>Sunrisers Hyderabad</td><td>bat</td><td>Mumbai Indians</td><td>Lost</td></tr><tr><td>598066</td><td>Kolkata Knight Riders</td><td>field</td><td>Pune Warriors</td><td>Lost</td></tr><tr><td>598067</td><td>Chennai Super Kings</td><td>bat</td><td>Chennai Super Kings</td><td>Won</td></tr><tr><td>598068</td><td>Rajasthan Royals</td><td>field</td><td>Mumbai Indians</td><td>Lost</td></tr><tr><td>598069</td><td>Kings XI Punjab</td><td>field</td><td>Kings XI Punjab</td><td>Won</td></tr><tr><td>598070</td><td>Sunrisers Hyderabad</td><td>bat</td><td>Sunrisers Hyderabad</td><td>Won</td></tr><tr><td>598071</td><td>Mumbai Indians</td><td>field</td><td>Kings XI Punjab</td><td>Lost</td></tr><tr><td>598072</td><td>Pune Warriors</td><td>bat</td><td>Pune Warriors</td><td>Won</td></tr><tr><td>598073</td><td>Chennai Super Kings</td><td>field</td><td>Royal Challengers Bangalore</td><td>Lost</td></tr><tr><td>598074</td><td>Kolkata Knight Riders</td><td>bat</td><td>Sunrisers Hyderabad</td><td>Lost</td></tr><tr><td>598075</td><td>Chennai Super Kings</td><td>bat</td><td>Chennai Super Kings</td><td>Won</td></tr><tr><td>598076</td><td>Sunrisers Hyderabad</td><td>bat</td><td>Rajasthan Royals</td><td>Lost</td></tr><tr><td>598077</td><td>Rajasthan Royals</td><td>bat</td><td>Mumbai Indians</td><td>Lost</td></tr><tr><td>598078</td><td>Mumbai Indians</td><td>bat</td><td>Mumbai Indians</td><td>Won</td></tr><tr><td>729284</td><td>Kolkata Knight Riders</td><td>bat</td><td>Kolkata Knight Riders</td><td>Won</td></tr><tr><td>729286</td><td>Royal Challengers Bangalore</td><td>field</td><td>Royal Challengers Bangalore</td><td>Won</td></tr><tr><td>729288</td><td>Chennai Super Kings</td><td>bat</td><td>Kings XI Punjab</td><td>Lost</td></tr><tr><td>729290</td><td>Rajasthan Royals</td><td>field</td><td>Rajasthan Royals</td><td>Won</td></tr><tr><td>729292</td><td>Royal Challengers Bangalore</td><td>field</td><td>Royal Challengers Bangalore</td><td>Won</td></tr><tr><td>729294</td><td>Kolkata Knight Riders</td><td>bat</td><td>Delhi Daredevils</td><td>Lost</td></tr><tr><td>729296</td><td>Kings XI Punjab</td><td>field</td><td>Kings XI Punjab</td><td>Won</td></tr><tr><td>729298</td><td>Chennai Super Kings</td><td>bat</td><td>Chennai Super Kings</td><td>Won</td></tr><tr><td>729300</td><td>Sunrisers Hyderabad</td><td>field</td><td>Kings XI Punjab</td><td>Lost</td></tr><tr><td>729302</td><td>Rajasthan Royals</td><td>field</td><td>Chennai Super Kings</td><td>Lost</td></tr><tr><td>729304</td><td>Royal Challengers Bangalore</td><td>field</td><td>Kolkata Knight Riders</td><td>Lost</td></tr><tr><td>729306</td><td>Sunrisers Hyderabad</td><td>bat</td><td>Sunrisers Hyderabad</td><td>Won</td></tr><tr><td>729308</td><td>Mumbai Indians</td><td>bat</td><td>Chennai Super Kings</td><td>Lost</td></tr><tr><td>729310</td><td>Rajasthan Royals</td><td>field</td><td>Rajasthan Royals</td><td>Won</td></tr><tr><td>729312</td><td>Kolkata Knight Riders</td><td>field</td><td>Kings XI Punjab</td><td>Lost</td></tr><tr><td>729314</td><td>Mumbai Indians</td><td>bat</td><td>Delhi Daredevils</td><td>Lost</td></tr><tr><td>729316</td><td>Sunrisers Hyderabad</td><td>bat</td><td>Chennai Super Kings</td><td>Lost</td></tr><tr><td>729318</td><td>Kings XI Punjab</td><td>field</td><td>Kings XI Punjab</td><td>Won</td></tr><tr><td>729320</td><td>Rajasthan Royals</td><td>bat</td><td>Rajasthan Royals</td><td>Won</td></tr><tr><td>729322</td><td>Mumbai Indians</td><td>field</td><td>Sunrisers Hyderabad</td><td>Lost</td></tr><tr><td>733976</td><td>Chennai Super Kings</td><td>bat</td><td>Chennai Super Kings</td><td>Won</td></tr><tr><td>733978</td><td>Kings XI Punjab</td><td>bat</td><td>Mumbai Indians</td><td>Lost</td></tr><tr><td>733980</td><td>Rajasthan Royals</td><td>field</td><td>Rajasthan Royals</td><td>Won</td></tr><tr><td>733982</td><td>Royal Challengers Bangalore</td><td>field</td><td>Royal Challengers Bangalore</td><td>Won</td></tr><tr><td>733984</td><td>Kolkata Knight Riders</td><td>field</td><td>Rajasthan Royals</td><td>Lost</td></tr><tr><td>733986</td><td>Chennai Super Kings</td><td>field</td><td>Chennai Super Kings</td><td>Won</td></tr><tr><td>733988</td><td>Royal Challengers Bangalore</td><td>field</td><td>Mumbai Indians</td><td>Lost</td></tr><tr><td>733990</td><td>Delhi Daredevils</td><td>bat</td><td>Kolkata Knight Riders</td><td>Lost</td></tr><tr><td>733992</td><td>Chennai Super Kings</td><td>field</td><td>Kings XI Punjab</td><td>Lost</td></tr><tr><td>733994</td><td>Rajasthan Royals</td><td>field</td><td>Sunrisers Hyderabad</td><td>Lost</td></tr><tr><td>733996</td><td>Royal Challengers Bangalore</td><td>field</td><td>Kings XI Punjab</td><td>Lost</td></tr><tr><td>733998</td><td>Sunrisers Hyderabad</td><td>field</td><td>Sunrisers Hyderabad</td><td>Won</td></tr><tr><td>734000</td><td>Chennai Super Kings</td><td>field</td><td>Chennai Super Kings</td><td>Won</td></tr><tr><td>734002</td><td>Kolkata Knight Riders</td><td>field</td><td>Kolkata Knight Riders</td><td>Won</td></tr><tr><td>734004</td><td>Royal Challengers Bangalore</td><td>bat</td><td>Rajasthan Royals</td><td>Lost</td></tr><tr><td>734006</td><td>Sunrisers Hyderabad</td><td>bat</td><td>Mumbai Indians</td><td>Lost</td></tr><tr><td>734008</td><td>Rajasthan Royals</td><td>bat</td><td>Chennai Super Kings</td><td>Lost</td></tr><tr><td>734010</td><td>Delhi Daredevils</td><td>field</td><td>Royal Challengers Bangalore</td><td>Lost</td></tr><tr><td>734012</td><td>Kings XI Punjab</td><td>field</td><td>Kings XI Punjab</td><td>Won</td></tr><tr><td>734014</td><td>Kolkata Knight Riders</td><td>field</td><td>Kolkata Knight Riders</td><td>Won</td></tr><tr><td>734016</td><td>Delhi Daredevils</td><td>field</td><td>Rajasthan Royals</td><td>Lost</td></tr><tr><td>734018</td><td>Chennai Super Kings</td><td>bat</td><td>Royal Challengers Bangalore</td><td>Lost</td></tr><tr><td>734020</td><td>Sunrisers Hyderabad</td><td>bat</td><td>Kolkata Knight Riders</td><td>Lost</td></tr><tr><td>734022</td><td>Mumbai Indians</td><td>bat</td><td>Mumbai Indians</td><td>Won</td></tr><tr><td>734024</td><td>Kings XI Punjab</td><td>field</td><td>Kings XI Punjab</td><td>Won</td></tr><tr><td>734026</td><td>Royal Challengers Bangalore</td><td>bat</td><td>Sunrisers Hyderabad</td><td>Lost</td></tr><tr><td>734028</td><td>Kolkata Knight Riders</td><td>field</td><td>Kolkata Knight Riders</td><td>Won</td></tr><tr><td>734030</td><td>Mumbai Indians</td><td>field</td><td>Mumbai Indians</td><td>Won</td></tr><tr><td>734032</td><td>Royal Challengers Bangalore</td><td>field</td><td>Kolkata Knight Riders</td><td>Lost</td></tr><tr><td>734034</td><td>Sunrisers Hyderabad</td><td>field</td><td>Sunrisers Hyderabad</td><td>Won</td></tr><tr><td>734036</td><td>Delhi Daredevils</td><td>field</td><td>Mumbai Indians</td><td>Lost</td></tr><tr><td>734038</td><td>Rajasthan Royals</td><td>field</td><td>Kings XI Punjab</td><td>Lost</td></tr><tr><td>734040</td><td>Chennai Super Kings</td><td>field</td><td>Chennai Super Kings</td><td>Won</td></tr><tr><td>734042</td><td>Kolkata Knight Riders</td><td>field</td><td>Kolkata Knight Riders</td><td>Won</td></tr><tr><td>734044</td><td>Kings XI Punjab</td><td>field</td><td>Kings XI Punjab</td><td>Won</td></tr><tr><td>734046</td><td>Mumbai Indians</td><td>field</td><td>Mumbai Indians</td><td>Won</td></tr><tr><td>734048</td><td>Kings XI Punjab</td><td>field</td><td>Kolkata Knight Riders</td><td>Lost</td></tr><tr><td>734050</td><td>Chennai Super Kings</td><td>field</td><td>Chennai Super Kings</td><td>Won</td></tr><tr><td>734052</td><td>Chennai Super Kings</td><td>field</td><td>Kings XI Punjab</td><td>Lost</td></tr><tr><td>734054</td><td>Kolkata Knight Riders</td><td>field</td><td>Kolkata Knight Riders</td><td>Won</td></tr><tr><td>829710</td><td>Kolkata Knight Riders</td><td>field</td><td>Kolkata Knight Riders</td><td>Won</td></tr><tr><td>829712</td><td>Delhi Daredevils</td><td>field</td><td>Chennai Super Kings</td><td>Lost</td></tr><tr><td>829714</td><td>Kings XI Punjab</td><td>field</td><td>Rajasthan Royals</td><td>Lost</td></tr><tr><td>829716</td><td>Chennai Super Kings</td><td>bat</td><td>Chennai Super Kings</td><td>Won</td></tr><tr><td>829718</td><td>Royal Challengers Bangalore</td><td>field</td><td>Royal Challengers Bangalore</td><td>Won</td></tr><tr><td>829720</td><td>Rajasthan Royals</td><td>field</td><td>Rajasthan Royals</td><td>Won</td></tr><tr><td>829722</td><td>Mumbai Indians</td><td>field</td><td>Kings XI Punjab</td><td>Lost</td></tr><tr><td>829724</td><td>Sunrisers Hyderabad</td><td>field</td><td>Sunrisers Hyderabad</td><td>Won</td></tr><tr><td>829726</td><td>Mumbai Indians</td><td>bat</td><td>Rajasthan Royals</td><td>Lost</td></tr><tr><td>829728</td><td>Kolkata Knight Riders</td><td>field</td><td>Kolkata Knight Riders</td><td>Won</td></tr><tr><td>829730</td><td>Kings XI Punjab</td><td>bat</td><td>Delhi Daredevils</td><td>Lost</td></tr><tr><td>829732</td><td>Rajasthan Royals</td><td>field</td><td>Rajasthan Royals</td><td>Won</td></tr><tr><td>829734</td><td>Mumbai Indians</td><td>bat</td><td>Chennai Super Kings</td><td>Lost</td></tr><tr><td>829736</td><td>Delhi Daredevils</td><td>bat</td><td>Delhi Daredevils</td><td>Won</td></tr><tr><td>829738</td><td>Kolkata Knight Riders</td><td>field</td><td>Kolkata Knight Riders</td><td>Won</td></tr><tr><td>829740</td><td>Chennai Super Kings</td><td>bat</td><td>Rajasthan Royals</td><td>Lost</td></tr><tr><td>829742</td><td>Royal Challengers Bangalore</td><td>field</td><td>Mumbai Indians</td><td>Lost</td></tr><tr><td>829744</td><td>Kolkata Knight Riders</td><td>field</td><td>Kolkata Knight Riders</td><td>Won</td></tr><tr><td>829746</td><td>Kings XI Punjab</td><td>field</td><td>Kings XI Punjab</td><td>Won</td></tr><tr><td>829748</td><td>Kolkata Knight Riders</td><td>field</td><td>Sunrisers Hyderabad</td><td>Lost</td></tr><tr><td>829750</td><td>Royal Challengers Bangalore</td><td>field</td><td>Chennai Super Kings</td><td>Lost</td></tr><tr><td>829752</td><td>Mumbai Indians</td><td>field</td><td>Delhi Daredevils</td><td>Lost</td></tr><tr><td>829754</td><td>Royal Challengers Bangalore</td><td>field</td><td>Royal Challengers Bangalore</td><td>Won</td></tr><tr><td>829756</td><td>Mumbai Indians</td><td>bat</td><td>Mumbai Indians</td><td>Won</td></tr><tr><td>829758</td><td>Chennai Super Kings</td><td>bat</td><td>Chennai Super Kings</td><td>Won</td></tr><tr><td>829762</td><td>Royal Challengers Bangalore</td><td>field</td><td>Royal Challengers Bangalore</td><td>Won</td></tr><tr><td>829764</td><td>Kings XI Punjab</td><td>field</td><td>Sunrisers Hyderabad</td><td>Lost</td></tr><tr><td>829766</td><td>Kolkata Knight Riders</td><td>bat</td><td>Kolkata Knight Riders</td><td>Won</td></tr><tr><td>829770</td><td>Kolkata Knight Riders</td><td>field</td><td>Chennai Super Kings</td><td>Lost</td></tr><tr><td>829772</td><td>Delhi Daredevils</td><td>field</td><td>Delhi Daredevils</td><td>Won</td></tr><tr><td>829774</td><td>Rajasthan Royals</td><td>field</td><td>Mumbai Indians</td><td>Lost</td></tr><tr><td>829776</td><td>Royal Challengers Bangalore</td><td>field</td><td>Royal Challengers Bangalore</td><td>Won</td></tr><tr><td>829778</td><td>Chennai Super Kings</td><td>field</td><td>Sunrisers Hyderabad</td><td>Lost</td></tr><tr><td>829780</td><td>Mumbai Indians</td><td>bat</td><td>Mumbai Indians</td><td>Won</td></tr><tr><td>829782</td><td>Delhi Daredevils</td><td>field</td><td>Rajasthan Royals</td><td>Lost</td></tr><tr><td>829784</td><td>Chennai Super Kings</td><td>bat</td><td>Chennai Super Kings</td><td>Won</td></tr><tr><td>829786</td><td>Sunrisers Hyderabad</td><td>field</td><td>Kolkata Knight Riders</td><td>Lost</td></tr><tr><td>829788</td><td>Delhi Daredevils</td><td>bat</td><td>Mumbai Indians</td><td>Lost</td></tr><tr><td>829790</td><td>Kings XI Punjab</td><td>field</td><td>Royal Challengers Bangalore</td><td>Lost</td></tr><tr><td>829792</td><td>Rajasthan Royals</td><td>field</td><td>Sunrisers Hyderabad</td><td>Lost</td></tr><tr><td>829794</td><td>Chennai Super Kings</td><td>bat</td><td>Mumbai Indians</td><td>Lost</td></tr><tr><td>829796</td><td>Kings XI Punjab</td><td>bat</td><td>Kolkata Knight Riders</td><td>Lost</td></tr><tr><td>829798</td><td>Sunrisers Hyderabad</td><td>bat</td><td>Sunrisers Hyderabad</td><td>Won</td></tr><tr><td>829800</td><td>Royal Challengers Bangalore</td><td>bat</td><td>Royal Challengers Bangalore</td><td>Won</td></tr><tr><td>829802</td><td>Chennai Super Kings</td><td>bat</td><td>Chennai Super Kings</td><td>Won</td></tr><tr><td>829804</td><td>Sunrisers Hyderabad</td><td>bat</td><td>Sunrisers Hyderabad</td><td>Won</td></tr><tr><td>829806</td><td>Chennai Super Kings</td><td>bat</td><td>Delhi Daredevils</td><td>Lost</td></tr><tr><td>829808</td><td>Royal Challengers Bangalore</td><td>field</td><td>Kings XI Punjab</td><td>Lost</td></tr><tr><td>829810</td><td>Kolkata Knight Riders</td><td>field</td><td>Mumbai Indians</td><td>Lost</td></tr><tr><td>829812</td><td>Sunrisers Hyderabad</td><td>bat</td><td>Royal Challengers Bangalore</td><td>Lost</td></tr><tr><td>829814</td><td>Kings XI Punjab</td><td>bat</td><td>Chennai Super Kings</td><td>Lost</td></tr><tr><td>829816</td><td>Rajasthan Royals</td><td>bat</td><td>Rajasthan Royals</td><td>Won</td></tr><tr><td>829820</td><td>Sunrisers Hyderabad</td><td>bat</td><td>Mumbai Indians</td><td>Lost</td></tr><tr><td>829822</td><td>Mumbai Indians</td><td>bat</td><td>Mumbai Indians</td><td>Won</td></tr><tr><td>829824</td><td>Royal Challengers Bangalore</td><td>bat</td><td>Royal Challengers Bangalore</td><td>Won</td></tr><tr><td>829826</td><td>Chennai Super Kings</td><td>field</td><td>Chennai Super Kings</td><td>Won</td></tr><tr><td>829828</td><td>Chennai Super Kings</td><td>field</td><td>Mumbai Indians</td><td>Lost</td></tr><tr><td>980906</td><td>Mumbai Indians</td><td>bat</td><td>Rising Pune Supergiants</td><td>Lost</td></tr><tr><td>980908</td><td>Kolkata Knight Riders</td><td>field</td><td>Kolkata Knight Riders</td><td>Won</td></tr><tr><td>980910</td><td>Gujarat Lions</td><td>field</td><td>Gujarat Lions</td><td>Won</td></tr><tr><td>980912</td><td>Sunrisers Hyderabad</td><td>field</td><td>Royal Challengers Bangalore</td><td>Lost</td></tr><tr><td>980914</td><td>Mumbai Indians</td><td>field</td><td>Mumbai Indians</td><td>Won</td></tr><tr><td>980916</td><td>Rising Pune Supergiants</td><td>bat</td><td>Gujarat Lions</td><td>Lost</td></tr><tr><td>980918</td><td>Delhi Daredevils</td><td>field</td><td>Delhi Daredevils</td><td>Won</td></tr><tr><td>980920</td><td>Sunrisers Hyderabad</td><td>bat</td><td>Kolkata Knight Riders</td><td>Lost</td></tr><tr><td>980922</td><td>Gujarat Lions</td><td>field</td><td>Gujarat Lions</td><td>Won</td></tr><tr><td>980924</td><td>Rising Pune Supergiants</td><td>bat</td><td>Kings XI Punjab</td><td>Lost</td></tr><tr><td>980926</td><td>Delhi Daredevils</td><td>field</td><td>Delhi Daredevils</td><td>Won</td></tr><tr><td>980928</td><td>Sunrisers Hyderabad</td><td>field</td><td>Sunrisers Hyderabad</td><td>Won</td></tr><tr><td>980930</td><td>Kolkata Knight Riders</td><td>field</td><td>Kolkata Knight Riders</td><td>Won</td></tr><tr><td>980932</td><td>Mumbai Indians</td><td>field</td><td>Mumbai Indians</td><td>Won</td></tr><tr><td>980934</td><td>Sunrisers Hyderabad</td><td>field</td><td>Sunrisers Hyderabad</td><td>Won</td></tr><tr><td>980936</td><td>Rising Pune Supergiants</td><td>field</td><td>Royal Challengers Bangalore</td><td>Lost</td></tr><tr><td>980938</td><td>Mumbai Indians</td><td>field</td><td>Delhi Daredevils</td><td>Lost</td></tr><tr><td>980940</td><td>Sunrisers Hyderabad</td><td>field</td><td>Sunrisers Hyderabad</td><td>Won</td></tr><tr><td>980942</td><td>Royal Challengers Bangalore</td><td>bat</td><td>Gujarat Lions</td><td>Lost</td></tr><tr><td>980944</td><td>Kolkata Knight Riders</td><td>field</td><td>Kolkata Knight Riders</td><td>Won</td></tr><tr><td>980946</td><td>Kings XI Punjab</td><td>field</td><td>Mumbai Indians</td><td>Lost</td></tr><tr><td>980948</td><td>Rising Pune Supergiants</td><td>field</td><td>Rising Pune Supergiants</td><td>Won</td></tr><tr><td>980950</td><td>Delhi Daredevils</td><td>field</td><td>Gujarat Lions</td><td>Lost</td></tr><tr><td>980952</td><td>Mumbai Indians</td><td>field</td><td>Mumbai Indians</td><td>Won</td></tr><tr><td>980954</td><td>Gujarat Lions</td><td>field</td><td>Gujarat Lions</td><td>Won</td></tr><tr><td>980956</td><td>Kolkata Knight Riders</td><td>field</td><td>Delhi Daredevils</td><td>Lost</td></tr><tr><td>980958</td><td>Royal Challengers Bangalore</td><td>field</td><td>Sunrisers Hyderabad</td><td>Lost</td></tr><tr><td>980960</td><td>Gujarat Lions</td><td>field</td><td>Kings XI Punjab</td><td>Lost</td></tr><tr><td>980962</td><td>Mumbai Indians</td><td>field</td><td>Mumbai Indians</td><td>Won</td></tr><tr><td>980964</td><td>Kolkata Knight Riders</td><td>field</td><td>Kolkata Knight Riders</td><td>Won</td></tr><tr><td>980966</td><td>Delhi Daredevils</td><td>field</td><td>Delhi Daredevils</td><td>Won</td></tr><tr><td>980968</td><td>Kings XI Punjab</td><td>field</td><td>Kolkata Knight Riders</td><td>Lost</td></tr><tr><td>980970</td><td>Rising Pune Supergiants</td><td>field</td><td>Rising Pune Supergiants</td><td>Won</td></tr><tr><td>980972</td><td>Sunrisers Hyderabad</td><td>field</td><td>Sunrisers Hyderabad</td><td>Won</td></tr><tr><td>980974</td><td>Royal Challengers Bangalore</td><td>field</td><td>Royal Challengers Bangalore</td><td>Won</td></tr><tr><td>980976</td><td>Delhi Daredevils</td><td>field</td><td>Kings XI Punjab</td><td>Lost</td></tr><tr><td>980978</td><td>Mumbai Indians</td><td>field</td><td>Sunrisers Hyderabad</td><td>Lost</td></tr><tr><td>980980</td><td>Gujarat Lions</td><td>field</td><td>Gujarat Lions</td><td>Won</td></tr><tr><td>980982</td><td>Kings XI Punjab</td><td>field</td><td>Royal Challengers Bangalore</td><td>Lost</td></tr><tr><td>980984</td><td>Sunrisers Hyderabad</td><td>bat</td><td>Sunrisers Hyderabad</td><td>Won</td></tr><tr><td>980986</td><td>Mumbai Indians</td><td>field</td><td>Mumbai Indians</td><td>Won</td></tr><tr><td>980988</td><td>Delhi Daredevils</td><td>field</td><td>Delhi Daredevils</td><td>Won</td></tr><tr><td>980990</td><td>Mumbai Indians</td><td>bat</td><td>Kings XI Punjab</td><td>Lost</td></tr><tr><td>980992</td><td>Gujarat Lions</td><td>field</td><td>Royal Challengers Bangalore</td><td>Lost</td></tr><tr><td>980994</td><td>Rising Pune Supergiants</td><td>bat</td><td>Kolkata Knight Riders</td><td>Lost</td></tr><tr><td>980996</td><td>Kings XI Punjab</td><td>bat</td><td>Sunrisers Hyderabad</td><td>Lost</td></tr><tr><td>980998</td><td>Delhi Daredevils</td><td>field</td><td>Mumbai Indians</td><td>Lost</td></tr><tr><td>981000</td><td>Royal Challengers Bangalore</td><td>field</td><td>Royal Challengers Bangalore</td><td>Won</td></tr><tr><td>981002</td><td>Rising Pune Supergiants</td><td>field</td><td>Rising Pune Supergiants</td><td>Won</td></tr><tr><td>981004</td><td>Kings XI Punjab</td><td>field</td><td>Royal Challengers Bangalore</td><td>Lost</td></tr><tr><td>981006</td><td>Gujarat Lions</td><td>field</td><td>Gujarat Lions</td><td>Won</td></tr><tr><td>981008</td><td>Delhi Daredevils</td><td>field</td><td>Delhi Daredevils</td><td>Won</td></tr><tr><td>981010</td><td>Kings XI Punjab</td><td>bat</td><td>Rising Pune Supergiants</td><td>Lost</td></tr><tr><td>981012</td><td>Gujarat Lions</td><td>field</td><td>Gujarat Lions</td><td>Won</td></tr><tr><td>981014</td><td>Sunrisers Hyderabad</td><td>field</td><td>Kolkata Knight Riders</td><td>Lost</td></tr><tr><td>981016</td><td>Royal Challengers Bangalore</td><td>field</td><td>Royal Challengers Bangalore</td><td>Won</td></tr><tr><td>981018</td><td>Royal Challengers Bangalore</td><td>field</td><td>Royal Challengers Bangalore</td><td>Won</td></tr><tr><td>981020</td><td>Kolkata Knight Riders</td><td>field</td><td>Sunrisers Hyderabad</td><td>Lost</td></tr><tr><td>981022</td><td>Sunrisers Hyderabad</td><td>field</td><td>Sunrisers Hyderabad</td><td>Won</td></tr><tr><td>981024</td><td>Sunrisers Hyderabad</td><td>bat</td><td>Sunrisers Hyderabad</td><td>Won</td></tr><tr><td>1082591</td><td>Royal Challengers Bangalore</td><td>Field</td><td>Sunrisers Hyderabad</td><td>Lost</td></tr><tr><td>1082592</td><td>Rising Pune Supergiant</td><td>Field</td><td>Rising Pune Supergiants</td><td>Lost</td></tr><tr><td>1082593</td><td>Kolkata Knight Riders</td><td>Field</td><td>Kolkata Knight Riders</td><td>Won</td></tr><tr><td>1082594</td><td>Kings XI Punjab</td><td>Field</td><td>Kings XI Punjab</td><td>Won</td></tr><tr><td>1082595</td><td>Royal Challengers Bangalore</td><td>Bat</td><td>Royal Challengers Bangalore</td><td>Won</td></tr><tr><td>1082596</td><td>Sunrisers Hyderabad</td><td>Field</td><td>Sunrisers Hyderabad</td><td>Won</td></tr><tr><td>1082597</td><td>Mumbai Indians</td><td>Field</td><td>Mumbai Indians</td><td>Won</td></tr><tr><td>1082598</td><td>Royal Challengers Bangalore</td><td>Bat</td><td>Kings XI Punjab</td><td>Lost</td></tr><tr><td>1082599</td><td>Rising Pune Supergiants</td><td>Field</td><td>Delhi Daredevils</td><td>Lost</td></tr><tr><td>1082600</td><td>Mumbai Indians</td><td>Field</td><td>Mumbai Indians</td><td>Won</td></tr><tr><td>1082601</td><td>Kolkata Knight Riders</td><td>Field</td><td>Kolkata Knight Riders</td><td>Won</td></tr><tr><td>1082602</td><td>Mumbai Indians</td><td>Field</td><td>Mumbai Indians</td><td>Won</td></tr><tr><td>1082603</td><td>Gujarat Lions</td><td>Field</td><td>Gujarat Lions</td><td>Won</td></tr><tr><td>1082604</td><td>Sunrisers Hyderabad</td><td>Field</td><td>Kolkata Knight Riders</td><td>Lost</td></tr><tr><td>1082605</td><td>Delhi Daredevils</td><td>Bat</td><td>Delhi Daredevils</td><td>Won</td></tr><tr><td>1082606</td><td>Mumbai Indians</td><td>Field</td><td>Mumbai Indians</td><td>Won</td></tr><tr><td>1082607</td><td>Royal Challengers Bangalore</td><td>Field</td><td>Rising Pune Supergiants</td><td>Lost</td></tr><tr><td>1082608</td><td>Delhi Daredevils</td><td>Bat</td><td>Kolkata Knight Riders</td><td>Lost</td></tr><tr><td>1082609</td><td>Kings XI Punjab</td><td>Field</td><td>Sunrisers Hyderabad</td><td>Lost</td></tr><tr><td>1082610</td><td>Gujarat Lions</td><td>Field</td><td>Royal Challengers Bangalore</td><td>Lost</td></tr><tr><td>1082611</td><td>Sunrisers Hyderabad</td><td>Bat</td><td>Sunrisers Hyderabad</td><td>Won</td></tr><tr><td>1082612</td><td>Mumbai Indians</td><td>Field</td><td>Mumbai Indians</td><td>Won</td></tr><tr><td>1082613</td><td>Gujarat Lions</td><td>Field</td><td>Gujarat Lions</td><td>Won</td></tr><tr><td>1082614</td><td>Delhi Daredevils</td><td>Field</td><td>Mumbai Indians</td><td>Lost</td></tr><tr><td>1082615</td><td>Rising Pune Supergiants</td><td>Field</td><td>Rising Pune Supergiants</td><td>Won</td></tr><tr><td>1082616</td><td>Gujarat Lions</td><td>Field</td><td>Kings XI Punjab</td><td>Lost</td></tr><tr><td>1082617</td><td>Royal Challengers Bangalore</td><td>Field</td><td>Kolkata Knight Riders</td><td>Lost</td></tr><tr><td>1082618</td><td>Mumbai Indians</td><td>Field</td><td>Rising Pune Supergiants</td><td>Lost</td></tr><tr><td>1082620</td><td>Kolkata Knight Riders</td><td>Field</td><td>Kolkata Knight Riders</td><td>Won</td></tr><tr><td>1082621</td><td>Gujarat Lions</td><td>Field</td><td>Gujarat Lions</td><td>Won</td></tr><tr><td>1082622</td><td>Kolkata Knight Riders</td><td>Field</td><td>Kolkata Knight Riders</td><td>Won</td></tr><tr><td>1082623</td><td>Kings XI Punjab</td><td>Field</td><td>Sunrisers Hyderabad</td><td>Lost</td></tr><tr><td>1082624</td><td>Royal Challengers Bangalore</td><td>Field</td><td>Rising Pune Supergiants</td><td>Lost</td></tr><tr><td>1082626</td><td>Kings XI Punjab</td><td>Field</td><td>Kings XI Punjab</td><td>Won</td></tr><tr><td>1082627</td><td>Kolkata Knight Riders</td><td>Field</td><td>Sunrisers Hyderabad</td><td>Lost</td></tr><tr><td>1082628</td><td>Royal Challengers Bangalore</td><td>Bat</td><td>Mumbai Indians</td><td>Lost</td></tr><tr><td>1082629</td><td>Rising Pune Supergiants</td><td>Field</td><td>Rising Pune Supergiants</td><td>Won</td></tr><tr><td>1082630</td><td>Delhi Daredevils</td><td>Field</td><td>Delhi Daredevils</td><td>Won</td></tr><tr><td>1082631</td><td>Rising Pune Supergiants</td><td>Field</td><td>Rising Pune Supergiants</td><td>Won</td></tr><tr><td>1082632</td><td>Delhi Daredevils</td><td>Field</td><td>Delhi Daredevils</td><td>Won</td></tr><tr><td>1082633</td><td>Royal Challengers Bangalore</td><td>Field</td><td>Kings XI Punjab</td><td>Lost</td></tr><tr><td>1082634</td><td>Sunrisers Hyderabad</td><td>Field</td><td>Rising Pune Supergiants</td><td>Lost</td></tr><tr><td>1082635</td><td>Delhi Daredevils</td><td>Field</td><td>Mumbai Indians</td><td>Lost</td></tr><tr><td>1082636</td><td>Kolkata Knight Riders</td><td>Field</td><td>Kolkata Knight Riders</td><td>Won</td></tr><tr><td>1082637</td><td>Gujarat Lions</td><td>Field</td><td>Gujarat Lions</td><td>Won</td></tr><tr><td>1082638</td><td>Mumbai Indians</td><td>Bat</td><td>Sunrisers Hyderabad</td><td>Lost</td></tr><tr><td>1082639</td><td>Kolkata Knight Riders</td><td>Field</td><td>Kings XI Punjab</td><td>Lost</td></tr><tr><td>1082640</td><td>Delhi Daredevils</td><td>Field</td><td>Delhi Daredevils</td><td>Won</td></tr><tr><td>1082641</td><td>Mumbai Indians</td><td>Field</td><td>Kings XI Punjab</td><td>Lost</td></tr><tr><td>1082642</td><td>Delhi Daredevils</td><td>Bat</td><td>Delhi Daredevils</td><td>Won</td></tr><tr><td>1082643</td><td>Sunrisers Hyderabad</td><td>Field</td><td>Sunrisers Hyderabad</td><td>Won</td></tr><tr><td>1082644</td><td>Kolkata Knight Riders</td><td>Field</td><td>Mumbai Indians</td><td>Lost</td></tr><tr><td>1082645</td><td>Rising Pune Supergiants</td><td>Field</td><td>Rising Pune Supergiants</td><td>Won</td></tr><tr><td>1082646</td><td>Royal Challengers Bangalore</td><td>Bat</td><td>Royal Challengers Bangalore</td><td>Won</td></tr><tr><td>1082647</td><td>Mumbai Indians</td><td>Field</td><td>Rising Pune Supergiants</td><td>Lost</td></tr><tr><td>1082648</td><td>Kolkata Knight Riders</td><td>Field</td><td>Kolkata Knight Riders</td><td>Won</td></tr><tr><td>1082649</td><td>Mumbai Indians</td><td>Field</td><td>Mumbai Indians</td><td>Won</td></tr><tr><td>1082650</td><td>Mumbai Indians</td><td>Bat</td><td>Mumbai Indians</td><td>Won</td></tr></tbody></table></div>"
      ]
     },
     "metadata": {
      "application/vnd.databricks.v1+output": {
       "addedWidgets": {},
       "aggData": [],
       "aggError": "",
       "aggOverflow": false,
       "aggSchema": [],
       "aggSeriesLimitReached": false,
       "aggType": "",
       "arguments": {},
       "columnCustomDisplayInfos": {},
       "data": [
        [
         335987,
         "Royal Challengers Bangalore",
         "field",
         "Kolkata Knight Riders",
         "Lost"
        ],
        [
         335988,
         "Chennai Super Kings",
         "bat",
         "Chennai Super Kings",
         "Won"
        ],
        [
         335989,
         "Rajasthan Royals",
         "bat",
         "Delhi Daredevils",
         "Lost"
        ],
        [
         335990,
         "Mumbai Indians",
         "bat",
         "Royal Challengers Bangalore",
         "Lost"
        ],
        [
         335991,
         "Deccan Chargers",
         "bat",
         "Kolkata Knight Riders",
         "Lost"
        ],
        [
         335992,
         "Kings XI Punjab",
         "bat",
         "Rajasthan Royals",
         "Lost"
        ],
        [
         335993,
         "Deccan Chargers",
         "bat",
         "Delhi Daredevils",
         "Lost"
        ],
        [
         335994,
         "Mumbai Indians",
         "field",
         "Chennai Super Kings",
         "Lost"
        ],
        [
         335995,
         "Rajasthan Royals",
         "field",
         "Rajasthan Royals",
         "Won"
        ],
        [
         335996,
         "Mumbai Indians",
         "field",
         "Kings XI Punjab",
         "Lost"
        ],
        [
         335997,
         "Rajasthan Royals",
         "field",
         "Rajasthan Royals",
         "Won"
        ],
        [
         335998,
         "Kolkata Knight Riders",
         "bat",
         "Chennai Super Kings",
         "Lost"
        ],
        [
         335999,
         "Deccan Chargers",
         "field",
         "Deccan Chargers",
         "Won"
        ],
        [
         336000,
         "Delhi Daredevils",
         "bat",
         "Kings XI Punjab",
         "Lost"
        ],
        [
         336001,
         "Chennai Super Kings",
         "bat",
         "Chennai Super Kings",
         "Won"
        ],
        [
         336002,
         "Kolkata Knight Riders",
         "bat",
         "Mumbai Indians",
         "Lost"
        ],
        [
         336003,
         "Royal Challengers Bangalore",
         "field",
         "Delhi Daredevils",
         "Lost"
        ],
        [
         336004,
         "Kings XI Punjab",
         "field",
         "Kings XI Punjab",
         "Won"
        ],
        [
         336005,
         "Rajasthan Royals",
         "bat",
         "Rajasthan Royals",
         "Won"
        ],
        [
         336006,
         "Chennai Super Kings",
         "bat",
         "Delhi Daredevils",
         "Lost"
        ],
        [
         336007,
         "Deccan Chargers",
         "bat",
         "Royal Challengers Bangalore",
         "Lost"
        ],
        [
         336008,
         "Kings XI Punjab",
         "bat",
         "Kings XI Punjab",
         "Won"
        ],
        [
         336009,
         "Delhi Daredevils",
         "field",
         "Mumbai Indians",
         "Lost"
        ],
        [
         336010,
         "Chennai Super Kings",
         "bat",
         "Rajasthan Royals",
         "Lost"
        ],
        [
         336011,
         "Kings XI Punjab",
         "field",
         "Kings XI Punjab",
         "Won"
        ],
        [
         336012,
         "Deccan Chargers",
         "field",
         "Deccan Chargers",
         "Won"
        ],
        [
         336013,
         "Mumbai Indians",
         "field",
         "Mumbai Indians",
         "Won"
        ],
        [
         336014,
         "Chennai Super Kings",
         "field",
         "Chennai Super Kings",
         "Won"
        ],
        [
         336015,
         "Kolkata Knight Riders",
         "bat",
         "Kolkata Knight Riders",
         "Won"
        ],
        [
         336016,
         "Rajasthan Royals",
         "field",
         "Rajasthan Royals",
         "Won"
        ],
        [
         336017,
         "Mumbai Indians",
         "field",
         "Mumbai Indians",
         "Won"
        ],
        [
         336018,
         "Kings XI Punjab",
         "field",
         "Chennai Super Kings",
         "Lost"
        ],
        [
         336019,
         "Kolkata Knight Riders",
         "bat",
         "Kolkata Knight Riders",
         "Won"
        ],
        [
         336020,
         "Rajasthan Royals",
         "field",
         "Rajasthan Royals",
         "Won"
        ],
        [
         336021,
         "Royal Challengers Bangalore",
         "bat",
         "Kings XI Punjab",
         "Lost"
        ],
        [
         336022,
         "Kolkata Knight Riders",
         "bat",
         "Kolkata Knight Riders",
         "Won"
        ],
        [
         336023,
         "Mumbai Indians",
         "field",
         "Mumbai Indians",
         "Won"
        ],
        [
         336024,
         "Rajasthan Royals",
         "field",
         "Kings XI Punjab",
         "Lost"
        ],
        [
         336025,
         "Deccan Chargers",
         "field",
         "Delhi Daredevils",
         "Lost"
        ],
        [
         336026,
         "Mumbai Indians",
         "field",
         "Mumbai Indians",
         "Won"
        ],
        [
         336027,
         "Delhi Daredevils",
         "bat",
         "Kings XI Punjab",
         "Lost"
        ],
        [
         336028,
         "Royal Challengers Bangalore",
         "field",
         "Rajasthan Royals",
         "Lost"
        ],
        [
         336029,
         "Deccan Chargers",
         "field",
         "Mumbai Indians",
         "Lost"
        ],
        [
         336030,
         "Kolkata Knight Riders",
         "bat",
         "Chennai Super Kings",
         "Lost"
        ],
        [
         336031,
         "Delhi Daredevils",
         "field",
         "Delhi Daredevils",
         "Won"
        ],
        [
         336032,
         "Rajasthan Royals",
         "field",
         "Rajasthan Royals",
         "Won"
        ],
        [
         336033,
         "Mumbai Indians",
         "field",
         "Kings XI Punjab",
         "Lost"
        ],
        [
         336034,
         "Royal Challengers Bangalore",
         "bat",
         "Royal Challengers Bangalore",
         "Won"
        ],
        [
         336036,
         "Kings XI Punjab",
         "field",
         "Kings XI Punjab",
         "Won"
        ],
        [
         336037,
         "Delhi Daredevils",
         "field",
         "Delhi Daredevils",
         "Won"
        ],
        [
         336038,
         "Rajasthan Royals",
         "bat",
         "Rajasthan Royals",
         "Won"
        ],
        [
         336039,
         "Deccan Chargers",
         "field",
         "Royal Challengers Bangalore",
         "Lost"
        ],
        [
         336040,
         "Kings XI Punjab",
         "bat",
         "Kolkata Knight Riders",
         "Lost"
        ],
        [
         336041,
         "Rajasthan Royals",
         "field",
         "Rajasthan Royals",
         "Won"
        ],
        [
         336042,
         "Deccan Chargers",
         "bat",
         "Chennai Super Kings",
         "Lost"
        ],
        [
         336043,
         "Delhi Daredevils",
         "field",
         "Rajasthan Royals",
         "Lost"
        ],
        [
         336044,
         "Kings XI Punjab",
         "bat",
         "Chennai Super Kings",
         "Lost"
        ],
        [
         336045,
         "Rajasthan Royals",
         "field",
         "Rajasthan Royals",
         "Won"
        ],
        [
         392186,
         "Chennai Super Kings",
         "field",
         "Mumbai Indians",
         "Lost"
        ],
        [
         392187,
         "Royal Challengers Bangalore",
         "bat",
         "Royal Challengers Bangalore",
         "Won"
        ],
        [
         392188,
         "Delhi Daredevils",
         "field",
         "Delhi Daredevils",
         "Won"
        ],
        [
         392189,
         "Kolkata Knight Riders",
         "bat",
         "Deccan Chargers",
         "Lost"
        ],
        [
         392190,
         "Chennai Super Kings",
         "bat",
         "Chennai Super Kings",
         "Won"
        ],
        [
         392191,
         "Kolkata Knight Riders",
         "field",
         "Kolkata Knight Riders",
         "Won"
        ],
        [
         392193,
         "Deccan Chargers",
         "bat",
         "Deccan Chargers",
         "Won"
        ],
        [
         392194,
         "Delhi Daredevils",
         "bat",
         "Delhi Daredevils",
         "Won"
        ],
        [
         392195,
         "Kolkata Knight Riders",
         "field",
         "Rajasthan Royals",
         "Lost"
        ],
        [
         392196,
         "Royal Challengers Bangalore",
         "bat",
         "Kings XI Punjab",
         "Lost"
        ],
        [
         392197,
         "Deccan Chargers",
         "bat",
         "Deccan Chargers",
         "Won"
        ],
        [
         392199,
         "Royal Challengers Bangalore",
         "bat",
         "Delhi Daredevils",
         "Lost"
        ],
        [
         392200,
         "Kings XI Punjab",
         "bat",
         "Kings XI Punjab",
         "Won"
        ],
        [
         392201,
         "Deccan Chargers",
         "field",
         "Deccan Chargers",
         "Won"
        ],
        [
         392202,
         "Mumbai Indians",
         "bat",
         "Mumbai Indians",
         "Won"
        ],
        [
         392203,
         "Delhi Daredevils",
         "bat",
         "Rajasthan Royals",
         "Lost"
        ],
        [
         392204,
         "Kolkata Knight Riders",
         "bat",
         "Royal Challengers Bangalore",
         "Lost"
        ],
        [
         392205,
         "Kings XI Punjab",
         "bat",
         "Kings XI Punjab",
         "Won"
        ],
        [
         392206,
         "Delhi Daredevils",
         "field",
         "Delhi Daredevils",
         "Won"
        ],
        [
         392207,
         "Rajasthan Royals",
         "field",
         "Chennai Super Kings",
         "Lost"
        ],
        [
         392208,
         "Mumbai Indians",
         "bat",
         "Mumbai Indians",
         "Won"
        ],
        [
         392209,
         "Royal Challengers Bangalore",
         "bat",
         "Royal Challengers Bangalore",
         "Won"
        ],
        [
         392210,
         "Deccan Chargers",
         "bat",
         "Rajasthan Royals",
         "Lost"
        ],
        [
         392211,
         "Delhi Daredevils",
         "field",
         "Chennai Super Kings",
         "Lost"
        ],
        [
         392212,
         "Kolkata Knight Riders",
         "bat",
         "Kings XI Punjab",
         "Lost"
        ],
        [
         392213,
         "Mumbai Indians",
         "bat",
         "Royal Challengers Bangalore",
         "Lost"
        ],
        [
         392214,
         "Chennai Super Kings",
         "bat",
         "Chennai Super Kings",
         "Won"
        ],
        [
         392215,
         "Kings XI Punjab",
         "field",
         "Rajasthan Royals",
         "Lost"
        ],
        [
         392216,
         "Kolkata Knight Riders",
         "bat",
         "Delhi Daredevils",
         "Lost"
        ],
        [
         392217,
         "Deccan Chargers",
         "bat",
         "Deccan Chargers",
         "Won"
        ],
        [
         392218,
         "Rajasthan Royals",
         "field",
         "Rajasthan Royals",
         "Won"
        ],
        [
         392219,
         "Chennai Super Kings",
         "bat",
         "Chennai Super Kings",
         "Won"
        ],
        [
         392220,
         "Mumbai Indians",
         "bat",
         "Delhi Daredevils",
         "Lost"
        ],
        [
         392221,
         "Kings XI Punjab",
         "field",
         "Kings XI Punjab",
         "Won"
        ],
        [
         392222,
         "Rajasthan Royals",
         "bat",
         "Chennai Super Kings",
         "Lost"
        ],
        [
         392223,
         "Mumbai Indians",
         "bat",
         "Mumbai Indians",
         "Won"
        ],
        [
         392224,
         "Delhi Daredevils",
         "field",
         "Delhi Daredevils",
         "Won"
        ],
        [
         392225,
         "Deccan Chargers",
         "bat",
         "Deccan Chargers",
         "Won"
        ],
        [
         392226,
         "Royal Challengers Bangalore",
         "field",
         "Royal Challengers Bangalore",
         "Won"
        ],
        [
         392227,
         "Kings XI Punjab",
         "bat",
         "Mumbai Indians",
         "Lost"
        ],
        [
         392228,
         "Deccan Chargers",
         "field",
         "Delhi Daredevils",
         "Lost"
        ],
        [
         392229,
         "Chennai Super Kings",
         "bat",
         "Royal Challengers Bangalore",
         "Lost"
        ],
        [
         392230,
         "Rajasthan Royals",
         "bat",
         "Rajasthan Royals",
         "Won"
        ],
        [
         392231,
         "Kings XI Punjab",
         "field",
         "Kings XI Punjab",
         "Won"
        ],
        [
         392232,
         "Mumbai Indians",
         "bat",
         "Chennai Super Kings",
         "Lost"
        ],
        [
         392233,
         "Deccan Chargers",
         "field",
         "Deccan Chargers",
         "Won"
        ],
        [
         392234,
         "Deccan Chargers",
         "field",
         "Kings XI Punjab",
         "Lost"
        ],
        [
         392235,
         "Delhi Daredevils",
         "bat",
         "Delhi Daredevils",
         "Won"
        ],
        [
         392236,
         "Chennai Super Kings",
         "bat",
         "Kolkata Knight Riders",
         "Lost"
        ],
        [
         392237,
         "Delhi Daredevils",
         "bat",
         "Royal Challengers Bangalore",
         "Lost"
        ],
        [
         392238,
         "Kolkata Knight Riders",
         "field",
         "Kolkata Knight Riders",
         "Won"
        ],
        [
         392239,
         "Chennai Super Kings",
         "bat",
         "Chennai Super Kings",
         "Won"
        ],
        [
         392240,
         "Delhi Daredevils",
         "field",
         "Delhi Daredevils",
         "Won"
        ],
        [
         392241,
         "Royal Challengers Bangalore",
         "bat",
         "Royal Challengers Bangalore",
         "Won"
        ],
        [
         392242,
         "Deccan Chargers",
         "field",
         "Deccan Chargers",
         "Won"
        ],
        [
         392243,
         "Royal Challengers Bangalore",
         "field",
         "Royal Challengers Bangalore",
         "Won"
        ],
        [
         392244,
         "Royal Challengers Bangalore",
         "field",
         "Deccan Chargers",
         "Lost"
        ],
        [
         419111,
         "Deccan Chargers",
         "field",
         "Kolkata Knight Riders",
         "Lost"
        ],
        [
         419112,
         "Mumbai Indians",
         "bat",
         "Mumbai Indians",
         "Won"
        ],
        [
         419113,
         "Delhi Daredevils",
         "field",
         "Delhi Daredevils",
         "Won"
        ],
        [
         419114,
         "Kolkata Knight Riders",
         "field",
         "Kolkata Knight Riders",
         "Won"
        ],
        [
         419115,
         "Deccan Chargers",
         "bat",
         "Deccan Chargers",
         "Won"
        ],
        [
         419116,
         "Delhi Daredevils",
         "field",
         "Delhi Daredevils",
         "Won"
        ],
        [
         419117,
         "Kings XI Punjab",
         "bat",
         "Royal Challengers Bangalore",
         "Lost"
        ],
        [
         419118,
         "Chennai Super Kings",
         "bat",
         "Chennai Super Kings",
         "Won"
        ],
        [
         419119,
         "Delhi Daredevils",
         "field",
         "Mumbai Indians",
         "Lost"
        ],
        [
         419120,
         "Royal Challengers Bangalore",
         "field",
         "Royal Challengers Bangalore",
         "Won"
        ],
        [
         419121,
         "Delhi Daredevils",
         "bat",
         "Chennai Super Kings",
         "Lost"
        ],
        [
         419122,
         "Kings XI Punjab",
         "field",
         "Deccan Chargers",
         "Lost"
        ],
        [
         419123,
         "Rajasthan Royals",
         "bat",
         "Rajasthan Royals",
         "Won"
        ],
        [
         419124,
         "Mumbai Indians",
         "bat",
         "Royal Challengers Bangalore",
         "Lost"
        ],
        [
         419125,
         "Deccan Chargers",
         "bat",
         "Deccan Chargers",
         "Won"
        ],
        [
         419126,
         "Chennai Super Kings",
         "field",
         "Kings XI Punjab",
         "Lost"
        ],
        [
         419127,
         "Kolkata Knight Riders",
         "bat",
         "Mumbai Indians",
         "Lost"
        ],
        [
         419128,
         "Chennai Super Kings",
         "field",
         "Royal Challengers Bangalore",
         "Lost"
        ],
        [
         419129,
         "Kings XI Punjab",
         "field",
         "Rajasthan Royals",
         "Lost"
        ],
        [
         419130,
         "Mumbai Indians",
         "field",
         "Mumbai Indians",
         "Won"
        ],
        [
         419131,
         "Deccan Chargers",
         "bat",
         "Rajasthan Royals",
         "Lost"
        ],
        [
         419132,
         "Kolkata Knight Riders",
         "bat",
         "Kolkata Knight Riders",
         "Won"
        ],
        [
         419133,
         "Royal Challengers Bangalore",
         "field",
         "Delhi Daredevils",
         "Lost"
        ],
        [
         419134,
         "Rajasthan Royals",
         "bat",
         "Rajasthan Royals",
         "Won"
        ],
        [
         419135,
         "Deccan Chargers",
         "field",
         "Mumbai Indians",
         "Lost"
        ],
        [
         419136,
         "Delhi Daredevils",
         "bat",
         "Delhi Daredevils",
         "Won"
        ],
        [
         419137,
         "Mumbai Indians",
         "field",
         "Mumbai Indians",
         "Won"
        ],
        [
         419138,
         "Royal Challengers Bangalore",
         "bat",
         "Chennai Super Kings",
         "Lost"
        ],
        [
         419139,
         "Delhi Daredevils",
         "bat",
         "Delhi Daredevils",
         "Won"
        ],
        [
         419140,
         "Kolkata Knight Riders",
         "bat",
         "Kolkata Knight Riders",
         "Won"
        ],
        [
         419141,
         "Kings XI Punjab",
         "bat",
         "Royal Challengers Bangalore",
         "Lost"
        ],
        [
         419142,
         "Chennai Super Kings",
         "bat",
         "Chennai Super Kings",
         "Won"
        ],
        [
         419143,
         "Mumbai Indians",
         "bat",
         "Mumbai Indians",
         "Won"
        ],
        [
         419144,
         "Kolkata Knight Riders",
         "bat",
         "Kings XI Punjab",
         "Lost"
        ],
        [
         419145,
         "Delhi Daredevils",
         "bat",
         "Delhi Daredevils",
         "Won"
        ],
        [
         419146,
         "Rajasthan Royals",
         "bat",
         "Rajasthan Royals",
         "Won"
        ],
        [
         419147,
         "Chennai Super Kings",
         "bat",
         "Chennai Super Kings",
         "Won"
        ],
        [
         419148,
         "Kings XI Punjab",
         "bat",
         "Rajasthan Royals",
         "Lost"
        ],
        [
         419149,
         "Kolkata Knight Riders",
         "bat",
         "Kolkata Knight Riders",
         "Won"
        ],
        [
         419150,
         "Deccan Chargers",
         "field",
         "Deccan Chargers",
         "Won"
        ],
        [
         419151,
         "Mumbai Indians",
         "bat",
         "Kings XI Punjab",
         "Lost"
        ],
        [
         419152,
         "Chennai Super Kings",
         "bat",
         "Deccan Chargers",
         "Lost"
        ],
        [
         419153,
         "Royal Challengers Bangalore",
         "field",
         "Royal Challengers Bangalore",
         "Won"
        ],
        [
         419154,
         "Delhi Daredevils",
         "bat",
         "Kings XI Punjab",
         "Lost"
        ],
        [
         419155,
         "Rajasthan Royals",
         "field",
         "Mumbai Indians",
         "Lost"
        ],
        [
         419156,
         "Royal Challengers Bangalore",
         "field",
         "Deccan Chargers",
         "Lost"
        ],
        [
         419157,
         "Mumbai Indians",
         "bat",
         "Mumbai Indians",
         "Won"
        ],
        [
         419158,
         "Kolkata Knight Riders",
         "bat",
         "Chennai Super Kings",
         "Lost"
        ],
        [
         419159,
         "Rajasthan Royals",
         "bat",
         "Royal Challengers Bangalore",
         "Lost"
        ],
        [
         419160,
         "Chennai Super Kings",
         "bat",
         "Delhi Daredevils",
         "Lost"
        ],
        [
         419161,
         "Deccan Chargers",
         "field",
         "Deccan Chargers",
         "Won"
        ],
        [
         419162,
         "Royal Challengers Bangalore",
         "field",
         "Mumbai Indians",
         "Lost"
        ],
        [
         419163,
         "Rajasthan Royals",
         "bat",
         "Kolkata Knight Riders",
         "Lost"
        ],
        [
         419164,
         "Chennai Super Kings",
         "field",
         "Chennai Super Kings",
         "Won"
        ],
        [
         419165,
         "Deccan Chargers",
         "bat",
         "Deccan Chargers",
         "Won"
        ],
        [
         419166,
         "Mumbai Indians",
         "bat",
         "Kolkata Knight Riders",
         "Lost"
        ],
        [
         419167,
         "Mumbai Indians",
         "bat",
         "Mumbai Indians",
         "Won"
        ],
        [
         419168,
         "Chennai Super Kings",
         "bat",
         "Chennai Super Kings",
         "Won"
        ],
        [
         419169,
         "Deccan Chargers",
         "bat",
         "Royal Challengers Bangalore",
         "Lost"
        ],
        [
         419170,
         "Chennai Super Kings",
         "bat",
         "Chennai Super Kings",
         "Won"
        ],
        [
         501203,
         "Chennai Super Kings",
         "bat",
         "Chennai Super Kings",
         "Won"
        ],
        [
         501204,
         "Rajasthan Royals",
         "field",
         "Rajasthan Royals",
         "Won"
        ],
        [
         501205,
         "Kochi Tuskers Kerala",
         "bat",
         "Royal Challengers Bangalore",
         "Lost"
        ],
        [
         501206,
         "Delhi Daredevils",
         "bat",
         "Mumbai Indians",
         "Lost"
        ],
        [
         501207,
         "Kings XI Punjab",
         "bat",
         "Pune Warriors",
         "Lost"
        ],
        [
         501208,
         "Kolkata Knight Riders",
         "bat",
         "Kolkata Knight Riders",
         "Won"
        ],
        [
         501209,
         "Delhi Daredevils",
         "bat",
         "Rajasthan Royals",
         "Lost"
        ],
        [
         501210,
         "Mumbai Indians",
         "field",
         "Mumbai Indians",
         "Won"
        ],
        [
         501211,
         "Kings XI Punjab",
         "field",
         "Kings XI Punjab",
         "Won"
        ],
        [
         501212,
         "Kochi Tuskers Kerala",
         "bat",
         "Pune Warriors",
         "Lost"
        ],
        [
         501213,
         "Royal Challengers Bangalore",
         "field",
         "Deccan Chargers",
         "Lost"
        ],
        [
         501214,
         "Kolkata Knight Riders",
         "field",
         "Kolkata Knight Riders",
         "Won"
        ],
        [
         501215,
         "Kochi Tuskers Kerala",
         "field",
         "Kochi Tuskers Kerala",
         "Won"
        ],
        [
         501216,
         "Chennai Super Kings",
         "bat",
         "Chennai Super Kings",
         "Won"
        ],
        [
         501217,
         "Kings XI Punjab",
         "field",
         "Kings XI Punjab",
         "Won"
        ],
        [
         501218,
         "Delhi Daredevils",
         "field",
         "Delhi Daredevils",
         "Won"
        ],
        [
         501219,
         "Kolkata Knight Riders",
         "field",
         "Kolkata Knight Riders",
         "Won"
        ],
        [
         501220,
         "Kochi Tuskers Kerala",
         "field",
         "Kochi Tuskers Kerala",
         "Won"
        ],
        [
         501221,
         "Deccan Chargers",
         "bat",
         "Deccan Chargers",
         "Won"
        ],
        [
         501223,
         "Pune Warriors",
         "bat",
         "Mumbai Indians",
         "Lost"
        ],
        [
         501224,
         "Kolkata Knight Riders",
         "field",
         "Kochi Tuskers Kerala",
         "Lost"
        ],
        [
         501225,
         "Rajasthan Royals",
         "field",
         "Kings XI Punjab",
         "Lost"
        ],
        [
         501226,
         "Chennai Super Kings",
         "field",
         "Mumbai Indians",
         "Lost"
        ],
        [
         501227,
         "Royal Challengers Bangalore",
         "field",
         "Royal Challengers Bangalore",
         "Won"
        ],
        [
         501228,
         "Kings XI Punjab",
         "field",
         "Delhi Daredevils",
         "Lost"
        ],
        [
         501229,
         "Deccan Chargers",
         "field",
         "Mumbai Indians",
         "Lost"
        ],
        [
         501230,
         "Rajasthan Royals",
         "field",
         "Rajasthan Royals",
         "Won"
        ],
        [
         501231,
         "Pune Warriors",
         "field",
         "Chennai Super Kings",
         "Lost"
        ],
        [
         501232,
         "Royal Challengers Bangalore",
         "field",
         "Royal Challengers Bangalore",
         "Won"
        ],
        [
         501233,
         "Pune Warriors",
         "bat",
         "Chennai Super Kings",
         "Lost"
        ],
        [
         501234,
         "Kochi Tuskers Kerala",
         "field",
         "Deccan Chargers",
         "Lost"
        ],
        [
         501235,
         "Delhi Daredevils",
         "field",
         "Kolkata Knight Riders",
         "Lost"
        ],
        [
         501236,
         "Rajasthan Royals",
         "field",
         "Rajasthan Royals",
         "Won"
        ],
        [
         501237,
         "Pune Warriors",
         "field",
         "Royal Challengers Bangalore",
         "Lost"
        ],
        [
         501238,
         "Delhi Daredevils",
         "bat",
         "Delhi Daredevils",
         "Won"
        ],
        [
         501239,
         "Kolkata Knight Riders",
         "field",
         "Kolkata Knight Riders",
         "Won"
        ],
        [
         501240,
         "Rajasthan Royals",
         "field",
         "Rajasthan Royals",
         "Won"
        ],
        [
         501241,
         "Chennai Super Kings",
         "bat",
         "Chennai Super Kings",
         "Won"
        ],
        [
         501242,
         "Kings XI Punjab",
         "field",
         "Mumbai Indians",
         "Lost"
        ],
        [
         501243,
         "Kochi Tuskers Kerala",
         "field",
         "Kochi Tuskers Kerala",
         "Won"
        ],
        [
         501244,
         "Deccan Chargers",
         "field",
         "Kolkata Knight Riders",
         "Lost"
        ],
        [
         501245,
         "Rajasthan Royals",
         "bat",
         "Chennai Super Kings",
         "Lost"
        ],
        [
         501246,
         "Pune Warriors",
         "field",
         "Mumbai Indians",
         "Lost"
        ],
        [
         501247,
         "Kolkata Knight Riders",
         "field",
         "Kochi Tuskers Kerala",
         "Lost"
        ],
        [
         501248,
         "Delhi Daredevils",
         "field",
         "Delhi Daredevils",
         "Won"
        ],
        [
         501249,
         "Kings XI Punjab",
         "field",
         "Royal Challengers Bangalore",
         "Lost"
        ],
        [
         501250,
         "Chennai Super Kings",
         "bat",
         "Kolkata Knight Riders",
         "Lost"
        ],
        [
         501251,
         "Delhi Daredevils",
         "field",
         "Mumbai Indians",
         "Lost"
        ],
        [
         501252,
         "Kochi Tuskers Kerala",
         "bat",
         "Royal Challengers Bangalore",
         "Lost"
        ],
        [
         501253,
         "Kings XI Punjab",
         "bat",
         "Pune Warriors",
         "Lost"
        ],
        [
         501254,
         "Rajasthan Royals",
         "field",
         "Chennai Super Kings",
         "Lost"
        ],
        [
         501255,
         "Deccan Chargers",
         "bat",
         "Pune Warriors",
         "Lost"
        ],
        [
         501256,
         "Mumbai Indians",
         "field",
         "Kings XI Punjab",
         "Lost"
        ],
        [
         501257,
         "Royal Challengers Bangalore",
         "field",
         "Royal Challengers Bangalore",
         "Won"
        ],
        [
         501258,
         "Chennai Super Kings",
         "bat",
         "Chennai Super Kings",
         "Won"
        ],
        [
         501259,
         "Kings XI Punjab",
         "field",
         "Kings XI Punjab",
         "Won"
        ],
        [
         501260,
         "Royal Challengers Bangalore",
         "field",
         "Royal Challengers Bangalore",
         "Won"
        ],
        [
         501261,
         "Deccan Chargers",
         "bat",
         "Deccan Chargers",
         "Won"
        ],
        [
         501262,
         "Delhi Daredevils",
         "field",
         "Kings XI Punjab",
         "Lost"
        ],
        [
         501263,
         "Kochi Tuskers Kerala",
         "field",
         "Kochi Tuskers Kerala",
         "Won"
        ],
        [
         501264,
         "Deccan Chargers",
         "field",
         "Deccan Chargers",
         "Won"
        ],
        [
         501265,
         "Kings XI Punjab",
         "bat",
         "Kings XI Punjab",
         "Won"
        ],
        [
         501266,
         "Chennai Super Kings",
         "bat",
         "Chennai Super Kings",
         "Won"
        ],
        [
         501267,
         "Kolkata Knight Riders",
         "field",
         "Kolkata Knight Riders",
         "Won"
        ],
        [
         501268,
         "Mumbai Indians",
         "bat",
         "Rajasthan Royals",
         "Lost"
        ],
        [
         501269,
         "Kings XI Punjab",
         "field",
         "Deccan Chargers",
         "Lost"
        ],
        [
         501271,
         "Royal Challengers Bangalore",
         "field",
         "Royal Challengers Bangalore",
         "Won"
        ],
        [
         501272,
         "Mumbai Indians",
         "field",
         "Mumbai Indians",
         "Won"
        ],
        [
         501273,
         "Chennai Super Kings",
         "field",
         "Chennai Super Kings",
         "Won"
        ],
        [
         501274,
         "Mumbai Indians",
         "field",
         "Mumbai Indians",
         "Won"
        ],
        [
         501275,
         "Mumbai Indians",
         "field",
         "Royal Challengers Bangalore",
         "Lost"
        ],
        [
         501276,
         "Chennai Super Kings",
         "bat",
         "Chennai Super Kings",
         "Won"
        ],
        [
         548311,
         "Mumbai Indians",
         "field",
         "Mumbai Indians",
         "Won"
        ],
        [
         548312,
         "Delhi Daredevils",
         "field",
         "Delhi Daredevils",
         "Won"
        ],
        [
         548313,
         "Mumbai Indians",
         "field",
         "Pune Warriors",
         "Lost"
        ],
        [
         548314,
         "Kings XI Punjab",
         "field",
         "Rajasthan Royals",
         "Lost"
        ],
        [
         548315,
         "Delhi Daredevils",
         "field",
         "Royal Challengers Bangalore",
         "Lost"
        ],
        [
         548316,
         "Deccan Chargers",
         "field",
         "Chennai Super Kings",
         "Lost"
        ],
        [
         548317,
         "Kolkata Knight Riders",
         "field",
         "Rajasthan Royals",
         "Lost"
        ],
        [
         548318,
         "Pune Warriors",
         "bat",
         "Pune Warriors",
         "Won"
        ],
        [
         548319,
         "Deccan Chargers",
         "bat",
         "Mumbai Indians",
         "Lost"
        ],
        [
         548320,
         "Royal Challengers Bangalore",
         "field",
         "Kolkata Knight Riders",
         "Lost"
        ],
        [
         548321,
         "Delhi Daredevils",
         "field",
         "Delhi Daredevils",
         "Won"
        ],
        [
         548322,
         "Rajasthan Royals",
         "field",
         "Mumbai Indians",
         "Lost"
        ],
        [
         548323,
         "Royal Challengers Bangalore",
         "bat",
         "Chennai Super Kings",
         "Lost"
        ],
        [
         548324,
         "Kings XI Punjab",
         "field",
         "Kings XI Punjab",
         "Won"
        ],
        [
         548325,
         "Rajasthan Royals",
         "bat",
         "Kolkata Knight Riders",
         "Lost"
        ],
        [
         548326,
         "Deccan Chargers",
         "bat",
         "Delhi Daredevils",
         "Lost"
        ],
        [
         548327,
         "Chennai Super Kings",
         "bat",
         "Pune Warriors",
         "Lost"
        ],
        [
         548328,
         "Kolkata Knight Riders",
         "field",
         "Kings XI Punjab",
         "Lost"
        ],
        [
         548329,
         "Rajasthan Royals",
         "bat",
         "Rajasthan Royals",
         "Won"
        ],
        [
         548330,
         "Delhi Daredevils",
         "field",
         "Delhi Daredevils",
         "Won"
        ],
        [
         548331,
         "Deccan Chargers",
         "bat",
         "Rajasthan Royals",
         "Lost"
        ],
        [
         548332,
         "Pune Warriors",
         "bat",
         "Royal Challengers Bangalore",
         "Lost"
        ],
        [
         548333,
         "Kings XI Punjab",
         "bat",
         "Kolkata Knight Riders",
         "Lost"
        ],
        [
         548334,
         "Deccan Chargers",
         "bat",
         "Delhi Daredevils",
         "Lost"
        ],
        [
         548335,
         "Pune Warriors",
         "field",
         "Chennai Super Kings",
         "Lost"
        ],
        [
         548336,
         "Royal Challengers Bangalore",
         "field",
         "Royal Challengers Bangalore",
         "Won"
        ],
        [
         548337,
         "Rajasthan Royals",
         "bat",
         "Chennai Super Kings",
         "Lost"
        ],
        [
         548338,
         "Delhi Daredevils",
         "field",
         "Pune Warriors",
         "Lost"
        ],
        [
         548339,
         "Mumbai Indians",
         "bat",
         "Kings XI Punjab",
         "Lost"
        ],
        [
         548340,
         "Kolkata Knight Riders",
         "field",
         "Kolkata Knight Riders",
         "Won"
        ],
        [
         548341,
         "Rajasthan Royals",
         "field",
         "Royal Challengers Bangalore",
         "Lost"
        ],
        [
         548342,
         "Pune Warriors",
         "bat",
         "Delhi Daredevils",
         "Lost"
        ],
        [
         548344,
         "Kings XI Punjab",
         "bat",
         "Mumbai Indians",
         "Lost"
        ],
        [
         548346,
         "Deccan Chargers",
         "bat",
         "Deccan Chargers",
         "Won"
        ],
        [
         548347,
         "Mumbai Indians",
         "field",
         "Delhi Daredevils",
         "Lost"
        ],
        [
         548348,
         "Kings XI Punjab",
         "bat",
         "Kings XI Punjab",
         "Won"
        ],
        [
         548349,
         "Kolkata Knight Riders",
         "bat",
         "Kolkata Knight Riders",
         "Won"
        ],
        [
         548350,
         "Delhi Daredevils",
         "bat",
         "Delhi Daredevils",
         "Won"
        ],
        [
         548351,
         "Mumbai Indians",
         "field",
         "Mumbai Indians",
         "Won"
        ],
        [
         548352,
         "Chennai Super Kings",
         "bat",
         "Kolkata Knight Riders",
         "Lost"
        ],
        [
         548353,
         "Deccan Chargers",
         "bat",
         "Deccan Chargers",
         "Won"
        ],
        [
         548354,
         "Rajasthan Royals",
         "bat",
         "Delhi Daredevils",
         "Lost"
        ],
        [
         548355,
         "Kings XI Punjab",
         "field",
         "Kings XI Punjab",
         "Won"
        ],
        [
         548356,
         "Mumbai Indians",
         "bat",
         "Mumbai Indians",
         "Won"
        ],
        [
         548357,
         "Chennai Super Kings",
         "bat",
         "Chennai Super Kings",
         "Won"
        ],
        [
         548358,
         "Kolkata Knight Riders",
         "bat",
         "Kolkata Knight Riders",
         "Won"
        ],
        [
         548359,
         "Rajasthan Royals",
         "bat",
         "Rajasthan Royals",
         "Won"
        ],
        [
         548360,
         "Mumbai Indians",
         "field",
         "Mumbai Indians",
         "Won"
        ],
        [
         548361,
         "Royal Challengers Bangalore",
         "field",
         "Royal Challengers Bangalore",
         "Won"
        ],
        [
         548362,
         "Delhi Daredevils",
         "bat",
         "Kolkata Knight Riders",
         "Lost"
        ],
        [
         548363,
         "Pune Warriors",
         "bat",
         "Rajasthan Royals",
         "Lost"
        ],
        [
         548364,
         "Deccan Chargers",
         "field",
         "Kings XI Punjab",
         "Lost"
        ],
        [
         548365,
         "Royal Challengers Bangalore",
         "field",
         "Royal Challengers Bangalore",
         "Won"
        ],
        [
         548366,
         "Chennai Super Kings",
         "field",
         "Chennai Super Kings",
         "Won"
        ],
        [
         548367,
         "Pune Warriors",
         "field",
         "Royal Challengers Bangalore",
         "Lost"
        ],
        [
         548368,
         "Mumbai Indians",
         "bat",
         "Mumbai Indians",
         "Won"
        ],
        [
         548369,
         "Chennai Super Kings",
         "field",
         "Chennai Super Kings",
         "Won"
        ],
        [
         548370,
         "Rajasthan Royals",
         "bat",
         "Rajasthan Royals",
         "Won"
        ],
        [
         548371,
         "Deccan Chargers",
         "bat",
         "Kings XI Punjab",
         "Lost"
        ],
        [
         548372,
         "Mumbai Indians",
         "field",
         "Mumbai Indians",
         "Won"
        ],
        [
         548373,
         "Chennai Super Kings",
         "field",
         "Chennai Super Kings",
         "Won"
        ],
        [
         548374,
         "Kings XI Punjab",
         "bat",
         "Delhi Daredevils",
         "Lost"
        ],
        [
         548375,
         "Mumbai Indians",
         "field",
         "Kolkata Knight Riders",
         "Lost"
        ],
        [
         548376,
         "Kings XI Punjab",
         "field",
         "Kings XI Punjab",
         "Won"
        ],
        [
         548377,
         "Delhi Daredevils",
         "field",
         "Royal Challengers Bangalore",
         "Lost"
        ],
        [
         548378,
         "Rajasthan Royals",
         "bat",
         "Deccan Chargers",
         "Lost"
        ],
        [
         548379,
         "Delhi Daredevils",
         "field",
         "Delhi Daredevils",
         "Won"
        ],
        [
         548380,
         "Kolkata Knight Riders",
         "bat",
         "Kolkata Knight Riders",
         "Won"
        ],
        [
         548381,
         "Royal Challengers Bangalore",
         "field",
         "Deccan Chargers",
         "Lost"
        ],
        [
         548382,
         "Rajasthan Royals",
         "bat",
         "Mumbai Indians",
         "Lost"
        ],
        [
         548383,
         "Kolkata Knight Riders",
         "bat",
         "Kolkata Knight Riders",
         "Won"
        ],
        [
         548384,
         "Mumbai Indians",
         "field",
         "Chennai Super Kings",
         "Lost"
        ],
        [
         548385,
         "Delhi Daredevils",
         "field",
         "Chennai Super Kings",
         "Lost"
        ],
        [
         548386,
         "Chennai Super Kings",
         "bat",
         "Kolkata Knight Riders",
         "Lost"
        ],
        [
         598003,
         "Kolkata Knight Riders",
         "field",
         "Kolkata Knight Riders",
         "Won"
        ],
        [
         598004,
         "Mumbai Indians",
         "field",
         "Royal Challengers Bangalore",
         "Lost"
        ],
        [
         598005,
         "Pune Warriors",
         "field",
         "Sunrisers Hyderabad",
         "Lost"
        ],
        [
         598006,
         "Rajasthan Royals",
         "bat",
         "Rajasthan Royals",
         "Won"
        ],
        [
         598007,
         "Mumbai Indians",
         "bat",
         "Mumbai Indians",
         "Won"
        ],
        [
         598008,
         "Pune Warriors",
         "bat",
         "Kings XI Punjab",
         "Lost"
        ],
        [
         598009,
         "Royal Challengers Bangalore",
         "bat",
         "Sunrisers Hyderabad",
         "Lost"
        ],
        [
         598010,
         "Kolkata Knight Riders",
         "field",
         "Rajasthan Royals",
         "Lost"
        ],
        [
         598011,
         "Mumbai Indians",
         "bat",
         "Mumbai Indians",
         "Won"
        ],
        [
         598012,
         "Chennai Super Kings",
         "field",
         "Chennai Super Kings",
         "Won"
        ],
        [
         598013,
         "Royal Challengers Bangalore",
         "field",
         "Royal Challengers Bangalore",
         "Won"
        ],
        [
         598014,
         "Rajasthan Royals",
         "bat",
         "Pune Warriors",
         "Lost"
        ],
        [
         598015,
         "Delhi Daredevils",
         "bat",
         "Sunrisers Hyderabad",
         "Lost"
        ],
        [
         598016,
         "Mumbai Indians",
         "bat",
         "Mumbai Indians",
         "Won"
        ],
        [
         598017,
         "Chennai Super Kings",
         "field",
         "Chennai Super Kings",
         "Won"
        ],
        [
         598018,
         "Kolkata Knight Riders",
         "bat",
         "Kolkata Knight Riders",
         "Won"
        ],
        [
         598019,
         "Rajasthan Royals",
         "field",
         "Rajasthan Royals",
         "Won"
        ],
        [
         598020,
         "Pune Warriors",
         "bat",
         "Pune Warriors",
         "Won"
        ],
        [
         598021,
         "Kolkata Knight Riders",
         "field",
         "Kings XI Punjab",
         "Lost"
        ],
        [
         598022,
         "Royal Challengers Bangalore",
         "field",
         "Royal Challengers Bangalore",
         "Won"
        ],
        [
         598023,
         "Pune Warriors",
         "field",
         "Sunrisers Hyderabad",
         "Lost"
        ],
        [
         598024,
         "Rajasthan Royals",
         "bat",
         "Rajasthan Royals",
         "Won"
        ],
        [
         598025,
         "Chennai Super Kings",
         "bat",
         "Chennai Super Kings",
         "Won"
        ],
        [
         598026,
         "Kings XI Punjab",
         "bat",
         "Sunrisers Hyderabad",
         "Lost"
        ],
        [
         598027,
         "Kolkata Knight Riders",
         "bat",
         "Chennai Super Kings",
         "Lost"
        ],
        [
         598028,
         "Royal Challengers Bangalore",
         "field",
         "Royal Challengers Bangalore",
         "Won"
        ],
        [
         598029,
         "Mumbai Indians",
         "bat",
         "Delhi Daredevils",
         "Lost"
        ],
        [
         598030,
         "Kings XI Punjab",
         "field",
         "Kings XI Punjab",
         "Won"
        ],
        [
         598031,
         "Rajasthan Royals",
         "bat",
         "Chennai Super Kings",
         "Lost"
        ],
        [
         598032,
         "Pune Warriors",
         "field",
         "Royal Challengers Bangalore",
         "Lost"
        ],
        [
         598033,
         "Delhi Daredevils",
         "field",
         "Kings XI Punjab",
         "Lost"
        ],
        [
         598034,
         "Kolkata Knight Riders",
         "bat",
         "Mumbai Indians",
         "Lost"
        ],
        [
         598035,
         "Sunrisers Hyderabad",
         "bat",
         "Chennai Super Kings",
         "Lost"
        ],
        [
         598036,
         "Kings XI Punjab",
         "bat",
         "Kolkata Knight Riders",
         "Lost"
        ],
        [
         598037,
         "Sunrisers Hyderabad",
         "bat",
         "Rajasthan Royals",
         "Lost"
        ],
        [
         598038,
         "Mumbai Indians",
         "bat",
         "Mumbai Indians",
         "Won"
        ],
        [
         598039,
         "Kolkata Knight Riders",
         "field",
         "Chennai Super Kings",
         "Lost"
        ],
        [
         598040,
         "Pune Warriors",
         "field",
         "Delhi Daredevils",
         "Lost"
        ],
        [
         598041,
         "Rajasthan Royals",
         "field",
         "Rajasthan Royals",
         "Won"
        ],
        [
         598042,
         "Mumbai Indians",
         "bat",
         "Mumbai Indians",
         "Won"
        ],
        [
         598043,
         "Chennai Super Kings",
         "bat",
         "Chennai Super Kings",
         "Won"
        ],
        [
         598044,
         "Mumbai Indians",
         "bat",
         "Sunrisers Hyderabad",
         "Lost"
        ],
        [
         598045,
         "Kolkata Knight Riders",
         "bat",
         "Delhi Daredevils",
         "Lost"
        ],
        [
         598046,
         "Chennai Super Kings",
         "bat",
         "Chennai Super Kings",
         "Won"
        ],
        [
         598047,
         "Royal Challengers Bangalore",
         "bat",
         "Royal Challengers Bangalore",
         "Won"
        ],
        [
         598048,
         "Rajasthan Royals",
         "bat",
         "Kolkata Knight Riders",
         "Lost"
        ],
        [
         598049,
         "Delhi Daredevils",
         "bat",
         "Sunrisers Hyderabad",
         "Lost"
        ],
        [
         598050,
         "Kings XI Punjab",
         "field",
         "Kings XI Punjab",
         "Won"
        ],
        [
         598051,
         "Mumbai Indians",
         "bat",
         "Mumbai Indians",
         "Won"
        ],
        [
         598052,
         "Pune Warriors",
         "bat",
         "Rajasthan Royals",
         "Lost"
        ],
        [
         598053,
         "Sunrisers Hyderabad",
         "bat",
         "Royal Challengers Bangalore",
         "Lost"
        ],
        [
         598054,
         "Delhi Daredevils",
         "bat",
         "Rajasthan Royals",
         "Lost"
        ],
        [
         598055,
         "Mumbai Indians",
         "bat",
         "Mumbai Indians",
         "Won"
        ],
        [
         598056,
         "Sunrisers Hyderabad",
         "field",
         "Chennai Super Kings",
         "Lost"
        ],
        [
         598057,
         "Rajasthan Royals",
         "field",
         "Rajasthan Royals",
         "Won"
        ],
        [
         598058,
         "Kolkata Knight Riders",
         "bat",
         "Kolkata Knight Riders",
         "Won"
        ],
        [
         598059,
         "Delhi Daredevils",
         "field",
         "Royal Challengers Bangalore",
         "Lost"
        ],
        [
         598060,
         "Pune Warriors",
         "bat",
         "Mumbai Indians",
         "Lost"
        ],
        [
         598061,
         "Kings XI Punjab",
         "field",
         "Sunrisers Hyderabad",
         "Lost"
        ],
        [
         598062,
         "Kolkata Knight Riders",
         "field",
         "Kolkata Knight Riders",
         "Won"
        ],
        [
         598063,
         "Rajasthan Royals",
         "field",
         "Rajasthan Royals",
         "Won"
        ],
        [
         598064,
         "Kings XI Punjab",
         "field",
         "Kings XI Punjab",
         "Won"
        ],
        [
         598065,
         "Sunrisers Hyderabad",
         "bat",
         "Mumbai Indians",
         "Lost"
        ],
        [
         598066,
         "Kolkata Knight Riders",
         "field",
         "Pune Warriors",
         "Lost"
        ],
        [
         598067,
         "Chennai Super Kings",
         "bat",
         "Chennai Super Kings",
         "Won"
        ],
        [
         598068,
         "Rajasthan Royals",
         "field",
         "Mumbai Indians",
         "Lost"
        ],
        [
         598069,
         "Kings XI Punjab",
         "field",
         "Kings XI Punjab",
         "Won"
        ],
        [
         598070,
         "Sunrisers Hyderabad",
         "bat",
         "Sunrisers Hyderabad",
         "Won"
        ],
        [
         598071,
         "Mumbai Indians",
         "field",
         "Kings XI Punjab",
         "Lost"
        ],
        [
         598072,
         "Pune Warriors",
         "bat",
         "Pune Warriors",
         "Won"
        ],
        [
         598073,
         "Chennai Super Kings",
         "field",
         "Royal Challengers Bangalore",
         "Lost"
        ],
        [
         598074,
         "Kolkata Knight Riders",
         "bat",
         "Sunrisers Hyderabad",
         "Lost"
        ],
        [
         598075,
         "Chennai Super Kings",
         "bat",
         "Chennai Super Kings",
         "Won"
        ],
        [
         598076,
         "Sunrisers Hyderabad",
         "bat",
         "Rajasthan Royals",
         "Lost"
        ],
        [
         598077,
         "Rajasthan Royals",
         "bat",
         "Mumbai Indians",
         "Lost"
        ],
        [
         598078,
         "Mumbai Indians",
         "bat",
         "Mumbai Indians",
         "Won"
        ],
        [
         729284,
         "Kolkata Knight Riders",
         "bat",
         "Kolkata Knight Riders",
         "Won"
        ],
        [
         729286,
         "Royal Challengers Bangalore",
         "field",
         "Royal Challengers Bangalore",
         "Won"
        ],
        [
         729288,
         "Chennai Super Kings",
         "bat",
         "Kings XI Punjab",
         "Lost"
        ],
        [
         729290,
         "Rajasthan Royals",
         "field",
         "Rajasthan Royals",
         "Won"
        ],
        [
         729292,
         "Royal Challengers Bangalore",
         "field",
         "Royal Challengers Bangalore",
         "Won"
        ],
        [
         729294,
         "Kolkata Knight Riders",
         "bat",
         "Delhi Daredevils",
         "Lost"
        ],
        [
         729296,
         "Kings XI Punjab",
         "field",
         "Kings XI Punjab",
         "Won"
        ],
        [
         729298,
         "Chennai Super Kings",
         "bat",
         "Chennai Super Kings",
         "Won"
        ],
        [
         729300,
         "Sunrisers Hyderabad",
         "field",
         "Kings XI Punjab",
         "Lost"
        ],
        [
         729302,
         "Rajasthan Royals",
         "field",
         "Chennai Super Kings",
         "Lost"
        ],
        [
         729304,
         "Royal Challengers Bangalore",
         "field",
         "Kolkata Knight Riders",
         "Lost"
        ],
        [
         729306,
         "Sunrisers Hyderabad",
         "bat",
         "Sunrisers Hyderabad",
         "Won"
        ],
        [
         729308,
         "Mumbai Indians",
         "bat",
         "Chennai Super Kings",
         "Lost"
        ],
        [
         729310,
         "Rajasthan Royals",
         "field",
         "Rajasthan Royals",
         "Won"
        ],
        [
         729312,
         "Kolkata Knight Riders",
         "field",
         "Kings XI Punjab",
         "Lost"
        ],
        [
         729314,
         "Mumbai Indians",
         "bat",
         "Delhi Daredevils",
         "Lost"
        ],
        [
         729316,
         "Sunrisers Hyderabad",
         "bat",
         "Chennai Super Kings",
         "Lost"
        ],
        [
         729318,
         "Kings XI Punjab",
         "field",
         "Kings XI Punjab",
         "Won"
        ],
        [
         729320,
         "Rajasthan Royals",
         "bat",
         "Rajasthan Royals",
         "Won"
        ],
        [
         729322,
         "Mumbai Indians",
         "field",
         "Sunrisers Hyderabad",
         "Lost"
        ],
        [
         733976,
         "Chennai Super Kings",
         "bat",
         "Chennai Super Kings",
         "Won"
        ],
        [
         733978,
         "Kings XI Punjab",
         "bat",
         "Mumbai Indians",
         "Lost"
        ],
        [
         733980,
         "Rajasthan Royals",
         "field",
         "Rajasthan Royals",
         "Won"
        ],
        [
         733982,
         "Royal Challengers Bangalore",
         "field",
         "Royal Challengers Bangalore",
         "Won"
        ],
        [
         733984,
         "Kolkata Knight Riders",
         "field",
         "Rajasthan Royals",
         "Lost"
        ],
        [
         733986,
         "Chennai Super Kings",
         "field",
         "Chennai Super Kings",
         "Won"
        ],
        [
         733988,
         "Royal Challengers Bangalore",
         "field",
         "Mumbai Indians",
         "Lost"
        ],
        [
         733990,
         "Delhi Daredevils",
         "bat",
         "Kolkata Knight Riders",
         "Lost"
        ],
        [
         733992,
         "Chennai Super Kings",
         "field",
         "Kings XI Punjab",
         "Lost"
        ],
        [
         733994,
         "Rajasthan Royals",
         "field",
         "Sunrisers Hyderabad",
         "Lost"
        ],
        [
         733996,
         "Royal Challengers Bangalore",
         "field",
         "Kings XI Punjab",
         "Lost"
        ],
        [
         733998,
         "Sunrisers Hyderabad",
         "field",
         "Sunrisers Hyderabad",
         "Won"
        ],
        [
         734000,
         "Chennai Super Kings",
         "field",
         "Chennai Super Kings",
         "Won"
        ],
        [
         734002,
         "Kolkata Knight Riders",
         "field",
         "Kolkata Knight Riders",
         "Won"
        ],
        [
         734004,
         "Royal Challengers Bangalore",
         "bat",
         "Rajasthan Royals",
         "Lost"
        ],
        [
         734006,
         "Sunrisers Hyderabad",
         "bat",
         "Mumbai Indians",
         "Lost"
        ],
        [
         734008,
         "Rajasthan Royals",
         "bat",
         "Chennai Super Kings",
         "Lost"
        ],
        [
         734010,
         "Delhi Daredevils",
         "field",
         "Royal Challengers Bangalore",
         "Lost"
        ],
        [
         734012,
         "Kings XI Punjab",
         "field",
         "Kings XI Punjab",
         "Won"
        ],
        [
         734014,
         "Kolkata Knight Riders",
         "field",
         "Kolkata Knight Riders",
         "Won"
        ],
        [
         734016,
         "Delhi Daredevils",
         "field",
         "Rajasthan Royals",
         "Lost"
        ],
        [
         734018,
         "Chennai Super Kings",
         "bat",
         "Royal Challengers Bangalore",
         "Lost"
        ],
        [
         734020,
         "Sunrisers Hyderabad",
         "bat",
         "Kolkata Knight Riders",
         "Lost"
        ],
        [
         734022,
         "Mumbai Indians",
         "bat",
         "Mumbai Indians",
         "Won"
        ],
        [
         734024,
         "Kings XI Punjab",
         "field",
         "Kings XI Punjab",
         "Won"
        ],
        [
         734026,
         "Royal Challengers Bangalore",
         "bat",
         "Sunrisers Hyderabad",
         "Lost"
        ],
        [
         734028,
         "Kolkata Knight Riders",
         "field",
         "Kolkata Knight Riders",
         "Won"
        ],
        [
         734030,
         "Mumbai Indians",
         "field",
         "Mumbai Indians",
         "Won"
        ],
        [
         734032,
         "Royal Challengers Bangalore",
         "field",
         "Kolkata Knight Riders",
         "Lost"
        ],
        [
         734034,
         "Sunrisers Hyderabad",
         "field",
         "Sunrisers Hyderabad",
         "Won"
        ],
        [
         734036,
         "Delhi Daredevils",
         "field",
         "Mumbai Indians",
         "Lost"
        ],
        [
         734038,
         "Rajasthan Royals",
         "field",
         "Kings XI Punjab",
         "Lost"
        ],
        [
         734040,
         "Chennai Super Kings",
         "field",
         "Chennai Super Kings",
         "Won"
        ],
        [
         734042,
         "Kolkata Knight Riders",
         "field",
         "Kolkata Knight Riders",
         "Won"
        ],
        [
         734044,
         "Kings XI Punjab",
         "field",
         "Kings XI Punjab",
         "Won"
        ],
        [
         734046,
         "Mumbai Indians",
         "field",
         "Mumbai Indians",
         "Won"
        ],
        [
         734048,
         "Kings XI Punjab",
         "field",
         "Kolkata Knight Riders",
         "Lost"
        ],
        [
         734050,
         "Chennai Super Kings",
         "field",
         "Chennai Super Kings",
         "Won"
        ],
        [
         734052,
         "Chennai Super Kings",
         "field",
         "Kings XI Punjab",
         "Lost"
        ],
        [
         734054,
         "Kolkata Knight Riders",
         "field",
         "Kolkata Knight Riders",
         "Won"
        ],
        [
         829710,
         "Kolkata Knight Riders",
         "field",
         "Kolkata Knight Riders",
         "Won"
        ],
        [
         829712,
         "Delhi Daredevils",
         "field",
         "Chennai Super Kings",
         "Lost"
        ],
        [
         829714,
         "Kings XI Punjab",
         "field",
         "Rajasthan Royals",
         "Lost"
        ],
        [
         829716,
         "Chennai Super Kings",
         "bat",
         "Chennai Super Kings",
         "Won"
        ],
        [
         829718,
         "Royal Challengers Bangalore",
         "field",
         "Royal Challengers Bangalore",
         "Won"
        ],
        [
         829720,
         "Rajasthan Royals",
         "field",
         "Rajasthan Royals",
         "Won"
        ],
        [
         829722,
         "Mumbai Indians",
         "field",
         "Kings XI Punjab",
         "Lost"
        ],
        [
         829724,
         "Sunrisers Hyderabad",
         "field",
         "Sunrisers Hyderabad",
         "Won"
        ],
        [
         829726,
         "Mumbai Indians",
         "bat",
         "Rajasthan Royals",
         "Lost"
        ],
        [
         829728,
         "Kolkata Knight Riders",
         "field",
         "Kolkata Knight Riders",
         "Won"
        ],
        [
         829730,
         "Kings XI Punjab",
         "bat",
         "Delhi Daredevils",
         "Lost"
        ],
        [
         829732,
         "Rajasthan Royals",
         "field",
         "Rajasthan Royals",
         "Won"
        ],
        [
         829734,
         "Mumbai Indians",
         "bat",
         "Chennai Super Kings",
         "Lost"
        ],
        [
         829736,
         "Delhi Daredevils",
         "bat",
         "Delhi Daredevils",
         "Won"
        ],
        [
         829738,
         "Kolkata Knight Riders",
         "field",
         "Kolkata Knight Riders",
         "Won"
        ],
        [
         829740,
         "Chennai Super Kings",
         "bat",
         "Rajasthan Royals",
         "Lost"
        ],
        [
         829742,
         "Royal Challengers Bangalore",
         "field",
         "Mumbai Indians",
         "Lost"
        ],
        [
         829744,
         "Kolkata Knight Riders",
         "field",
         "Kolkata Knight Riders",
         "Won"
        ],
        [
         829746,
         "Kings XI Punjab",
         "field",
         "Kings XI Punjab",
         "Won"
        ],
        [
         829748,
         "Kolkata Knight Riders",
         "field",
         "Sunrisers Hyderabad",
         "Lost"
        ],
        [
         829750,
         "Royal Challengers Bangalore",
         "field",
         "Chennai Super Kings",
         "Lost"
        ],
        [
         829752,
         "Mumbai Indians",
         "field",
         "Delhi Daredevils",
         "Lost"
        ],
        [
         829754,
         "Royal Challengers Bangalore",
         "field",
         "Royal Challengers Bangalore",
         "Won"
        ],
        [
         829756,
         "Mumbai Indians",
         "bat",
         "Mumbai Indians",
         "Won"
        ],
        [
         829758,
         "Chennai Super Kings",
         "bat",
         "Chennai Super Kings",
         "Won"
        ],
        [
         829762,
         "Royal Challengers Bangalore",
         "field",
         "Royal Challengers Bangalore",
         "Won"
        ],
        [
         829764,
         "Kings XI Punjab",
         "field",
         "Sunrisers Hyderabad",
         "Lost"
        ],
        [
         829766,
         "Kolkata Knight Riders",
         "bat",
         "Kolkata Knight Riders",
         "Won"
        ],
        [
         829770,
         "Kolkata Knight Riders",
         "field",
         "Chennai Super Kings",
         "Lost"
        ],
        [
         829772,
         "Delhi Daredevils",
         "field",
         "Delhi Daredevils",
         "Won"
        ],
        [
         829774,
         "Rajasthan Royals",
         "field",
         "Mumbai Indians",
         "Lost"
        ],
        [
         829776,
         "Royal Challengers Bangalore",
         "field",
         "Royal Challengers Bangalore",
         "Won"
        ],
        [
         829778,
         "Chennai Super Kings",
         "field",
         "Sunrisers Hyderabad",
         "Lost"
        ],
        [
         829780,
         "Mumbai Indians",
         "bat",
         "Mumbai Indians",
         "Won"
        ],
        [
         829782,
         "Delhi Daredevils",
         "field",
         "Rajasthan Royals",
         "Lost"
        ],
        [
         829784,
         "Chennai Super Kings",
         "bat",
         "Chennai Super Kings",
         "Won"
        ],
        [
         829786,
         "Sunrisers Hyderabad",
         "field",
         "Kolkata Knight Riders",
         "Lost"
        ],
        [
         829788,
         "Delhi Daredevils",
         "bat",
         "Mumbai Indians",
         "Lost"
        ],
        [
         829790,
         "Kings XI Punjab",
         "field",
         "Royal Challengers Bangalore",
         "Lost"
        ],
        [
         829792,
         "Rajasthan Royals",
         "field",
         "Sunrisers Hyderabad",
         "Lost"
        ],
        [
         829794,
         "Chennai Super Kings",
         "bat",
         "Mumbai Indians",
         "Lost"
        ],
        [
         829796,
         "Kings XI Punjab",
         "bat",
         "Kolkata Knight Riders",
         "Lost"
        ],
        [
         829798,
         "Sunrisers Hyderabad",
         "bat",
         "Sunrisers Hyderabad",
         "Won"
        ],
        [
         829800,
         "Royal Challengers Bangalore",
         "bat",
         "Royal Challengers Bangalore",
         "Won"
        ],
        [
         829802,
         "Chennai Super Kings",
         "bat",
         "Chennai Super Kings",
         "Won"
        ],
        [
         829804,
         "Sunrisers Hyderabad",
         "bat",
         "Sunrisers Hyderabad",
         "Won"
        ],
        [
         829806,
         "Chennai Super Kings",
         "bat",
         "Delhi Daredevils",
         "Lost"
        ],
        [
         829808,
         "Royal Challengers Bangalore",
         "field",
         "Kings XI Punjab",
         "Lost"
        ],
        [
         829810,
         "Kolkata Knight Riders",
         "field",
         "Mumbai Indians",
         "Lost"
        ],
        [
         829812,
         "Sunrisers Hyderabad",
         "bat",
         "Royal Challengers Bangalore",
         "Lost"
        ],
        [
         829814,
         "Kings XI Punjab",
         "bat",
         "Chennai Super Kings",
         "Lost"
        ],
        [
         829816,
         "Rajasthan Royals",
         "bat",
         "Rajasthan Royals",
         "Won"
        ],
        [
         829820,
         "Sunrisers Hyderabad",
         "bat",
         "Mumbai Indians",
         "Lost"
        ],
        [
         829822,
         "Mumbai Indians",
         "bat",
         "Mumbai Indians",
         "Won"
        ],
        [
         829824,
         "Royal Challengers Bangalore",
         "bat",
         "Royal Challengers Bangalore",
         "Won"
        ],
        [
         829826,
         "Chennai Super Kings",
         "field",
         "Chennai Super Kings",
         "Won"
        ],
        [
         829828,
         "Chennai Super Kings",
         "field",
         "Mumbai Indians",
         "Lost"
        ],
        [
         980906,
         "Mumbai Indians",
         "bat",
         "Rising Pune Supergiants",
         "Lost"
        ],
        [
         980908,
         "Kolkata Knight Riders",
         "field",
         "Kolkata Knight Riders",
         "Won"
        ],
        [
         980910,
         "Gujarat Lions",
         "field",
         "Gujarat Lions",
         "Won"
        ],
        [
         980912,
         "Sunrisers Hyderabad",
         "field",
         "Royal Challengers Bangalore",
         "Lost"
        ],
        [
         980914,
         "Mumbai Indians",
         "field",
         "Mumbai Indians",
         "Won"
        ],
        [
         980916,
         "Rising Pune Supergiants",
         "bat",
         "Gujarat Lions",
         "Lost"
        ],
        [
         980918,
         "Delhi Daredevils",
         "field",
         "Delhi Daredevils",
         "Won"
        ],
        [
         980920,
         "Sunrisers Hyderabad",
         "bat",
         "Kolkata Knight Riders",
         "Lost"
        ],
        [
         980922,
         "Gujarat Lions",
         "field",
         "Gujarat Lions",
         "Won"
        ],
        [
         980924,
         "Rising Pune Supergiants",
         "bat",
         "Kings XI Punjab",
         "Lost"
        ],
        [
         980926,
         "Delhi Daredevils",
         "field",
         "Delhi Daredevils",
         "Won"
        ],
        [
         980928,
         "Sunrisers Hyderabad",
         "field",
         "Sunrisers Hyderabad",
         "Won"
        ],
        [
         980930,
         "Kolkata Knight Riders",
         "field",
         "Kolkata Knight Riders",
         "Won"
        ],
        [
         980932,
         "Mumbai Indians",
         "field",
         "Mumbai Indians",
         "Won"
        ],
        [
         980934,
         "Sunrisers Hyderabad",
         "field",
         "Sunrisers Hyderabad",
         "Won"
        ],
        [
         980936,
         "Rising Pune Supergiants",
         "field",
         "Royal Challengers Bangalore",
         "Lost"
        ],
        [
         980938,
         "Mumbai Indians",
         "field",
         "Delhi Daredevils",
         "Lost"
        ],
        [
         980940,
         "Sunrisers Hyderabad",
         "field",
         "Sunrisers Hyderabad",
         "Won"
        ],
        [
         980942,
         "Royal Challengers Bangalore",
         "bat",
         "Gujarat Lions",
         "Lost"
        ],
        [
         980944,
         "Kolkata Knight Riders",
         "field",
         "Kolkata Knight Riders",
         "Won"
        ],
        [
         980946,
         "Kings XI Punjab",
         "field",
         "Mumbai Indians",
         "Lost"
        ],
        [
         980948,
         "Rising Pune Supergiants",
         "field",
         "Rising Pune Supergiants",
         "Won"
        ],
        [
         980950,
         "Delhi Daredevils",
         "field",
         "Gujarat Lions",
         "Lost"
        ],
        [
         980952,
         "Mumbai Indians",
         "field",
         "Mumbai Indians",
         "Won"
        ],
        [
         980954,
         "Gujarat Lions",
         "field",
         "Gujarat Lions",
         "Won"
        ],
        [
         980956,
         "Kolkata Knight Riders",
         "field",
         "Delhi Daredevils",
         "Lost"
        ],
        [
         980958,
         "Royal Challengers Bangalore",
         "field",
         "Sunrisers Hyderabad",
         "Lost"
        ],
        [
         980960,
         "Gujarat Lions",
         "field",
         "Kings XI Punjab",
         "Lost"
        ],
        [
         980962,
         "Mumbai Indians",
         "field",
         "Mumbai Indians",
         "Won"
        ],
        [
         980964,
         "Kolkata Knight Riders",
         "field",
         "Kolkata Knight Riders",
         "Won"
        ],
        [
         980966,
         "Delhi Daredevils",
         "field",
         "Delhi Daredevils",
         "Won"
        ],
        [
         980968,
         "Kings XI Punjab",
         "field",
         "Kolkata Knight Riders",
         "Lost"
        ],
        [
         980970,
         "Rising Pune Supergiants",
         "field",
         "Rising Pune Supergiants",
         "Won"
        ],
        [
         980972,
         "Sunrisers Hyderabad",
         "field",
         "Sunrisers Hyderabad",
         "Won"
        ],
        [
         980974,
         "Royal Challengers Bangalore",
         "field",
         "Royal Challengers Bangalore",
         "Won"
        ],
        [
         980976,
         "Delhi Daredevils",
         "field",
         "Kings XI Punjab",
         "Lost"
        ],
        [
         980978,
         "Mumbai Indians",
         "field",
         "Sunrisers Hyderabad",
         "Lost"
        ],
        [
         980980,
         "Gujarat Lions",
         "field",
         "Gujarat Lions",
         "Won"
        ],
        [
         980982,
         "Kings XI Punjab",
         "field",
         "Royal Challengers Bangalore",
         "Lost"
        ],
        [
         980984,
         "Sunrisers Hyderabad",
         "bat",
         "Sunrisers Hyderabad",
         "Won"
        ],
        [
         980986,
         "Mumbai Indians",
         "field",
         "Mumbai Indians",
         "Won"
        ],
        [
         980988,
         "Delhi Daredevils",
         "field",
         "Delhi Daredevils",
         "Won"
        ],
        [
         980990,
         "Mumbai Indians",
         "bat",
         "Kings XI Punjab",
         "Lost"
        ],
        [
         980992,
         "Gujarat Lions",
         "field",
         "Royal Challengers Bangalore",
         "Lost"
        ],
        [
         980994,
         "Rising Pune Supergiants",
         "bat",
         "Kolkata Knight Riders",
         "Lost"
        ],
        [
         980996,
         "Kings XI Punjab",
         "bat",
         "Sunrisers Hyderabad",
         "Lost"
        ],
        [
         980998,
         "Delhi Daredevils",
         "field",
         "Mumbai Indians",
         "Lost"
        ],
        [
         981000,
         "Royal Challengers Bangalore",
         "field",
         "Royal Challengers Bangalore",
         "Won"
        ],
        [
         981002,
         "Rising Pune Supergiants",
         "field",
         "Rising Pune Supergiants",
         "Won"
        ],
        [
         981004,
         "Kings XI Punjab",
         "field",
         "Royal Challengers Bangalore",
         "Lost"
        ],
        [
         981006,
         "Gujarat Lions",
         "field",
         "Gujarat Lions",
         "Won"
        ],
        [
         981008,
         "Delhi Daredevils",
         "field",
         "Delhi Daredevils",
         "Won"
        ],
        [
         981010,
         "Kings XI Punjab",
         "bat",
         "Rising Pune Supergiants",
         "Lost"
        ],
        [
         981012,
         "Gujarat Lions",
         "field",
         "Gujarat Lions",
         "Won"
        ],
        [
         981014,
         "Sunrisers Hyderabad",
         "field",
         "Kolkata Knight Riders",
         "Lost"
        ],
        [
         981016,
         "Royal Challengers Bangalore",
         "field",
         "Royal Challengers Bangalore",
         "Won"
        ],
        [
         981018,
         "Royal Challengers Bangalore",
         "field",
         "Royal Challengers Bangalore",
         "Won"
        ],
        [
         981020,
         "Kolkata Knight Riders",
         "field",
         "Sunrisers Hyderabad",
         "Lost"
        ],
        [
         981022,
         "Sunrisers Hyderabad",
         "field",
         "Sunrisers Hyderabad",
         "Won"
        ],
        [
         981024,
         "Sunrisers Hyderabad",
         "bat",
         "Sunrisers Hyderabad",
         "Won"
        ],
        [
         1082591,
         "Royal Challengers Bangalore",
         "Field",
         "Sunrisers Hyderabad",
         "Lost"
        ],
        [
         1082592,
         "Rising Pune Supergiant",
         "Field",
         "Rising Pune Supergiants",
         "Lost"
        ],
        [
         1082593,
         "Kolkata Knight Riders",
         "Field",
         "Kolkata Knight Riders",
         "Won"
        ],
        [
         1082594,
         "Kings XI Punjab",
         "Field",
         "Kings XI Punjab",
         "Won"
        ],
        [
         1082595,
         "Royal Challengers Bangalore",
         "Bat",
         "Royal Challengers Bangalore",
         "Won"
        ],
        [
         1082596,
         "Sunrisers Hyderabad",
         "Field",
         "Sunrisers Hyderabad",
         "Won"
        ],
        [
         1082597,
         "Mumbai Indians",
         "Field",
         "Mumbai Indians",
         "Won"
        ],
        [
         1082598,
         "Royal Challengers Bangalore",
         "Bat",
         "Kings XI Punjab",
         "Lost"
        ],
        [
         1082599,
         "Rising Pune Supergiants",
         "Field",
         "Delhi Daredevils",
         "Lost"
        ],
        [
         1082600,
         "Mumbai Indians",
         "Field",
         "Mumbai Indians",
         "Won"
        ],
        [
         1082601,
         "Kolkata Knight Riders",
         "Field",
         "Kolkata Knight Riders",
         "Won"
        ],
        [
         1082602,
         "Mumbai Indians",
         "Field",
         "Mumbai Indians",
         "Won"
        ],
        [
         1082603,
         "Gujarat Lions",
         "Field",
         "Gujarat Lions",
         "Won"
        ],
        [
         1082604,
         "Sunrisers Hyderabad",
         "Field",
         "Kolkata Knight Riders",
         "Lost"
        ],
        [
         1082605,
         "Delhi Daredevils",
         "Bat",
         "Delhi Daredevils",
         "Won"
        ],
        [
         1082606,
         "Mumbai Indians",
         "Field",
         "Mumbai Indians",
         "Won"
        ],
        [
         1082607,
         "Royal Challengers Bangalore",
         "Field",
         "Rising Pune Supergiants",
         "Lost"
        ],
        [
         1082608,
         "Delhi Daredevils",
         "Bat",
         "Kolkata Knight Riders",
         "Lost"
        ],
        [
         1082609,
         "Kings XI Punjab",
         "Field",
         "Sunrisers Hyderabad",
         "Lost"
        ],
        [
         1082610,
         "Gujarat Lions",
         "Field",
         "Royal Challengers Bangalore",
         "Lost"
        ],
        [
         1082611,
         "Sunrisers Hyderabad",
         "Bat",
         "Sunrisers Hyderabad",
         "Won"
        ],
        [
         1082612,
         "Mumbai Indians",
         "Field",
         "Mumbai Indians",
         "Won"
        ],
        [
         1082613,
         "Gujarat Lions",
         "Field",
         "Gujarat Lions",
         "Won"
        ],
        [
         1082614,
         "Delhi Daredevils",
         "Field",
         "Mumbai Indians",
         "Lost"
        ],
        [
         1082615,
         "Rising Pune Supergiants",
         "Field",
         "Rising Pune Supergiants",
         "Won"
        ],
        [
         1082616,
         "Gujarat Lions",
         "Field",
         "Kings XI Punjab",
         "Lost"
        ],
        [
         1082617,
         "Royal Challengers Bangalore",
         "Field",
         "Kolkata Knight Riders",
         "Lost"
        ],
        [
         1082618,
         "Mumbai Indians",
         "Field",
         "Rising Pune Supergiants",
         "Lost"
        ],
        [
         1082620,
         "Kolkata Knight Riders",
         "Field",
         "Kolkata Knight Riders",
         "Won"
        ],
        [
         1082621,
         "Gujarat Lions",
         "Field",
         "Gujarat Lions",
         "Won"
        ],
        [
         1082622,
         "Kolkata Knight Riders",
         "Field",
         "Kolkata Knight Riders",
         "Won"
        ],
        [
         1082623,
         "Kings XI Punjab",
         "Field",
         "Sunrisers Hyderabad",
         "Lost"
        ],
        [
         1082624,
         "Royal Challengers Bangalore",
         "Field",
         "Rising Pune Supergiants",
         "Lost"
        ],
        [
         1082626,
         "Kings XI Punjab",
         "Field",
         "Kings XI Punjab",
         "Won"
        ],
        [
         1082627,
         "Kolkata Knight Riders",
         "Field",
         "Sunrisers Hyderabad",
         "Lost"
        ],
        [
         1082628,
         "Royal Challengers Bangalore",
         "Bat",
         "Mumbai Indians",
         "Lost"
        ],
        [
         1082629,
         "Rising Pune Supergiants",
         "Field",
         "Rising Pune Supergiants",
         "Won"
        ],
        [
         1082630,
         "Delhi Daredevils",
         "Field",
         "Delhi Daredevils",
         "Won"
        ],
        [
         1082631,
         "Rising Pune Supergiants",
         "Field",
         "Rising Pune Supergiants",
         "Won"
        ],
        [
         1082632,
         "Delhi Daredevils",
         "Field",
         "Delhi Daredevils",
         "Won"
        ],
        [
         1082633,
         "Royal Challengers Bangalore",
         "Field",
         "Kings XI Punjab",
         "Lost"
        ],
        [
         1082634,
         "Sunrisers Hyderabad",
         "Field",
         "Rising Pune Supergiants",
         "Lost"
        ],
        [
         1082635,
         "Delhi Daredevils",
         "Field",
         "Mumbai Indians",
         "Lost"
        ],
        [
         1082636,
         "Kolkata Knight Riders",
         "Field",
         "Kolkata Knight Riders",
         "Won"
        ],
        [
         1082637,
         "Gujarat Lions",
         "Field",
         "Gujarat Lions",
         "Won"
        ],
        [
         1082638,
         "Mumbai Indians",
         "Bat",
         "Sunrisers Hyderabad",
         "Lost"
        ],
        [
         1082639,
         "Kolkata Knight Riders",
         "Field",
         "Kings XI Punjab",
         "Lost"
        ],
        [
         1082640,
         "Delhi Daredevils",
         "Field",
         "Delhi Daredevils",
         "Won"
        ],
        [
         1082641,
         "Mumbai Indians",
         "Field",
         "Kings XI Punjab",
         "Lost"
        ],
        [
         1082642,
         "Delhi Daredevils",
         "Bat",
         "Delhi Daredevils",
         "Won"
        ],
        [
         1082643,
         "Sunrisers Hyderabad",
         "Field",
         "Sunrisers Hyderabad",
         "Won"
        ],
        [
         1082644,
         "Kolkata Knight Riders",
         "Field",
         "Mumbai Indians",
         "Lost"
        ],
        [
         1082645,
         "Rising Pune Supergiants",
         "Field",
         "Rising Pune Supergiants",
         "Won"
        ],
        [
         1082646,
         "Royal Challengers Bangalore",
         "Bat",
         "Royal Challengers Bangalore",
         "Won"
        ],
        [
         1082647,
         "Mumbai Indians",
         "Field",
         "Rising Pune Supergiants",
         "Lost"
        ],
        [
         1082648,
         "Kolkata Knight Riders",
         "Field",
         "Kolkata Knight Riders",
         "Won"
        ],
        [
         1082649,
         "Mumbai Indians",
         "Field",
         "Mumbai Indians",
         "Won"
        ],
        [
         1082650,
         "Mumbai Indians",
         "Bat",
         "Mumbai Indians",
         "Won"
        ]
       ],
       "datasetInfos": [],
       "dbfsResultPath": null,
       "isJsonSchema": true,
       "metadata": {},
       "overflow": false,
       "plotOptions": {
        "customPlotOptions": {},
        "displayType": "table",
        "pivotAggregation": null,
        "pivotColumns": null,
        "xColumns": null,
        "yColumns": null
       },
       "removedWidgets": [],
       "schema": [
        {
         "metadata": "{}",
         "name": "match_id",
         "type": "\"integer\""
        },
        {
         "metadata": "{}",
         "name": "toss_winner",
         "type": "\"string\""
        },
        {
         "metadata": "{}",
         "name": "toss_name",
         "type": "\"string\""
        },
        {
         "metadata": "{}",
         "name": "match_winner",
         "type": "\"string\""
        },
        {
         "metadata": "{}",
         "name": "match_outcome",
         "type": "\"string\""
        }
       ],
       "type": "table"
      }
     },
     "output_type": "display_data"
    },
    {
     "output_type": "display_data",
     "data": {
      "text/plain": [
       "Databricks visualization. Run in Databricks to view."
      ]
     },
     "metadata": {
      "application/vnd.databricks.v1.subcommand+json": {
       "baseErrorDetails": null,
       "bindings": {},
       "collapsed": false,
       "command": "%python\n__backend_agg_display_orig = display\n__backend_agg_dfs = []\ndef __backend_agg_display_new(df):\n    __backend_agg_df_modules = [\"pandas.core.frame\", \"databricks.koalas.frame\", \"pyspark.sql.dataframe\", \"pyspark.pandas.frame\", \"pyspark.sql.connect.dataframe\"]\n    if (type(df).__module__ in __backend_agg_df_modules and type(df).__name__ == 'DataFrame') or isinstance(df, list):\n        __backend_agg_dfs.append(df)\n\ndisplay = __backend_agg_display_new\n\ndef __backend_agg_user_code_fn():\n    import base64\n    exec(base64.standard_b64decode(\"ZGlzcGxheSh0b3NzX2ltcGFjdF9pbmRpdmlkdWFsX21hdGNoZXMp\").decode())\n\ntry:\n    # run user code\n    __backend_agg_user_code_fn()\n\n    #reset display function\n    display = __backend_agg_display_orig\n\n    if len(__backend_agg_dfs) > 0:\n        # create a temp view\n        if type(__backend_agg_dfs[0]).__module__ == \"databricks.koalas.frame\":\n            # koalas dataframe\n            __backend_agg_dfs[0].to_spark().createOrReplaceTempView(\"DatabricksViewf6e31ae\")\n        elif type(__backend_agg_dfs[0]).__module__ == \"pandas.core.frame\" or isinstance(__backend_agg_dfs[0], list):\n            # pandas dataframe\n            spark.createDataFrame(__backend_agg_dfs[0]).createOrReplaceTempView(\"DatabricksViewf6e31ae\")\n        else:\n            __backend_agg_dfs[0].createOrReplaceTempView(\"DatabricksViewf6e31ae\")\n        #run backend agg\n        display(spark.sql(\"\"\"WITH q AS (select * from DatabricksViewf6e31ae) SELECT `match_winner`,COUNT(`match_outcome`) `column_20f9f81f34`,COUNT(`match_outcome`) `column_20f9f81f37`,`match_outcome` FROM q GROUP BY `match_outcome`,`match_winner`\"\"\"))\n    else:\n        displayHTML(\"dataframe no longer exists. If you're using dataframe.display(), use display(dataframe) instead.\")\n\n\nfinally:\n    spark.sql(\"drop view if exists DatabricksViewf6e31ae\")\n    display = __backend_agg_display_orig\n    del __backend_agg_display_new\n    del __backend_agg_display_orig\n    del __backend_agg_dfs\n    del __backend_agg_user_code_fn\n\n",
       "commandTitle": "Visualization 1",
       "commandType": "auto",
       "commandVersion": 0,
       "commentThread": [],
       "commentsVisible": false,
       "contentSha256Hex": null,
       "customPlotOptions": {
        "redashChart": [
         {
          "key": "type",
          "value": "CHART"
         },
         {
          "key": "options",
          "value": {
           "alignYAxesAtZero": true,
           "coefficient": 1,
           "columnConfigurationMap": {
            "series": {
             "column": "match_outcome",
             "id": "column_20f9f81f39"
            },
            "x": {
             "column": "match_winner",
             "id": "column_20f9f81f32"
            },
            "y": [
             {
              "column": "match_outcome",
              "id": "column_20f9f81f34",
              "transform": "COUNT"
             },
             {
              "column": "match_outcome",
              "id": "column_20f9f81f37",
              "transform": "COUNT"
             }
            ]
           },
           "dateTimeFormat": "DD/MM/YYYY HH:mm",
           "direction": {
            "type": "counterclockwise"
           },
           "error_y": {
            "type": "data",
            "visible": true
           },
           "globalSeriesType": "column",
           "isAggregationOn": true,
           "legend": {
            "traceorder": "normal"
           },
           "missingValuesAsZero": true,
           "numberFormat": "0,0.[00000]",
           "percentFormat": "0[.]00%",
           "series": {
            "error_y": {
             "type": "data",
             "visible": true
            },
            "stacking": null
           },
           "seriesOptions": {
            "Lost, COUNT(match_outcome)": {
             "color": "#E92828"
            },
            "Won, COUNT(match_outcome)": {
             "color": "#17BF51"
            },
            "column_20f9f81f34": {
             "type": "column",
             "yAxis": 0
            },
            "column_20f9f81f37": {
             "type": "column",
             "yAxis": 0
            }
           },
           "showDataLabels": false,
           "sizemode": "diameter",
           "sortX": true,
           "sortY": true,
           "swappedAxes": false,
           "textFormat": "",
           "useAggregationsUi": true,
           "valuesOptions": {},
           "version": 2,
           "xAxis": {
            "labels": {
             "enabled": true
            },
            "type": "-"
           },
           "yAxis": [
            {
             "title": {
              "text": "Lost,Won"
             },
             "type": "linear"
            },
            {
             "opposite": true,
             "type": "-"
            }
           ]
          }
         }
        ]
       },
       "datasetPreviewNameToCmdIdMap": {},
       "diffDeletes": [],
       "diffInserts": [],
       "displayType": "redashChart",
       "error": null,
       "errorDetails": null,
       "errorSummary": null,
       "errorTraceType": null,
       "finishTime": 0,
       "globalVars": {},
       "guid": "",
       "height": "auto",
       "hideCommandCode": false,
       "hideCommandResult": false,
       "iPythonMetadata": null,
       "inputWidgets": {},
       "isLockedInExamMode": false,
       "latestUser": "a user",
       "latestUserId": null,
       "listResultMetadata": null,
       "metadata": {},
       "nuid": "a8f48dca-86ca-4983-81dc-c8ff0f94df66",
       "origId": 0,
       "parentHierarchy": [],
       "pivotAggregation": null,
       "pivotColumns": null,
       "position": 18.0,
       "resultDbfsErrorMessage": null,
       "resultDbfsStatus": "INLINED_IN_TREE",
       "results": null,
       "showCommandTitle": false,
       "startTime": 0,
       "state": "input",
       "streamStates": {},
       "subcommandOptions": {
        "queryPlan": {
         "groups": [
          {
           "column": "match_winner",
           "type": "column"
          },
          {
           "column": "match_outcome",
           "type": "column"
          }
         ],
         "selects": [
          {
           "column": "match_winner",
           "type": "column"
          },
          {
           "alias": "column_20f9f81f34",
           "args": [
            {
             "column": "match_outcome",
             "type": "column"
            }
           ],
           "function": "COUNT",
           "type": "function"
          },
          {
           "alias": "column_20f9f81f37",
           "args": [
            {
             "column": "match_outcome",
             "type": "column"
            }
           ],
           "function": "COUNT",
           "type": "function"
          },
          {
           "column": "match_outcome",
           "type": "column"
          }
         ]
        }
       },
       "submitTime": 0,
       "subtype": "tableResultSubCmd.visualization",
       "tableResultIndex": 0,
       "useConsistentColors": false,
       "version": "CommandV1",
       "width": "auto",
       "workflows": [],
       "xColumns": null,
       "yColumns": null
      }
     },
     "output_type": "display_data"
    }
   ],
   "source": [
    "display(toss_impact_individual_matches)"
   ]
  },
  {
   "cell_type": "code",
   "execution_count": 0,
   "metadata": {
    "application/vnd.databricks.v1+cell": {
     "cellMetadata": {
      "byteLimit": 2048000,
      "rowLimit": 10000
     },
     "inputWidgets": {},
     "nuid": "c4c859ad-8672-467f-820d-ef3827fffedc",
     "showTitle": false,
     "title": ""
    }
   },
   "outputs": [],
   "source": [
    "average_runs_in_wins = spark.sql(\"\"\"\n",
    "SELECT pm.player_name, AVG(b.runs_scored) AS avg_runs_in_wins, COUNT(*) AS innings_played\n",
    "FROM ball_by_ball b\n",
    "JOIN player_match pm ON b.match_id = pm.match_id AND b.striker = pm.player_id\n",
    "JOIN match m ON pm.match_id = m.match_id\n",
    "WHERE m.match_winner = pm.player_team\n",
    "GROUP BY pm.player_name\n",
    "ORDER BY avg_runs_in_wins desc\n",
    "\"\"\")"
   ]
  },
  {
   "cell_type": "code",
   "execution_count": 0,
   "metadata": {
    "application/vnd.databricks.v1+cell": {
     "cellMetadata": {
      "byteLimit": 2048000,
      "implicitDf": true,
      "rowLimit": 10000
     },
     "inputWidgets": {},
     "nuid": "558b36fb-ef17-473f-865b-7217ba594859",
     "showTitle": false,
     "title": ""
    }
   },
   "outputs": [
    {
     "output_type": "display_data",
     "data": {
      "text/html": [
       "<style scoped>\n",
       "  .table-result-container {\n",
       "    max-height: 300px;\n",
       "    overflow: auto;\n",
       "  }\n",
       "  table, th, td {\n",
       "    border: 1px solid black;\n",
       "    border-collapse: collapse;\n",
       "  }\n",
       "  th, td {\n",
       "    padding: 5px;\n",
       "  }\n",
       "  th {\n",
       "    text-align: left;\n",
       "  }\n",
       "</style><div class='table-result-container'><table class='table-result'><thead style='background-color: white'><tr><th>player_name</th><th>avg_runs_in_wins</th><th>innings_played</th></tr></thead><tbody><tr><td>Rashid Khan</td><td>6.0</td><td>1</td></tr><tr><td>Shahid Afridi</td><td>3.3333333333333335</td><td>6</td></tr><tr><td>AN Ahmed</td><td>3.0</td><td>3</td></tr><tr><td>BA Bhatt</td><td>3.0</td><td>2</td></tr><tr><td>SN Khan</td><td>2.5789473684210527</td><td>19</td></tr><tr><td>SP Jackson</td><td>2.4</td><td>5</td></tr><tr><td>Harmeet Singh</td><td>2.3333333333333335</td><td>6</td></tr><tr><td>Umar Gul</td><td>2.3076923076923075</td><td>13</td></tr><tr><td>SM Pollock</td><td>2.2</td><td>15</td></tr><tr><td>MS Gony</td><td>2.1379310344827585</td><td>29</td></tr></tbody></table></div>"
      ]
     },
     "metadata": {
      "application/vnd.databricks.v1+output": {
       "addedWidgets": {},
       "aggData": [],
       "aggError": "",
       "aggOverflow": false,
       "aggSchema": [],
       "aggSeriesLimitReached": false,
       "aggType": "",
       "arguments": {},
       "columnCustomDisplayInfos": {},
       "data": [
        [
         "Rashid Khan",
         6.0,
         1
        ],
        [
         "Shahid Afridi",
         3.3333333333333335,
         6
        ],
        [
         "AN Ahmed",
         3.0,
         3
        ],
        [
         "BA Bhatt",
         3.0,
         2
        ],
        [
         "SN Khan",
         2.5789473684210527,
         19
        ],
        [
         "SP Jackson",
         2.4,
         5
        ],
        [
         "Harmeet Singh",
         2.3333333333333335,
         6
        ],
        [
         "Umar Gul",
         2.3076923076923075,
         13
        ],
        [
         "SM Pollock",
         2.2,
         15
        ],
        [
         "MS Gony",
         2.1379310344827585,
         29
        ]
       ],
       "datasetInfos": [],
       "dbfsResultPath": null,
       "isJsonSchema": true,
       "metadata": {},
       "overflow": false,
       "plotOptions": {
        "customPlotOptions": {},
        "displayType": "table",
        "pivotAggregation": null,
        "pivotColumns": null,
        "xColumns": null,
        "yColumns": null
       },
       "removedWidgets": [],
       "schema": [
        {
         "metadata": "{}",
         "name": "player_name",
         "type": "\"string\""
        },
        {
         "metadata": "{}",
         "name": "avg_runs_in_wins",
         "type": "\"double\""
        },
        {
         "metadata": "{}",
         "name": "innings_played",
         "type": "\"long\""
        }
       ],
       "type": "table"
      }
     },
     "output_type": "display_data"
    },
    {
     "output_type": "display_data",
     "data": {
      "text/plain": [
       "Databricks visualization. Run in Databricks to view."
      ]
     },
     "metadata": {
      "application/vnd.databricks.v1.subcommand+json": {
       "baseErrorDetails": null,
       "bindings": {},
       "collapsed": false,
       "command": "%python\n__backend_agg_display_orig = display\n__backend_agg_dfs = []\ndef __backend_agg_display_new(df):\n    __backend_agg_df_modules = [\"pandas.core.frame\", \"databricks.koalas.frame\", \"pyspark.sql.dataframe\", \"pyspark.pandas.frame\", \"pyspark.sql.connect.dataframe\"]\n    if (type(df).__module__ in __backend_agg_df_modules and type(df).__name__ == 'DataFrame') or isinstance(df, list):\n        __backend_agg_dfs.append(df)\n\ndisplay = __backend_agg_display_new\n\ndef __backend_agg_user_code_fn():\n    import base64\n    exec(base64.standard_b64decode(\"ZGlzcGxheShhdmVyYWdlX3J1bnNfaW5fd2lucy5saW1pdCgxMCkp\").decode())\n\ntry:\n    # run user code\n    __backend_agg_user_code_fn()\n\n    #reset display function\n    display = __backend_agg_display_orig\n\n    if len(__backend_agg_dfs) > 0:\n        # create a temp view\n        if type(__backend_agg_dfs[0]).__module__ == \"databricks.koalas.frame\":\n            # koalas dataframe\n            __backend_agg_dfs[0].to_spark().createOrReplaceTempView(\"DatabricksView18518a7\")\n        elif type(__backend_agg_dfs[0]).__module__ == \"pandas.core.frame\" or isinstance(__backend_agg_dfs[0], list):\n            # pandas dataframe\n            spark.createDataFrame(__backend_agg_dfs[0]).createOrReplaceTempView(\"DatabricksView18518a7\")\n        else:\n            __backend_agg_dfs[0].createOrReplaceTempView(\"DatabricksView18518a7\")\n        #run backend agg\n        display(spark.sql(\"\"\"WITH q AS (select * from DatabricksView18518a7) SELECT `player_name`,AVG(`avg_runs_in_wins`) `column_20f9f81f43` FROM q GROUP BY `player_name`\"\"\"))\n    else:\n        displayHTML(\"dataframe no longer exists. If you're using dataframe.display(), use display(dataframe) instead.\")\n\n\nfinally:\n    spark.sql(\"drop view if exists DatabricksView18518a7\")\n    display = __backend_agg_display_orig\n    del __backend_agg_display_new\n    del __backend_agg_display_orig\n    del __backend_agg_dfs\n    del __backend_agg_user_code_fn\n\n",
       "commandTitle": "Visualization 1",
       "commandType": "auto",
       "commandVersion": 0,
       "commentThread": [],
       "commentsVisible": false,
       "contentSha256Hex": null,
       "customPlotOptions": {
        "redashChart": [
         {
          "key": "type",
          "value": "CHART"
         },
         {
          "key": "options",
          "value": {
           "alignYAxesAtZero": true,
           "coefficient": 1,
           "columnConfigurationMap": {
            "x": {
             "column": "player_name",
             "id": "column_20f9f81f46"
            },
            "y": [
             {
              "column": "avg_runs_in_wins",
              "id": "column_20f9f81f43",
              "transform": "AVG"
             }
            ]
           },
           "dateTimeFormat": "DD/MM/YYYY HH:mm",
           "direction": {
            "type": "counterclockwise"
           },
           "error_y": {
            "type": "data",
            "visible": true
           },
           "globalSeriesType": "column",
           "isAggregationOn": true,
           "legend": {
            "traceorder": "normal"
           },
           "missingValuesAsZero": true,
           "numberFormat": "0,0.[00000]",
           "percentFormat": "0[.]00%",
           "series": {
            "error_y": {
             "type": "data",
             "visible": true
            },
            "stacking": null
           },
           "seriesOptions": {
            "column_20f9f81f43": {
             "color": "#C63FA9",
             "name": "innings_played",
             "type": "column",
             "yAxis": 0
            }
           },
           "showDataLabels": false,
           "sizemode": "diameter",
           "sortX": true,
           "sortY": true,
           "swappedAxes": false,
           "textFormat": "",
           "useAggregationsUi": true,
           "valuesOptions": {},
           "version": 2,
           "xAxis": {
            "labels": {
             "enabled": true
            },
            "type": "-"
           },
           "yAxis": [
            {
             "title": {
              "text": "Avg_runs_in_wins"
             },
             "type": "-"
            },
            {
             "opposite": true,
             "type": "-"
            }
           ]
          }
         }
        ]
       },
       "datasetPreviewNameToCmdIdMap": {},
       "diffDeletes": [],
       "diffInserts": [],
       "displayType": "redashChart",
       "error": null,
       "errorDetails": null,
       "errorSummary": null,
       "errorTraceType": null,
       "finishTime": 0,
       "globalVars": {},
       "guid": "",
       "height": "auto",
       "hideCommandCode": false,
       "hideCommandResult": false,
       "iPythonMetadata": null,
       "inputWidgets": {},
       "isLockedInExamMode": false,
       "latestUser": "a user",
       "latestUserId": null,
       "listResultMetadata": null,
       "metadata": {},
       "nuid": "aedff235-d361-4e7d-b484-eba08f4abf9c",
       "origId": 0,
       "parentHierarchy": [],
       "pivotAggregation": null,
       "pivotColumns": null,
       "position": 20.0,
       "resultDbfsErrorMessage": null,
       "resultDbfsStatus": "INLINED_IN_TREE",
       "results": null,
       "showCommandTitle": false,
       "startTime": 0,
       "state": "input",
       "streamStates": {},
       "subcommandOptions": {
        "queryPlan": {
         "groups": [
          {
           "column": "player_name",
           "type": "column"
          }
         ],
         "selects": [
          {
           "column": "player_name",
           "type": "column"
          },
          {
           "alias": "column_20f9f81f43",
           "args": [
            {
             "column": "avg_runs_in_wins",
             "type": "column"
            }
           ],
           "function": "AVG",
           "type": "function"
          }
         ]
        }
       },
       "submitTime": 0,
       "subtype": "tableResultSubCmd.visualization",
       "tableResultIndex": 0,
       "useConsistentColors": false,
       "version": "CommandV1",
       "width": "auto",
       "workflows": [],
       "xColumns": null,
       "yColumns": null
      }
     },
     "output_type": "display_data"
    }
   ],
   "source": [
    "display(average_runs_in_wins.limit(10))"
   ]
  },
  {
   "cell_type": "code",
   "execution_count": 0,
   "metadata": {
    "application/vnd.databricks.v1+cell": {
     "cellMetadata": {
      "byteLimit": 2048000,
      "implicitDf": true,
      "rowLimit": 10000
     },
     "inputWidgets": {},
     "nuid": "560aa044-e5f5-4bce-97bd-9baca69acb11",
     "showTitle": false,
     "title": ""
    }
   },
   "outputs": [],
   "source": [
    "scores_by_venues = spark.sql(\"\"\"\n",
    "select t.venue_name,\n",
    "round(avg(t.Total_runs),3) as Average_Runs,max(t.total_runs) as Highest_Total\n",
    "from (\n",
    "select b.match_id,m.venue_name,sum(b.runs_scored) as Total_runs\n",
    "from ball_by_ball b\n",
    "join matches m on m.match_id = b.match_id\n",
    "group by b.match_id,m.venue_name\n",
    "order by 1,2) t\n",
    "\n",
    "group by 1\n",
    "order by 2 desc\"\"\")\n"
   ]
  },
  {
   "cell_type": "code",
   "execution_count": 0,
   "metadata": {
    "application/vnd.databricks.v1+cell": {
     "cellMetadata": {
      "byteLimit": 2048000,
      "rowLimit": 10000
     },
     "inputWidgets": {},
     "nuid": "27dd3dfb-6c35-4c85-b399-9e6fae13efcd",
     "showTitle": false,
     "title": ""
    }
   },
   "outputs": [
    {
     "output_type": "display_data",
     "data": {
      "text/html": [
       "<style scoped>\n",
       "  .table-result-container {\n",
       "    max-height: 300px;\n",
       "    overflow: auto;\n",
       "  }\n",
       "  table, th, td {\n",
       "    border: 1px solid black;\n",
       "    border-collapse: collapse;\n",
       "  }\n",
       "  th, td {\n",
       "    padding: 5px;\n",
       "  }\n",
       "  th {\n",
       "    text-align: left;\n",
       "  }\n",
       "</style><div class='table-result-container'><table class='table-result'><thead style='background-color: white'><tr><th>venue_name</th><th>Average_Runs</th><th>Highest_Total</th></tr></thead><tbody><tr><td>Brabourne Stadium</td><td>325.818</td><td>399</td></tr><tr><td>Saurashtra Cricket Association Stadium</td><td>319.1</td><td>393</td></tr><tr><td>Punjab Cricket Association IS Bindra Stadium, Mohali</td><td>317.429</td><td>341</td></tr><tr><td>Barabati Stadium</td><td>311.571</td><td>404</td></tr><tr><td>Green Park</td><td>308.0</td><td>378</td></tr><tr><td>Maharashtra Cricket Association Stadium</td><td>302.067</td><td>377</td></tr><tr><td>Rajiv Gandhi International Stadium Uppal</td><td>302.0</td><td>365</td></tr><tr><td>Himachal Pradesh Cricket Association Stadium</td><td>301.111</td><td>371</td></tr><tr><td>MA Chidambaram Stadium, Chepauk</td><td>299.729</td><td>447</td></tr><tr><td>Sardar Patel Stadium, Motera</td><td>298.0</td><td>377</td></tr><tr><td>Punjab Cricket Association Stadium, Mohali</td><td>296.771</td><td>426</td></tr><tr><td>Wankhede Stadium</td><td>296.474</td><td>419</td></tr><tr><td>Holkar Cricket Stadium</td><td>296.2</td><td>371</td></tr><tr><td>Punjab Cricket Association IS Bindra Stadium Mohali</td><td>296.0</td><td>380</td></tr><tr><td>M Chinnaswamy Stadium</td><td>292.788</td><td>387</td></tr><tr><td>Feroz Shah Kotla</td><td>290.467</td><td>408</td></tr><tr><td>Sharjah Cricket Stadium</td><td>286.167</td><td>365</td></tr><tr><td>De Beers Diamond Oval</td><td>285.0</td><td>319</td></tr><tr><td>Rajiv Gandhi International Stadium, Uppal</td><td>284.415</td><td>417</td></tr><tr><td>SuperSport Park</td><td>284.167</td><td>348</td></tr><tr><td>Eden Gardens</td><td>279.869</td><td>386</td></tr><tr><td>JSCA International Stadium Complex</td><td>279.286</td><td>361</td></tr><tr><td>Sawai Mansingh Stadium</td><td>278.121</td><td>374</td></tr><tr><td>Shaheed Veer Narayan Singh International Stadium</td><td>277.167</td><td>312</td></tr><tr><td>Dubai International Cricket Stadium</td><td>276.429</td><td>352</td></tr><tr><td>Vidarbha Cricket Association Stadium, Jamtha</td><td>272.333</td><td>290</td></tr><tr><td>Dr. Y.S. Rajasekhara Reddy ACA-VDCA Cricket Stadium</td><td>272.273</td><td>333</td></tr><tr><td>St George's Park</td><td>271.714</td><td>290</td></tr><tr><td>Kingsmead</td><td>270.667</td><td>353</td></tr><tr><td>New Wanderers Stadium</td><td>270.0</td><td>303</td></tr><tr><td>Subrata Roy Sahara Stadium</td><td>264.235</td><td>339</td></tr><tr><td>Dr DY Patil Sports Academy</td><td>262.647</td><td>355</td></tr><tr><td>Sheikh Zayed Stadium</td><td>261.714</td><td>390</td></tr><tr><td>Nehru Stadium</td><td>255.4</td><td>291</td></tr><tr><td>Buffalo Park</td><td>246.667</td><td>265</td></tr><tr><td>Newlands</td><td>239.714</td><td>328</td></tr><tr><td>OUTsurance Oval</td><td>238.0</td><td>261</td></tr></tbody></table></div>"
      ]
     },
     "metadata": {
      "application/vnd.databricks.v1+output": {
       "addedWidgets": {},
       "aggData": [],
       "aggError": "",
       "aggOverflow": false,
       "aggSchema": [],
       "aggSeriesLimitReached": false,
       "aggType": "",
       "arguments": {},
       "columnCustomDisplayInfos": {},
       "data": [
        [
         "Brabourne Stadium",
         325.818,
         399
        ],
        [
         "Saurashtra Cricket Association Stadium",
         319.1,
         393
        ],
        [
         "Punjab Cricket Association IS Bindra Stadium, Mohali",
         317.429,
         341
        ],
        [
         "Barabati Stadium",
         311.571,
         404
        ],
        [
         "Green Park",
         308.0,
         378
        ],
        [
         "Maharashtra Cricket Association Stadium",
         302.067,
         377
        ],
        [
         "Rajiv Gandhi International Stadium Uppal",
         302.0,
         365
        ],
        [
         "Himachal Pradesh Cricket Association Stadium",
         301.111,
         371
        ],
        [
         "MA Chidambaram Stadium, Chepauk",
         299.729,
         447
        ],
        [
         "Sardar Patel Stadium, Motera",
         298.0,
         377
        ],
        [
         "Punjab Cricket Association Stadium, Mohali",
         296.771,
         426
        ],
        [
         "Wankhede Stadium",
         296.474,
         419
        ],
        [
         "Holkar Cricket Stadium",
         296.2,
         371
        ],
        [
         "Punjab Cricket Association IS Bindra Stadium Mohali",
         296.0,
         380
        ],
        [
         "M Chinnaswamy Stadium",
         292.788,
         387
        ],
        [
         "Feroz Shah Kotla",
         290.467,
         408
        ],
        [
         "Sharjah Cricket Stadium",
         286.167,
         365
        ],
        [
         "De Beers Diamond Oval",
         285.0,
         319
        ],
        [
         "Rajiv Gandhi International Stadium, Uppal",
         284.415,
         417
        ],
        [
         "SuperSport Park",
         284.167,
         348
        ],
        [
         "Eden Gardens",
         279.869,
         386
        ],
        [
         "JSCA International Stadium Complex",
         279.286,
         361
        ],
        [
         "Sawai Mansingh Stadium",
         278.121,
         374
        ],
        [
         "Shaheed Veer Narayan Singh International Stadium",
         277.167,
         312
        ],
        [
         "Dubai International Cricket Stadium",
         276.429,
         352
        ],
        [
         "Vidarbha Cricket Association Stadium, Jamtha",
         272.333,
         290
        ],
        [
         "Dr. Y.S. Rajasekhara Reddy ACA-VDCA Cricket Stadium",
         272.273,
         333
        ],
        [
         "St George's Park",
         271.714,
         290
        ],
        [
         "Kingsmead",
         270.667,
         353
        ],
        [
         "New Wanderers Stadium",
         270.0,
         303
        ],
        [
         "Subrata Roy Sahara Stadium",
         264.235,
         339
        ],
        [
         "Dr DY Patil Sports Academy",
         262.647,
         355
        ],
        [
         "Sheikh Zayed Stadium",
         261.714,
         390
        ],
        [
         "Nehru Stadium",
         255.4,
         291
        ],
        [
         "Buffalo Park",
         246.667,
         265
        ],
        [
         "Newlands",
         239.714,
         328
        ],
        [
         "OUTsurance Oval",
         238.0,
         261
        ]
       ],
       "datasetInfos": [],
       "dbfsResultPath": null,
       "isJsonSchema": true,
       "metadata": {},
       "overflow": false,
       "plotOptions": {
        "customPlotOptions": {},
        "displayType": "table",
        "pivotAggregation": null,
        "pivotColumns": null,
        "xColumns": null,
        "yColumns": null
       },
       "removedWidgets": [],
       "schema": [
        {
         "metadata": "{}",
         "name": "venue_name",
         "type": "\"string\""
        },
        {
         "metadata": "{}",
         "name": "Average_Runs",
         "type": "\"double\""
        },
        {
         "metadata": "{}",
         "name": "Highest_Total",
         "type": "\"long\""
        }
       ],
       "type": "table"
      }
     },
     "output_type": "display_data"
    },
    {
     "output_type": "display_data",
     "data": {
      "text/plain": [
       "Databricks visualization. Run in Databricks to view."
      ]
     },
     "metadata": {
      "application/vnd.databricks.v1.subcommand+json": {
       "baseErrorDetails": null,
       "bindings": {},
       "collapsed": false,
       "command": "%python\n__backend_agg_display_orig = display\n__backend_agg_dfs = []\ndef __backend_agg_display_new(df):\n    __backend_agg_df_modules = [\"pandas.core.frame\", \"databricks.koalas.frame\", \"pyspark.sql.dataframe\", \"pyspark.pandas.frame\", \"pyspark.sql.connect.dataframe\"]\n    if (type(df).__module__ in __backend_agg_df_modules and type(df).__name__ == 'DataFrame') or isinstance(df, list):\n        __backend_agg_dfs.append(df)\n\ndisplay = __backend_agg_display_new\n\ndef __backend_agg_user_code_fn():\n    import base64\n    exec(base64.standard_b64decode(\"ZGlzcGxheShzY29yZXNfYnlfdmVudWVzKQ==\").decode())\n\ntry:\n    # run user code\n    __backend_agg_user_code_fn()\n\n    #reset display function\n    display = __backend_agg_display_orig\n\n    if len(__backend_agg_dfs) > 0:\n        # create a temp view\n        if type(__backend_agg_dfs[0]).__module__ == \"databricks.koalas.frame\":\n            # koalas dataframe\n            __backend_agg_dfs[0].to_spark().createOrReplaceTempView(\"DatabricksView3fc49ea\")\n        elif type(__backend_agg_dfs[0]).__module__ == \"pandas.core.frame\" or isinstance(__backend_agg_dfs[0], list):\n            # pandas dataframe\n            spark.createDataFrame(__backend_agg_dfs[0]).createOrReplaceTempView(\"DatabricksView3fc49ea\")\n        else:\n            __backend_agg_dfs[0].createOrReplaceTempView(\"DatabricksView3fc49ea\")\n        #run backend agg\n        display(spark.sql(\"\"\"WITH q AS (select * from DatabricksView3fc49ea) SELECT `venue_name`,AVG(`Average_Runs`) `column_20f9f81f52` FROM q GROUP BY `venue_name`\"\"\"))\n    else:\n        displayHTML(\"dataframe no longer exists. If you're using dataframe.display(), use display(dataframe) instead.\")\n\n\nfinally:\n    spark.sql(\"drop view if exists DatabricksView3fc49ea\")\n    display = __backend_agg_display_orig\n    del __backend_agg_display_new\n    del __backend_agg_display_orig\n    del __backend_agg_dfs\n    del __backend_agg_user_code_fn\n\n",
       "commandTitle": "Visualization 1",
       "commandType": "auto",
       "commandVersion": 0,
       "commentThread": [],
       "commentsVisible": false,
       "contentSha256Hex": null,
       "customPlotOptions": {
        "redashChart": [
         {
          "key": "type",
          "value": "CHART"
         },
         {
          "key": "options",
          "value": {
           "alignYAxesAtZero": true,
           "coefficient": 1,
           "columnConfigurationMap": {
            "x": {
             "column": "venue_name",
             "id": "column_20f9f81f55"
            },
            "y": [
             {
              "column": "Average_Runs",
              "id": "column_20f9f81f52",
              "transform": "AVG"
             }
            ]
           },
           "dateTimeFormat": "DD/MM/YYYY HH:mm",
           "direction": {
            "type": "counterclockwise"
           },
           "error_y": {
            "type": "data",
            "visible": true
           },
           "globalSeriesType": "column",
           "isAggregationOn": true,
           "legend": {
            "traceorder": "normal"
           },
           "missingValuesAsZero": true,
           "numberFormat": "0,0.[00000]",
           "percentFormat": "0[.]00%",
           "series": {
            "error_y": {
             "type": "data",
             "visible": true
            },
            "stacking": null
           },
           "seriesOptions": {
            "column_20f9f81f52": {
             "color": "#00B6EB",
             "name": "Highest_Total",
             "type": "column",
             "yAxis": 0
            }
           },
           "showDataLabels": false,
           "sizemode": "diameter",
           "sortX": true,
           "sortY": true,
           "swappedAxes": true,
           "textFormat": "",
           "useAggregationsUi": true,
           "valuesOptions": {},
           "version": 2,
           "xAxis": {
            "labels": {
             "enabled": true
            },
            "title": {
             "text": null
            },
            "type": "-"
           },
           "yAxis": [
            {
             "title": {
              "text": "Average_runs"
             },
             "type": "-"
            },
            {
             "opposite": true,
             "type": "-"
            }
           ]
          }
         }
        ]
       },
       "datasetPreviewNameToCmdIdMap": {},
       "diffDeletes": [],
       "diffInserts": [],
       "displayType": "redashChart",
       "error": null,
       "errorDetails": null,
       "errorSummary": null,
       "errorTraceType": null,
       "finishTime": 0,
       "globalVars": {},
       "guid": "",
       "height": "auto",
       "hideCommandCode": false,
       "hideCommandResult": false,
       "iPythonMetadata": null,
       "inputWidgets": {},
       "isLockedInExamMode": false,
       "latestUser": "a user",
       "latestUserId": null,
       "listResultMetadata": null,
       "metadata": {},
       "nuid": "ce42130c-a709-4643-a321-096ce888124f",
       "origId": 0,
       "parentHierarchy": [],
       "pivotAggregation": null,
       "pivotColumns": null,
       "position": 22.0,
       "resultDbfsErrorMessage": null,
       "resultDbfsStatus": "INLINED_IN_TREE",
       "results": null,
       "showCommandTitle": false,
       "startTime": 0,
       "state": "input",
       "streamStates": {},
       "subcommandOptions": {
        "queryPlan": {
         "groups": [
          {
           "column": "venue_name",
           "type": "column"
          }
         ],
         "selects": [
          {
           "column": "venue_name",
           "type": "column"
          },
          {
           "alias": "column_20f9f81f52",
           "args": [
            {
             "column": "Average_Runs",
             "type": "column"
            }
           ],
           "function": "AVG",
           "type": "function"
          }
         ]
        }
       },
       "submitTime": 0,
       "subtype": "tableResultSubCmd.visualization",
       "tableResultIndex": 0,
       "useConsistentColors": false,
       "version": "CommandV1",
       "width": "auto",
       "workflows": [],
       "xColumns": null,
       "yColumns": null
      }
     },
     "output_type": "display_data"
    }
   ],
   "source": [
    "display(scores_by_venues)"
   ]
  },
  {
   "cell_type": "code",
   "execution_count": 0,
   "metadata": {
    "application/vnd.databricks.v1+cell": {
     "cellMetadata": {
      "byteLimit": 2048000,
      "implicitDf": true,
      "rowLimit": 10000
     },
     "inputWidgets": {},
     "nuid": "eab17082-64b8-4791-b5fd-5f875996c550",
     "showTitle": false,
     "title": ""
    }
   },
   "outputs": [],
   "source": [
    "dismissal_types = spark.sql(\"\"\"\n",
    "select out_type, count(1) as Frequency\n",
    "from ball_by_ball\n",
    "where out_type not in ('Not Applicable')\n",
    "group by out_type\"\"\")\n"
   ]
  },
  {
   "cell_type": "code",
   "execution_count": 0,
   "metadata": {
    "application/vnd.databricks.v1+cell": {
     "cellMetadata": {
      "byteLimit": 2048000,
      "rowLimit": 10000
     },
     "inputWidgets": {},
     "nuid": "4bdaa18a-7d1a-4d7d-9276-a035d0e5108d",
     "showTitle": false,
     "title": ""
    }
   },
   "outputs": [
    {
     "output_type": "display_data",
     "data": {
      "text/html": [
       "<style scoped>\n",
       "  .table-result-container {\n",
       "    max-height: 300px;\n",
       "    overflow: auto;\n",
       "  }\n",
       "  table, th, td {\n",
       "    border: 1px solid black;\n",
       "    border-collapse: collapse;\n",
       "  }\n",
       "  th, td {\n",
       "    padding: 5px;\n",
       "  }\n",
       "  th {\n",
       "    text-align: left;\n",
       "  }\n",
       "</style><div class='table-result-container'><table class='table-result'><thead style='background-color: white'><tr><th>out_type</th><th>Frequency</th></tr></thead><tbody><tr><td>stumped</td><td>222</td></tr><tr><td>hit wicket</td><td>9</td></tr><tr><td>bowled</td><td>1382</td></tr><tr><td>lbw</td><td>455</td></tr><tr><td>caught and bowled</td><td>211</td></tr><tr><td>Keeper Catch</td><td>695</td></tr><tr><td>retired hurt</td><td>9</td></tr><tr><td>caught</td><td>3678</td></tr><tr><td>run out</td><td>744</td></tr><tr><td>obstructing the field</td><td>1</td></tr></tbody></table></div>"
      ]
     },
     "metadata": {
      "application/vnd.databricks.v1+output": {
       "addedWidgets": {},
       "aggData": [],
       "aggError": "",
       "aggOverflow": false,
       "aggSchema": [],
       "aggSeriesLimitReached": false,
       "aggType": "",
       "arguments": {},
       "columnCustomDisplayInfos": {},
       "data": [
        [
         "stumped",
         222
        ],
        [
         "hit wicket",
         9
        ],
        [
         "bowled",
         1382
        ],
        [
         "lbw",
         455
        ],
        [
         "caught and bowled",
         211
        ],
        [
         "Keeper Catch",
         695
        ],
        [
         "retired hurt",
         9
        ],
        [
         "caught",
         3678
        ],
        [
         "run out",
         744
        ],
        [
         "obstructing the field",
         1
        ]
       ],
       "datasetInfos": [],
       "dbfsResultPath": null,
       "isJsonSchema": true,
       "metadata": {},
       "overflow": false,
       "plotOptions": {
        "customPlotOptions": {},
        "displayType": "table",
        "pivotAggregation": null,
        "pivotColumns": null,
        "xColumns": null,
        "yColumns": null
       },
       "removedWidgets": [],
       "schema": [
        {
         "metadata": "{}",
         "name": "out_type",
         "type": "\"string\""
        },
        {
         "metadata": "{}",
         "name": "Frequency",
         "type": "\"long\""
        }
       ],
       "type": "table"
      }
     },
     "output_type": "display_data"
    },
    {
     "output_type": "display_data",
     "data": {
      "text/plain": [
       "Databricks visualization. Run in Databricks to view."
      ]
     },
     "metadata": {
      "application/vnd.databricks.v1.subcommand+json": {
       "baseErrorDetails": null,
       "bindings": {},
       "collapsed": false,
       "command": "%python\n__backend_agg_display_orig = display\n__backend_agg_dfs = []\ndef __backend_agg_display_new(df):\n    __backend_agg_df_modules = [\"pandas.core.frame\", \"databricks.koalas.frame\", \"pyspark.sql.dataframe\", \"pyspark.pandas.frame\", \"pyspark.sql.connect.dataframe\"]\n    if (type(df).__module__ in __backend_agg_df_modules and type(df).__name__ == 'DataFrame') or isinstance(df, list):\n        __backend_agg_dfs.append(df)\n\ndisplay = __backend_agg_display_new\n\ndef __backend_agg_user_code_fn():\n    import base64\n    exec(base64.standard_b64decode(\"ZGlzcGxheShkaXNtaXNzYWxfdHlwZXMp\").decode())\n\ntry:\n    # run user code\n    __backend_agg_user_code_fn()\n\n    #reset display function\n    display = __backend_agg_display_orig\n\n    if len(__backend_agg_dfs) > 0:\n        # create a temp view\n        if type(__backend_agg_dfs[0]).__module__ == \"databricks.koalas.frame\":\n            # koalas dataframe\n            __backend_agg_dfs[0].to_spark().createOrReplaceTempView(\"DatabricksView46519c2\")\n        elif type(__backend_agg_dfs[0]).__module__ == \"pandas.core.frame\" or isinstance(__backend_agg_dfs[0], list):\n            # pandas dataframe\n            spark.createDataFrame(__backend_agg_dfs[0]).createOrReplaceTempView(\"DatabricksView46519c2\")\n        else:\n            __backend_agg_dfs[0].createOrReplaceTempView(\"DatabricksView46519c2\")\n        #run backend agg\n        display(spark.sql(\"\"\"WITH q AS (select * from DatabricksView46519c2) SELECT `out_type`,SUM(`Frequency`) `column_20f9f81f62` FROM q GROUP BY `out_type`\"\"\"))\n    else:\n        displayHTML(\"dataframe no longer exists. If you're using dataframe.display(), use display(dataframe) instead.\")\n\n\nfinally:\n    spark.sql(\"drop view if exists DatabricksView46519c2\")\n    display = __backend_agg_display_orig\n    del __backend_agg_display_new\n    del __backend_agg_display_orig\n    del __backend_agg_dfs\n    del __backend_agg_user_code_fn\n\n",
       "commandTitle": "Visualization 1",
       "commandType": "auto",
       "commandVersion": 0,
       "commentThread": [],
       "commentsVisible": false,
       "contentSha256Hex": null,
       "customPlotOptions": {
        "redashChart": [
         {
          "key": "type",
          "value": "CHART"
         },
         {
          "key": "options",
          "value": {
           "alignYAxesAtZero": true,
           "coefficient": 1,
           "columnConfigurationMap": {
            "x": {
             "column": "out_type",
             "id": "column_20f9f81f61"
            },
            "y": [
             {
              "column": "Frequency",
              "id": "column_20f9f81f62",
              "transform": "SUM"
             }
            ]
           },
           "dateTimeFormat": "DD/MM/YYYY HH:mm",
           "direction": {
            "type": "counterclockwise"
           },
           "error_y": {
            "type": "data",
            "visible": true
           },
           "globalSeriesType": "column",
           "isAggregationOn": true,
           "legend": {
            "traceorder": "normal"
           },
           "missingValuesAsZero": true,
           "numberFormat": "0,0.[00000]",
           "percentFormat": "0[.]00%",
           "series": {
            "error_y": {
             "type": "data",
             "visible": true
            },
            "stacking": null
           },
           "seriesOptions": {
            "column_20f9f81f62": {
             "color": "#981717",
             "name": "Frequency",
             "yAxis": 0
            }
           },
           "showDataLabels": false,
           "sizemode": "diameter",
           "sortX": true,
           "sortY": true,
           "swappedAxes": true,
           "textFormat": "",
           "useAggregationsUi": true,
           "valuesOptions": {},
           "version": 2,
           "xAxis": {
            "labels": {
             "enabled": true
            },
            "type": "-"
           },
           "yAxis": [
            {
             "type": "-"
            },
            {
             "opposite": true,
             "type": "-"
            }
           ]
          }
         }
        ]
       },
       "datasetPreviewNameToCmdIdMap": {},
       "diffDeletes": [],
       "diffInserts": [],
       "displayType": "redashChart",
       "error": null,
       "errorDetails": null,
       "errorSummary": null,
       "errorTraceType": null,
       "finishTime": 0,
       "globalVars": {},
       "guid": "",
       "height": "auto",
       "hideCommandCode": false,
       "hideCommandResult": false,
       "iPythonMetadata": null,
       "inputWidgets": {},
       "isLockedInExamMode": false,
       "latestUser": "a user",
       "latestUserId": null,
       "listResultMetadata": null,
       "metadata": {},
       "nuid": "2380016a-bcb5-46f8-941f-79b982865122",
       "origId": 0,
       "parentHierarchy": [],
       "pivotAggregation": null,
       "pivotColumns": null,
       "position": 24.0,
       "resultDbfsErrorMessage": null,
       "resultDbfsStatus": "INLINED_IN_TREE",
       "results": null,
       "showCommandTitle": false,
       "startTime": 0,
       "state": "input",
       "streamStates": {},
       "subcommandOptions": {
        "queryPlan": {
         "groups": [
          {
           "column": "out_type",
           "type": "column"
          }
         ],
         "selects": [
          {
           "column": "out_type",
           "type": "column"
          },
          {
           "alias": "column_20f9f81f62",
           "args": [
            {
             "column": "Frequency",
             "type": "column"
            }
           ],
           "function": "SUM",
           "type": "function"
          }
         ]
        }
       },
       "submitTime": 0,
       "subtype": "tableResultSubCmd.visualization",
       "tableResultIndex": 0,
       "useConsistentColors": false,
       "version": "CommandV1",
       "width": "auto",
       "workflows": [],
       "xColumns": null,
       "yColumns": null
      }
     },
     "output_type": "display_data"
    }
   ],
   "source": [
    "display(dismissal_types)"
   ]
  },
  {
   "cell_type": "code",
   "execution_count": 0,
   "metadata": {
    "application/vnd.databricks.v1+cell": {
     "cellMetadata": {
      "byteLimit": 2048000,
      "implicitDf": true,
      "rowLimit": 10000
     },
     "inputWidgets": {},
     "nuid": "ac0fd3c5-8279-4b72-b685-a93106b81f01",
     "showTitle": false,
     "title": ""
    }
   },
   "outputs": [
    {
     "output_type": "display_data",
     "data": {
      "text/html": [
       "<style scoped>\n",
       "  .table-result-container {\n",
       "    max-height: 300px;\n",
       "    overflow: auto;\n",
       "  }\n",
       "  table, th, td {\n",
       "    border: 1px solid black;\n",
       "    border-collapse: collapse;\n",
       "  }\n",
       "  th, td {\n",
       "    padding: 5px;\n",
       "  }\n",
       "  th {\n",
       "    text-align: left;\n",
       "  }\n",
       "</style><div class='table-result-container'><table class='table-result'><thead style='background-color: white'><tr><th>Team</th><th>win_after_toss</th><th>matches_won</th><th>Win_prob_after_tosswin</th></tr></thead><tbody><tr><td>Chennai Super Kings</td><td>27</td><td>37</td><td>0.73</td></tr><tr><td>Deccan Chargers</td><td>6</td><td>22</td><td>0.273</td></tr><tr><td>Delhi Daredevils</td><td>17</td><td>36</td><td>0.472</td></tr><tr><td>Gujarat Lions</td><td>3</td><td>7</td><td>0.429</td></tr><tr><td>Kings XI Punjab</td><td>14</td><td>32</td><td>0.438</td></tr><tr><td>Kochi Tuskers Kerala</td><td>2</td><td>4</td><td>0.5</td></tr><tr><td>Kolkata Knight Riders</td><td>24</td><td>36</td><td>0.667</td></tr><tr><td>Mumbai Indians</td><td>26</td><td>42</td><td>0.619</td></tr><tr><td>Pune Warriors</td><td>2</td><td>10</td><td>0.2</td></tr><tr><td>Rajasthan Royals</td><td>16</td><td>25</td><td>0.64</td></tr><tr><td>Rising Pune Supergiants</td><td>4</td><td>6</td><td>0.667</td></tr><tr><td>Royal Challengers Bangalore</td><td>19</td><td>34</td><td>0.559</td></tr><tr><td>Sunrisers Hyderabad</td><td>8</td><td>16</td><td>0.5</td></tr></tbody></table></div>"
      ]
     },
     "metadata": {
      "application/vnd.databricks.v1+output": {
       "addedWidgets": {},
       "aggData": [],
       "aggError": "",
       "aggOverflow": false,
       "aggSchema": [],
       "aggSeriesLimitReached": false,
       "aggType": "",
       "arguments": {},
       "columnCustomDisplayInfos": {},
       "data": [
        [
         "Chennai Super Kings",
         27,
         37,
         0.73
        ],
        [
         "Deccan Chargers",
         6,
         22,
         0.273
        ],
        [
         "Delhi Daredevils",
         17,
         36,
         0.472
        ],
        [
         "Gujarat Lions",
         3,
         7,
         0.429
        ],
        [
         "Kings XI Punjab",
         14,
         32,
         0.438
        ],
        [
         "Kochi Tuskers Kerala",
         2,
         4,
         0.5
        ],
        [
         "Kolkata Knight Riders",
         24,
         36,
         0.667
        ],
        [
         "Mumbai Indians",
         26,
         42,
         0.619
        ],
        [
         "Pune Warriors",
         2,
         10,
         0.2
        ],
        [
         "Rajasthan Royals",
         16,
         25,
         0.64
        ],
        [
         "Rising Pune Supergiants",
         4,
         6,
         0.667
        ],
        [
         "Royal Challengers Bangalore",
         19,
         34,
         0.559
        ],
        [
         "Sunrisers Hyderabad",
         8,
         16,
         0.5
        ]
       ],
       "datasetInfos": [],
       "dbfsResultPath": null,
       "isJsonSchema": true,
       "metadata": {},
       "overflow": false,
       "plotOptions": {
        "customPlotOptions": {},
        "displayType": "table",
        "pivotAggregation": null,
        "pivotColumns": null,
        "xColumns": null,
        "yColumns": null
       },
       "removedWidgets": [],
       "schema": [
        {
         "metadata": "{}",
         "name": "Team",
         "type": "\"string\""
        },
        {
         "metadata": "{}",
         "name": "win_after_toss",
         "type": "\"long\""
        },
        {
         "metadata": "{}",
         "name": "matches_won",
         "type": "\"long\""
        },
        {
         "metadata": "{}",
         "name": "Win_prob_after_tosswin",
         "type": "\"double\""
        }
       ],
       "type": "table"
      }
     },
     "output_type": "display_data"
    },
    {
     "output_type": "display_data",
     "data": {
      "text/plain": [
       "Databricks visualization. Run in Databricks to view."
      ]
     },
     "metadata": {
      "application/vnd.databricks.v1.subcommand+json": {
       "baseErrorDetails": null,
       "bindings": {},
       "collapsed": false,
       "command": "%sql WITH q AS (select team1 as Team, SUM(case when toss_winner = match_winner then 1 else 0 end) as win_after_toss, count(*) as matches_won, round((win_after_toss/matches_won),3) as Win_prob_after_tosswin\nfrom matches \nwhere toss_winner = team1\ngroup by Team\norder by Team) SELECT `Team`,AVG(`matches_won`) `column_b213d3c13`,AVG(`win_after_toss`) `column_b213d3c16` FROM q GROUP BY `Team`",
       "commandTitle": "Visualization 1",
       "commandType": "auto",
       "commandVersion": 0,
       "commentThread": [],
       "commentsVisible": false,
       "contentSha256Hex": null,
       "customPlotOptions": {
        "redashChart": [
         {
          "key": "type",
          "value": "CHART"
         },
         {
          "key": "options",
          "value": {
           "alignYAxesAtZero": true,
           "coefficient": 1,
           "columnConfigurationMap": {
            "x": {
             "column": "Team",
             "id": "column_b213d3c11"
            },
            "y": [
             {
              "column": "matches_won",
              "id": "column_b213d3c13",
              "transform": "AVG"
             },
             {
              "column": "win_after_toss",
              "id": "column_b213d3c16",
              "transform": "AVG"
             }
            ]
           },
           "dateTimeFormat": "DD/MM/YYYY HH:mm",
           "direction": {
            "type": "counterclockwise"
           },
           "error_y": {
            "type": "data",
            "visible": true
           },
           "globalSeriesType": "column",
           "isAggregationOn": true,
           "legend": {
            "traceorder": "normal"
           },
           "missingValuesAsZero": true,
           "numberFormat": "0,0.[00000]",
           "percentFormat": "0[.]00%",
           "series": {
            "error_y": {
             "type": "data",
             "visible": true
            },
            "stacking": null
           },
           "seriesOptions": {
            "column_b213d3c13": {
             "color": "#356AFF",
             "name": "match_won",
             "type": "column",
             "yAxis": 0
            },
            "column_b213d3c16": {
             "color": "#FF7DE3",
             "name": "won_after_tosswin",
             "type": "column",
             "yAxis": 0
            }
           },
           "showDataLabels": false,
           "sizemode": "diameter",
           "sortX": true,
           "sortY": true,
           "swappedAxes": true,
           "textFormat": "",
           "useAggregationsUi": true,
           "valuesOptions": {},
           "version": 2,
           "xAxis": {
            "labels": {
             "enabled": true
            },
            "type": "-"
           },
           "yAxis": [
            {
             "type": "-"
            },
            {
             "opposite": true,
             "type": "-"
            }
           ]
          }
         }
        ]
       },
       "datasetPreviewNameToCmdIdMap": {},
       "diffDeletes": [],
       "diffInserts": [],
       "displayType": "redashChart",
       "error": null,
       "errorDetails": null,
       "errorSummary": null,
       "errorTraceType": null,
       "finishTime": 0,
       "globalVars": {},
       "guid": "",
       "height": "auto",
       "hideCommandCode": false,
       "hideCommandResult": false,
       "iPythonMetadata": null,
       "inputWidgets": {},
       "isLockedInExamMode": false,
       "latestUser": "a user",
       "latestUserId": null,
       "listResultMetadata": null,
       "metadata": {},
       "nuid": "ecb51394-9005-4795-bd4f-272d8f187adc",
       "origId": 0,
       "parentHierarchy": [],
       "pivotAggregation": null,
       "pivotColumns": null,
       "position": 25.0,
       "resultDbfsErrorMessage": null,
       "resultDbfsStatus": "INLINED_IN_TREE",
       "results": null,
       "showCommandTitle": false,
       "startTime": 0,
       "state": "input",
       "streamStates": {},
       "subcommandOptions": {
        "queryPlan": {
         "groups": [
          {
           "column": "Team",
           "type": "column"
          }
         ],
         "selects": [
          {
           "column": "Team",
           "type": "column"
          },
          {
           "alias": "column_b213d3c13",
           "args": [
            {
             "column": "matches_won",
             "type": "column"
            }
           ],
           "function": "AVG",
           "type": "function"
          },
          {
           "alias": "column_b213d3c16",
           "args": [
            {
             "column": "win_after_toss",
             "type": "column"
            }
           ],
           "function": "AVG",
           "type": "function"
          }
         ]
        }
       },
       "submitTime": 0,
       "subtype": "tableResultSubCmd.visualization",
       "tableResultIndex": 0,
       "useConsistentColors": false,
       "version": "CommandV1",
       "width": "auto",
       "workflows": [],
       "xColumns": null,
       "yColumns": null
      }
     },
     "output_type": "display_data"
    }
   ],
   "source": [
    "%sql\n",
    "select team1 as Team, SUM(case when toss_winner = match_winner then 1 else 0 end) as win_after_toss, count(*) as matches_won, round((win_after_toss/matches_won),3) as Win_prob_after_tosswin\n",
    "from matches \n",
    "where toss_winner = team1\n",
    "group by Team\n",
    "order by Team;\n"
   ]
  },
  {
   "cell_type": "code",
   "execution_count": 0,
   "metadata": {
    "application/vnd.databricks.v1+cell": {
     "cellMetadata": {
      "byteLimit": 2048000,
      "implicitDf": true,
      "rowLimit": 10000
     },
     "inputWidgets": {},
     "nuid": "fad736ed-67db-4335-aba0-12ba9767071b",
     "showTitle": false,
     "title": ""
    }
   },
   "outputs": [
    {
     "output_type": "display_data",
     "data": {
      "text/html": [
       "<style scoped>\n",
       "  .table-result-container {\n",
       "    max-height: 300px;\n",
       "    overflow: auto;\n",
       "  }\n",
       "  table, th, td {\n",
       "    border: 1px solid black;\n",
       "    border-collapse: collapse;\n",
       "  }\n",
       "  th, td {\n",
       "    padding: 5px;\n",
       "  }\n",
       "  th {\n",
       "    text-align: left;\n",
       "  }\n",
       "</style><div class='table-result-container'><table class='table-result'><thead style='background-color: white'><tr><th>team1</th><th>count(team1)</th></tr></thead><tbody><tr><td>Royal Challengers Bangalore</td><td>85</td></tr><tr><td>Delhi Daredevils</td><td>76</td></tr><tr><td>Chennai Super Kings</td><td>74</td></tr><tr><td>Kings XI Punjab</td><td>72</td></tr><tr><td>Mumbai Indians</td><td>72</td></tr><tr><td>Kolkata Knight Riders</td><td>69</td></tr><tr><td>Rajasthan Royals</td><td>52</td></tr><tr><td>Deccan Chargers</td><td>39</td></tr><tr><td>Sunrisers Hyderabad</td><td>38</td></tr><tr><td>Pune Warriors</td><td>23</td></tr><tr><td>Gujarat Lions</td><td>16</td></tr><tr><td>Rising Pune Supergiants</td><td>14</td></tr><tr><td>Kochi Tuskers Kerala</td><td>7</td></tr></tbody></table></div>"
      ]
     },
     "metadata": {
      "application/vnd.databricks.v1+output": {
       "addedWidgets": {},
       "aggData": [],
       "aggError": "",
       "aggOverflow": false,
       "aggSchema": [],
       "aggSeriesLimitReached": false,
       "aggType": "",
       "arguments": {},
       "columnCustomDisplayInfos": {},
       "data": [
        [
         "Royal Challengers Bangalore",
         85
        ],
        [
         "Delhi Daredevils",
         76
        ],
        [
         "Chennai Super Kings",
         74
        ],
        [
         "Kings XI Punjab",
         72
        ],
        [
         "Mumbai Indians",
         72
        ],
        [
         "Kolkata Knight Riders",
         69
        ],
        [
         "Rajasthan Royals",
         52
        ],
        [
         "Deccan Chargers",
         39
        ],
        [
         "Sunrisers Hyderabad",
         38
        ],
        [
         "Pune Warriors",
         23
        ],
        [
         "Gujarat Lions",
         16
        ],
        [
         "Rising Pune Supergiants",
         14
        ],
        [
         "Kochi Tuskers Kerala",
         7
        ]
       ],
       "datasetInfos": [],
       "dbfsResultPath": null,
       "isJsonSchema": true,
       "metadata": {},
       "overflow": false,
       "plotOptions": {
        "customPlotOptions": {},
        "displayType": "table",
        "pivotAggregation": null,
        "pivotColumns": null,
        "xColumns": null,
        "yColumns": null
       },
       "removedWidgets": [],
       "schema": [
        {
         "metadata": "{}",
         "name": "team1",
         "type": "\"string\""
        },
        {
         "metadata": "{\"__autoGeneratedAlias\":\"true\"}",
         "name": "count(team1)",
         "type": "\"long\""
        }
       ],
       "type": "table"
      }
     },
     "output_type": "display_data"
    }
   ],
   "source": [
    "%sql\n",
    "select team1,count(team1) from matches\n",
    "group by team1\n",
    "order by 2 desc;"
   ]
  },
  {
   "cell_type": "code",
   "execution_count": 0,
   "metadata": {
    "application/vnd.databricks.v1+cell": {
     "cellMetadata": {
      "byteLimit": 2048000,
      "implicitDf": true,
      "rowLimit": 10000
     },
     "inputWidgets": {},
     "nuid": "eaf296a1-214f-4305-8919-5e00bbad8db1",
     "showTitle": false,
     "title": ""
    }
   },
   "outputs": [],
   "source": [
    "most_wicket_each_season = spark.sql(\"\"\"\n",
    "select t.player_name,t.season_year,t.total_wickets as No_of_wicket from\n",
    "(select p.player_name,p.season_year,sum(case when b.out_type = 'Not Applicable' then 0 else 1 end) as total_wickets,dense_rank() over(partition by p.season_year order by sum(case when b.out_type = 'Not Applicable' then 0 else 1 end) desc) as rnk\n",
    "from ball_by_ball b \n",
    "join player_match p on p.player_id = b.bowler and p.match_id = b.match_id\n",
    "group by 1,2\n",
    "order by 2,total_wickets desc) t\n",
    "where rnk = 1\n",
    "order by 2\"\"\")"
   ]
  },
  {
   "cell_type": "code",
   "execution_count": 0,
   "metadata": {
    "application/vnd.databricks.v1+cell": {
     "cellMetadata": {
      "byteLimit": 2048000,
      "rowLimit": 10000
     },
     "inputWidgets": {},
     "nuid": "79f2b549-d0b5-4b9c-a294-5e634f8a60ec",
     "showTitle": false,
     "title": ""
    }
   },
   "outputs": [
    {
     "output_type": "display_data",
     "data": {
      "text/html": [
       "<style scoped>\n",
       "  .table-result-container {\n",
       "    max-height: 300px;\n",
       "    overflow: auto;\n",
       "  }\n",
       "  table, th, td {\n",
       "    border: 1px solid black;\n",
       "    border-collapse: collapse;\n",
       "  }\n",
       "  th, td {\n",
       "    padding: 5px;\n",
       "  }\n",
       "  th {\n",
       "    text-align: left;\n",
       "  }\n",
       "</style><div class='table-result-container'><table class='table-result'><thead style='background-color: white'><tr><th>player_name</th><th>season_year</th><th>No_of_wicket</th></tr></thead><tbody><tr><td>Sohail Tanvir</td><td>2008</td><td>24</td></tr><tr><td>RP Singh</td><td>2009</td><td>26</td></tr><tr><td>PP Ojha</td><td>2010</td><td>22</td></tr><tr><td>SL Malinga</td><td>2011</td><td>30</td></tr><tr><td>M Morkel</td><td>2012</td><td>30</td></tr><tr><td>DJ Bravo</td><td>2013</td><td>34</td></tr><tr><td>MM Sharma</td><td>2014</td><td>26</td></tr><tr><td>DJ Bravo</td><td>2015</td><td>27</td></tr><tr><td>B Kumar</td><td>2016</td><td>24</td></tr><tr><td>B Kumar</td><td>2017</td><td>28</td></tr></tbody></table></div>"
      ]
     },
     "metadata": {
      "application/vnd.databricks.v1+output": {
       "addedWidgets": {},
       "aggData": [],
       "aggError": "",
       "aggOverflow": false,
       "aggSchema": [],
       "aggSeriesLimitReached": false,
       "aggType": "",
       "arguments": {},
       "columnCustomDisplayInfos": {},
       "data": [
        [
         "Sohail Tanvir",
         2008,
         24
        ],
        [
         "RP Singh",
         2009,
         26
        ],
        [
         "PP Ojha",
         2010,
         22
        ],
        [
         "SL Malinga",
         2011,
         30
        ],
        [
         "M Morkel",
         2012,
         30
        ],
        [
         "DJ Bravo",
         2013,
         34
        ],
        [
         "MM Sharma",
         2014,
         26
        ],
        [
         "DJ Bravo",
         2015,
         27
        ],
        [
         "B Kumar",
         2016,
         24
        ],
        [
         "B Kumar",
         2017,
         28
        ]
       ],
       "datasetInfos": [],
       "dbfsResultPath": null,
       "isJsonSchema": true,
       "metadata": {},
       "overflow": false,
       "plotOptions": {
        "customPlotOptions": {},
        "displayType": "table",
        "pivotAggregation": null,
        "pivotColumns": null,
        "xColumns": null,
        "yColumns": null
       },
       "removedWidgets": [],
       "schema": [
        {
         "metadata": "{}",
         "name": "player_name",
         "type": "\"string\""
        },
        {
         "metadata": "{}",
         "name": "season_year",
         "type": "\"integer\""
        },
        {
         "metadata": "{}",
         "name": "No_of_wicket",
         "type": "\"long\""
        }
       ],
       "type": "table"
      }
     },
     "output_type": "display_data"
    },
    {
     "output_type": "display_data",
     "data": {
      "text/plain": [
       "Databricks visualization. Run in Databricks to view."
      ]
     },
     "metadata": {
      "application/vnd.databricks.v1.subcommand+json": {
       "baseErrorDetails": null,
       "bindings": {},
       "collapsed": false,
       "command": "display(most_wicket_each_season)\n",
       "commandTitle": "Visualization 1",
       "commandType": "auto",
       "commandVersion": 0,
       "commentThread": [],
       "commentsVisible": false,
       "contentSha256Hex": null,
       "customPlotOptions": {
        "redashChart": [
         {
          "key": "type",
          "value": "DETAILS"
         },
         {
          "key": "options",
          "value": {
           "columns": [
            {
             "name": "player_name",
             "title": "player_name",
             "type": "string"
            },
            {
             "name": "season_year",
             "title": "season_year",
             "type": "integer"
            },
            {
             "name": "No_of_wicket",
             "title": "No_of_wicket",
             "type": "integer"
            }
           ],
           "version": 1
          }
         }
        ]
       },
       "datasetPreviewNameToCmdIdMap": {},
       "diffDeletes": [],
       "diffInserts": [],
       "displayType": "redashChart",
       "error": null,
       "errorDetails": null,
       "errorSummary": null,
       "errorTraceType": null,
       "finishTime": 0,
       "globalVars": {},
       "guid": "",
       "height": "auto",
       "hideCommandCode": false,
       "hideCommandResult": false,
       "iPythonMetadata": null,
       "inputWidgets": {},
       "isLockedInExamMode": false,
       "latestUser": "a user",
       "latestUserId": null,
       "listResultMetadata": null,
       "metadata": {},
       "nuid": "27efe06c-c3c1-4879-a26b-f71238952d48",
       "origId": 0,
       "parentHierarchy": [],
       "pivotAggregation": null,
       "pivotColumns": null,
       "position": 28.0,
       "resultDbfsErrorMessage": null,
       "resultDbfsStatus": "INLINED_IN_TREE",
       "results": null,
       "showCommandTitle": false,
       "startTime": 0,
       "state": "input",
       "streamStates": {},
       "subcommandOptions": {},
       "submitTime": 0,
       "subtype": "tableResultSubCmd.visualization",
       "tableResultIndex": 0,
       "useConsistentColors": false,
       "version": "CommandV1",
       "width": "auto",
       "workflows": [],
       "xColumns": null,
       "yColumns": null
      }
     },
     "output_type": "display_data"
    }
   ],
   "source": [
    "display(most_wicket_each_season)\n"
   ]
  },
  {
   "cell_type": "code",
   "execution_count": 0,
   "metadata": {
    "application/vnd.databricks.v1+cell": {
     "cellMetadata": {},
     "inputWidgets": {},
     "nuid": "fa0fe487-f66d-4fbc-84eb-855dc91d6e37",
     "showTitle": false,
     "title": ""
    }
   },
   "outputs": [],
   "source": []
  }
 ],
 "metadata": {
  "application/vnd.databricks.v1+notebook": {
   "dashboards": [
    {
     "elements": [
      {
       "dashboardResultIndex": null,
       "elementNUID": "a8f48dca-86ca-4983-81dc-c8ff0f94df66",
       "elementType": "command",
       "guid": "17a361b3-cd8e-42fa-bccf-25430f164dbb",
       "options": {
        "autoScaleImg": false,
        "scale": 0,
        "showTitle": true,
        "title": "Toss_impact_on_matches",
        "titleAlign": "center"
       },
       "position": {
        "height": 9,
        "width": 12,
        "x": 12,
        "y": 6,
        "z": null
       },
       "resultIndex": null
      },
      {
       "dashboardResultIndex": null,
       "elementNUID": "27efe06c-c3c1-4879-a26b-f71238952d48",
       "elementType": "command",
       "guid": "4a247893-df5a-4787-8d5f-d34e5401c5fe",
       "options": {
        "autoScaleImg": false,
        "scale": 0,
        "showTitle": true,
        "title": "Most_wicket_in_each_season",
        "titleAlign": "center"
       },
       "position": {
        "height": 6,
        "width": 12,
        "x": 12,
        "y": 0,
        "z": null
       },
       "resultIndex": null
      },
      {
       "dashboardResultIndex": null,
       "elementNUID": "ce42130c-a709-4643-a321-096ce888124f",
       "elementType": "command",
       "guid": "6b5665cf-0b2d-4546-8116-87b37052e3a7",
       "options": {
        "autoScaleImg": false,
        "scale": 0,
        "showTitle": true,
        "title": "Average_Runs_in_Matches_each_venue",
        "titleAlign": "center"
       },
       "position": {
        "height": 13,
        "width": 24,
        "x": 0,
        "y": 24,
        "z": null
       },
       "resultIndex": null
      },
      {
       "dashboardResultIndex": null,
       "elementNUID": "2380016a-bcb5-46f8-941f-79b982865122",
       "elementType": "command",
       "guid": "730a7b0a-c186-48e7-8db7-392929567aab",
       "options": {
        "autoScaleImg": false,
        "scale": 0,
        "showTitle": true,
        "title": "Dismissal_Type",
        "titleAlign": "center"
       },
       "position": {
        "height": 9,
        "width": 12,
        "x": 0,
        "y": 6,
        "z": null
       },
       "resultIndex": null
      },
      {
       "dashboardResultIndex": null,
       "elementNUID": "ecb51394-9005-4795-bd4f-272d8f187adc",
       "elementType": "command",
       "guid": "78545ae3-bdf3-4b8c-9f39-8720b8b1b2da",
       "options": {
        "autoScaleImg": false,
        "scale": 0,
        "showTitle": true,
        "title": "Match_won_after_Toss_win",
        "titleAlign": "center"
       },
       "position": {
        "height": 9,
        "width": 11,
        "x": 12,
        "y": 15,
        "z": null
       },
       "resultIndex": null
      },
      {
       "dashboardResultIndex": null,
       "elementNUID": "d8170cc9-ef15-40af-959c-6a869f377482",
       "elementType": "command",
       "guid": "bea604f5-eba1-4ccd-a1ed-2519a8fc7fed",
       "options": {
        "autoScaleImg": false,
        "scale": 0,
        "showTitle": true,
        "title": "Top_Scorer_in_each_season",
        "titleAlign": "center"
       },
       "position": {
        "height": 6,
        "width": 12,
        "x": 0,
        "y": 0,
        "z": null
       },
       "resultIndex": null
      },
      {
       "dashboardResultIndex": null,
       "elementNUID": "2434aad2-38e2-44f5-905b-d479de132985",
       "elementType": "command",
       "guid": "c7a40f8e-899d-4116-84f7-1d55a73d61f4",
       "options": {
        "autoScaleImg": false,
        "scale": 0,
        "showTitle": true,
        "title": "Bowlers_with_bext_economy_in_Powerplay",
        "titleAlign": "center"
       },
       "position": {
        "height": 9,
        "width": 12,
        "x": 0,
        "y": 15,
        "z": null
       },
       "resultIndex": null
      }
     ],
     "globalVars": {},
     "guid": "",
     "layoutOption": {
      "grid": true,
      "stack": true
     },
     "nuid": "294e6c12-46fa-4f09-b5c0-3e6f31bc6d05",
     "origId": 1299789199739489,
     "title": "IPL_Data_Analysis",
     "version": "DashboardViewV1",
     "width": 1024
    }
   ],
   "language": "python",
   "notebookMetadata": {
    "mostRecentlyExecutedCommandWithImplicitDF": {
     "commandId": -1,
     "dataframes": [
      "_sqldf"
     ]
    },
    "pythonIndentUnit": 4
   },
   "notebookName": "IPL_Data_Analysis",
   "widgets": {}
  }
 },
 "nbformat": 4,
 "nbformat_minor": 0
}
